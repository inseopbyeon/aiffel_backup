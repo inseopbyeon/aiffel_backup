{
 "cells": [
  {
   "cell_type": "markdown",
   "id": "c182b31e",
   "metadata": {},
   "source": [
    "# Regression for diabetes"
   ]
  },
  {
   "cell_type": "code",
   "execution_count": 94,
   "id": "65386a24",
   "metadata": {},
   "outputs": [
    {
     "data": {
      "text/plain": [
       "<module 'sklearn.datasets.data' from '/opt/conda/lib/python3.9/site-packages/sklearn/datasets/data/__init__.py'>"
      ]
     },
     "execution_count": 94,
     "metadata": {},
     "output_type": "execute_result"
    }
   ],
   "source": [
    "import pandas as pd\n",
    "import numpy as np\n",
    "\n",
    "from sklearn.datasets import load_diabetes\n",
    "\n",
    "diabetes=load_diabetes()"
   ]
  },
  {
   "cell_type": "code",
   "execution_count": 48,
   "id": "1e4d3f18",
   "metadata": {},
   "outputs": [
    {
     "data": {
      "text/plain": [
       "{'data': array([[ 0.03807591,  0.05068012,  0.06169621, ..., -0.00259226,\n",
       "          0.01990842, -0.01764613],\n",
       "        [-0.00188202, -0.04464164, -0.05147406, ..., -0.03949338,\n",
       "         -0.06832974, -0.09220405],\n",
       "        [ 0.08529891,  0.05068012,  0.04445121, ..., -0.00259226,\n",
       "          0.00286377, -0.02593034],\n",
       "        ...,\n",
       "        [ 0.04170844,  0.05068012, -0.01590626, ..., -0.01107952,\n",
       "         -0.04687948,  0.01549073],\n",
       "        [-0.04547248, -0.04464164,  0.03906215, ...,  0.02655962,\n",
       "          0.04452837, -0.02593034],\n",
       "        [-0.04547248, -0.04464164, -0.0730303 , ..., -0.03949338,\n",
       "         -0.00421986,  0.00306441]]),\n",
       " 'target': array([151.,  75., 141., 206., 135.,  97., 138.,  63., 110., 310., 101.,\n",
       "         69., 179., 185., 118., 171., 166., 144.,  97., 168.,  68.,  49.,\n",
       "         68., 245., 184., 202., 137.,  85., 131., 283., 129.,  59., 341.,\n",
       "         87.,  65., 102., 265., 276., 252.,  90., 100.,  55.,  61.,  92.,\n",
       "        259.,  53., 190., 142.,  75., 142., 155., 225.,  59., 104., 182.,\n",
       "        128.,  52.,  37., 170., 170.,  61., 144.,  52., 128.,  71., 163.,\n",
       "        150.,  97., 160., 178.,  48., 270., 202., 111.,  85.,  42., 170.,\n",
       "        200., 252., 113., 143.,  51.,  52., 210.,  65., 141.,  55., 134.,\n",
       "         42., 111.,  98., 164.,  48.,  96.,  90., 162., 150., 279.,  92.,\n",
       "         83., 128., 102., 302., 198.,  95.,  53., 134., 144., 232.,  81.,\n",
       "        104.,  59., 246., 297., 258., 229., 275., 281., 179., 200., 200.,\n",
       "        173., 180.,  84., 121., 161.,  99., 109., 115., 268., 274., 158.,\n",
       "        107.,  83., 103., 272.,  85., 280., 336., 281., 118., 317., 235.,\n",
       "         60., 174., 259., 178., 128.,  96., 126., 288.,  88., 292.,  71.,\n",
       "        197., 186.,  25.,  84.,  96., 195.,  53., 217., 172., 131., 214.,\n",
       "         59.,  70., 220., 268., 152.,  47.,  74., 295., 101., 151., 127.,\n",
       "        237., 225.,  81., 151., 107.,  64., 138., 185., 265., 101., 137.,\n",
       "        143., 141.,  79., 292., 178.,  91., 116.,  86., 122.,  72., 129.,\n",
       "        142.,  90., 158.,  39., 196., 222., 277.,  99., 196., 202., 155.,\n",
       "         77., 191.,  70.,  73.,  49.,  65., 263., 248., 296., 214., 185.,\n",
       "         78.,  93., 252., 150.,  77., 208.,  77., 108., 160.,  53., 220.,\n",
       "        154., 259.,  90., 246., 124.,  67.,  72., 257., 262., 275., 177.,\n",
       "         71.,  47., 187., 125.,  78.,  51., 258., 215., 303., 243.,  91.,\n",
       "        150., 310., 153., 346.,  63.,  89.,  50.,  39., 103., 308., 116.,\n",
       "        145.,  74.,  45., 115., 264.,  87., 202., 127., 182., 241.,  66.,\n",
       "         94., 283.,  64., 102., 200., 265.,  94., 230., 181., 156., 233.,\n",
       "         60., 219.,  80.,  68., 332., 248.,  84., 200.,  55.,  85.,  89.,\n",
       "         31., 129.,  83., 275.,  65., 198., 236., 253., 124.,  44., 172.,\n",
       "        114., 142., 109., 180., 144., 163., 147.,  97., 220., 190., 109.,\n",
       "        191., 122., 230., 242., 248., 249., 192., 131., 237.,  78., 135.,\n",
       "        244., 199., 270., 164.,  72.,  96., 306.,  91., 214.,  95., 216.,\n",
       "        263., 178., 113., 200., 139., 139.,  88., 148.,  88., 243.,  71.,\n",
       "         77., 109., 272.,  60.,  54., 221.,  90., 311., 281., 182., 321.,\n",
       "         58., 262., 206., 233., 242., 123., 167.,  63., 197.,  71., 168.,\n",
       "        140., 217., 121., 235., 245.,  40.,  52., 104., 132.,  88.,  69.,\n",
       "        219.,  72., 201., 110.,  51., 277.,  63., 118.,  69., 273., 258.,\n",
       "         43., 198., 242., 232., 175.,  93., 168., 275., 293., 281.,  72.,\n",
       "        140., 189., 181., 209., 136., 261., 113., 131., 174., 257.,  55.,\n",
       "         84.,  42., 146., 212., 233.,  91., 111., 152., 120.,  67., 310.,\n",
       "         94., 183.,  66., 173.,  72.,  49.,  64.,  48., 178., 104., 132.,\n",
       "        220.,  57.]),\n",
       " 'frame': None,\n",
       " 'DESCR': '.. _diabetes_dataset:\\n\\nDiabetes dataset\\n----------------\\n\\nTen baseline variables, age, sex, body mass index, average blood\\npressure, and six blood serum measurements were obtained for each of n =\\n442 diabetes patients, as well as the response of interest, a\\nquantitative measure of disease progression one year after baseline.\\n\\n**Data Set Characteristics:**\\n\\n  :Number of Instances: 442\\n\\n  :Number of Attributes: First 10 columns are numeric predictive values\\n\\n  :Target: Column 11 is a quantitative measure of disease progression one year after baseline\\n\\n  :Attribute Information:\\n      - age     age in years\\n      - sex\\n      - bmi     body mass index\\n      - bp      average blood pressure\\n      - s1      tc, total serum cholesterol\\n      - s2      ldl, low-density lipoproteins\\n      - s3      hdl, high-density lipoproteins\\n      - s4      tch, total cholesterol / HDL\\n      - s5      ltg, possibly log of serum triglycerides level\\n      - s6      glu, blood sugar level\\n\\nNote: Each of these 10 feature variables have been mean centered and scaled by the standard deviation times `n_samples` (i.e. the sum of squares of each column totals 1).\\n\\nSource URL:\\nhttps://www4.stat.ncsu.edu/~boos/var.select/diabetes.html\\n\\nFor more information see:\\nBradley Efron, Trevor Hastie, Iain Johnstone and Robert Tibshirani (2004) \"Least Angle Regression,\" Annals of Statistics (with discussion), 407-499.\\n(https://web.stanford.edu/~hastie/Papers/LARS/LeastAngle_2002.pdf)',\n",
       " 'feature_names': ['age',\n",
       "  'sex',\n",
       "  'bmi',\n",
       "  'bp',\n",
       "  's1',\n",
       "  's2',\n",
       "  's3',\n",
       "  's4',\n",
       "  's5',\n",
       "  's6'],\n",
       " 'data_filename': 'diabetes_data.csv.gz',\n",
       " 'target_filename': 'diabetes_target.csv.gz',\n",
       " 'data_module': 'sklearn.datasets.data'}"
      ]
     },
     "execution_count": 48,
     "metadata": {},
     "output_type": "execute_result"
    }
   ],
   "source": [
    "diabetes"
   ]
  },
  {
   "cell_type": "code",
   "execution_count": 49,
   "id": "6e2441ff",
   "metadata": {},
   "outputs": [
    {
     "data": {
      "text/plain": [
       "array([[ 0.03807591,  0.05068012,  0.06169621,  0.02187235, -0.0442235 ,\n",
       "        -0.03482076, -0.04340085, -0.00259226,  0.01990842, -0.01764613],\n",
       "       [-0.00188202, -0.04464164, -0.05147406, -0.02632783, -0.00844872,\n",
       "        -0.01916334,  0.07441156, -0.03949338, -0.06832974, -0.09220405],\n",
       "       [ 0.08529891,  0.05068012,  0.04445121, -0.00567061, -0.04559945,\n",
       "        -0.03419447, -0.03235593, -0.00259226,  0.00286377, -0.02593034],\n",
       "       [-0.08906294, -0.04464164, -0.01159501, -0.03665645,  0.01219057,\n",
       "         0.02499059, -0.03603757,  0.03430886,  0.02269202, -0.00936191],\n",
       "       [ 0.00538306, -0.04464164, -0.03638469,  0.02187235,  0.00393485,\n",
       "         0.01559614,  0.00814208, -0.00259226, -0.03199144, -0.04664087]])"
      ]
     },
     "execution_count": 49,
     "metadata": {},
     "output_type": "execute_result"
    }
   ],
   "source": [
    "df_x = diabetes.data\n",
    "df_y = diabetes.target\n",
    "type(df_x)\n",
    "df_x[:5]"
   ]
  },
  {
   "cell_type": "code",
   "execution_count": 50,
   "id": "ea1cc92f",
   "metadata": {},
   "outputs": [],
   "source": [
    "df_x = np.array(df_x)\n",
    "df_y = np.array(df_y)"
   ]
  },
  {
   "cell_type": "code",
   "execution_count": 51,
   "id": "32bf2fb2",
   "metadata": {},
   "outputs": [
    {
     "name": "stdout",
     "output_type": "stream",
     "text": [
      "(353, 10) (353,)\n",
      "(89, 10) (89,)\n"
     ]
    }
   ],
   "source": [
    "# train_test_split\n",
    "from sklearn.model_selection import train_test_split\n",
    "\n",
    "X_train, X_test, y_train, y_test = train_test_split(df_x, df_y, test_size=0.2, random_state=42)\n",
    "\n",
    "print(X_train.shape, y_train.shape)\n",
    "print(X_test.shape, y_test.shape)"
   ]
  },
  {
   "cell_type": "code",
   "execution_count": 52,
   "id": "7bcbe9e3",
   "metadata": {},
   "outputs": [],
   "source": [
    "# 임의의 초기 Wi,b를 생성\n",
    "import numpy as np\n",
    "W = np.random.rand(10)\n",
    "b = np.random.rand()"
   ]
  },
  {
   "cell_type": "code",
   "execution_count": 58,
   "id": "ba31b387",
   "metadata": {},
   "outputs": [],
   "source": [
    "# 모델 생성\n",
    "def model(X, W, b):\n",
    "    predictions = 0\n",
    "    for i in range(10):\n",
    "        predictions += X[:, i] * W[i]\n",
    "    predictions += b\n",
    "    return predictions"
   ]
  },
  {
   "cell_type": "code",
   "execution_count": 59,
   "id": "f29088ec",
   "metadata": {},
   "outputs": [],
   "source": [
    "# 비용함수 생성1(MSE)\n",
    "def MSE(a, b):\n",
    "    mse = ((a - b) ** 2).mean()  # 두 값의 차이의 제곱의 평균\n",
    "    return mse"
   ]
  },
  {
   "cell_type": "code",
   "execution_count": 60,
   "id": "e8a38541",
   "metadata": {},
   "outputs": [],
   "source": [
    "# 비용함수 생성2(embedding MSE)\n",
    "def loss(X, W, b, y):\n",
    "    predictions = model(X, W, b)\n",
    "    L = MSE(predictions, y)\n",
    "    return L"
   ]
  },
  {
   "cell_type": "code",
   "execution_count": 61,
   "id": "e1fa2012",
   "metadata": {},
   "outputs": [],
   "source": [
    "# 비용함수의 gradient 생성\n",
    "def gradient(X, W, b, y):\n",
    "    # N은 데이터 포인트의 개수\n",
    "    N = len(y)\n",
    "    \n",
    "    # y_pred 준비\n",
    "    y_pred = model(X, W, b)\n",
    "    \n",
    "    # 공식에 맞게 gradient 계산\n",
    "    dW = 1/N * 2 * X.T.dot(y_pred - y)\n",
    "        \n",
    "    # b의 gradient 계산\n",
    "    db = 2 * (y_pred - y).mean()\n",
    "    return dW, db"
   ]
  },
  {
   "cell_type": "code",
   "execution_count": 76,
   "id": "f0ec0830",
   "metadata": {},
   "outputs": [
    {
     "name": "stdout",
     "output_type": "stream",
     "text": [
      "Iteration 10 : Loss 4958.7856\n",
      "Iteration 20 : Loss 4913.9470\n",
      "Iteration 30 : Loss 4870.4215\n",
      "Iteration 40 : Loss 4828.1652\n",
      "Iteration 50 : Loss 4787.1361\n",
      "Iteration 60 : Loss 4747.2935\n",
      "Iteration 70 : Loss 4708.5980\n",
      "Iteration 80 : Loss 4671.0117\n",
      "Iteration 90 : Loss 4634.4980\n",
      "Iteration 100 : Loss 4599.0216\n",
      "Iteration 110 : Loss 4564.5484\n",
      "Iteration 120 : Loss 4531.0453\n",
      "Iteration 130 : Loss 4498.4807\n",
      "Iteration 140 : Loss 4466.8238\n",
      "Iteration 150 : Loss 4436.0449\n",
      "Iteration 160 : Loss 4406.1155\n",
      "Iteration 170 : Loss 4377.0079\n",
      "Iteration 180 : Loss 4348.6954\n",
      "Iteration 190 : Loss 4321.1524\n",
      "Iteration 200 : Loss 4294.3538\n",
      "Iteration 210 : Loss 4268.2758\n",
      "Iteration 220 : Loss 4242.8950\n",
      "Iteration 230 : Loss 4218.1892\n",
      "Iteration 240 : Loss 4194.1366\n",
      "Iteration 250 : Loss 4170.7165\n",
      "Iteration 260 : Loss 4147.9086\n",
      "Iteration 270 : Loss 4125.6935\n",
      "Iteration 280 : Loss 4104.0523\n",
      "Iteration 290 : Loss 4082.9669\n",
      "Iteration 300 : Loss 4062.4198\n",
      "Iteration 310 : Loss 4042.3939\n",
      "Iteration 320 : Loss 4022.8730\n",
      "Iteration 330 : Loss 4003.8412\n",
      "Iteration 340 : Loss 3985.2833\n",
      "Iteration 350 : Loss 3967.1845\n",
      "Iteration 360 : Loss 3949.5305\n",
      "Iteration 370 : Loss 3932.3075\n",
      "Iteration 380 : Loss 3915.5024\n",
      "Iteration 390 : Loss 3899.1021\n",
      "Iteration 400 : Loss 3883.0944\n",
      "Iteration 410 : Loss 3867.4671\n",
      "Iteration 420 : Loss 3852.2088\n",
      "Iteration 430 : Loss 3837.3082\n",
      "Iteration 440 : Loss 3822.7544\n",
      "Iteration 450 : Loss 3808.5371\n",
      "Iteration 460 : Loss 3794.6462\n",
      "Iteration 470 : Loss 3781.0717\n",
      "Iteration 480 : Loss 3767.8044\n",
      "Iteration 490 : Loss 3754.8350\n",
      "Iteration 500 : Loss 3742.1548\n",
      "Iteration 510 : Loss 3729.7553\n",
      "Iteration 520 : Loss 3717.6281\n",
      "Iteration 530 : Loss 3705.7653\n",
      "Iteration 540 : Loss 3694.1593\n",
      "Iteration 550 : Loss 3682.8025\n",
      "Iteration 560 : Loss 3671.6877\n",
      "Iteration 570 : Loss 3660.8081\n",
      "Iteration 580 : Loss 3650.1568\n",
      "Iteration 590 : Loss 3639.7274\n",
      "Iteration 600 : Loss 3629.5135\n",
      "Iteration 610 : Loss 3619.5091\n",
      "Iteration 620 : Loss 3609.7082\n",
      "Iteration 630 : Loss 3600.1053\n",
      "Iteration 640 : Loss 3590.6946\n",
      "Iteration 650 : Loss 3581.4710\n",
      "Iteration 660 : Loss 3572.4293\n",
      "Iteration 670 : Loss 3563.5644\n",
      "Iteration 680 : Loss 3554.8715\n",
      "Iteration 690 : Loss 3546.3460\n",
      "Iteration 700 : Loss 3537.9834\n",
      "Iteration 710 : Loss 3529.7792\n",
      "Iteration 720 : Loss 3521.7293\n",
      "Iteration 730 : Loss 3513.8294\n",
      "Iteration 740 : Loss 3506.0757\n",
      "Iteration 750 : Loss 3498.4643\n",
      "Iteration 760 : Loss 3490.9915\n",
      "Iteration 770 : Loss 3483.6537\n",
      "Iteration 780 : Loss 3476.4474\n",
      "Iteration 790 : Loss 3469.3692\n",
      "Iteration 800 : Loss 3462.4158\n",
      "Iteration 810 : Loss 3455.5841\n",
      "Iteration 820 : Loss 3448.8709\n",
      "Iteration 830 : Loss 3442.2734\n",
      "Iteration 840 : Loss 3435.7887\n",
      "Iteration 850 : Loss 3429.4139\n",
      "Iteration 860 : Loss 3423.1463\n",
      "Iteration 870 : Loss 3416.9833\n",
      "Iteration 880 : Loss 3410.9225\n",
      "Iteration 890 : Loss 3404.9612\n",
      "Iteration 900 : Loss 3399.0972\n",
      "Iteration 910 : Loss 3393.3280\n",
      "Iteration 920 : Loss 3387.6515\n",
      "Iteration 930 : Loss 3382.0655\n",
      "Iteration 940 : Loss 3376.5679\n",
      "Iteration 950 : Loss 3371.1566\n",
      "Iteration 960 : Loss 3365.8296\n",
      "Iteration 970 : Loss 3360.5851\n",
      "Iteration 980 : Loss 3355.4211\n",
      "Iteration 990 : Loss 3350.3358\n",
      "Iteration 1000 : Loss 3345.3274\n",
      "Iteration 1010 : Loss 3340.3943\n",
      "Iteration 1020 : Loss 3335.5349\n",
      "Iteration 1030 : Loss 3330.7473\n",
      "Iteration 1040 : Loss 3326.0303\n",
      "Iteration 1050 : Loss 3321.3821\n",
      "Iteration 1060 : Loss 3316.8013\n",
      "Iteration 1070 : Loss 3312.2865\n",
      "Iteration 1080 : Loss 3307.8363\n",
      "Iteration 1090 : Loss 3303.4494\n",
      "Iteration 1100 : Loss 3299.1244\n",
      "Iteration 1110 : Loss 3294.8601\n",
      "Iteration 1120 : Loss 3290.6551\n",
      "Iteration 1130 : Loss 3286.5084\n",
      "Iteration 1140 : Loss 3282.4187\n",
      "Iteration 1150 : Loss 3278.3849\n",
      "Iteration 1160 : Loss 3274.4059\n",
      "Iteration 1170 : Loss 3270.4806\n",
      "Iteration 1180 : Loss 3266.6080\n",
      "Iteration 1190 : Loss 3262.7869\n",
      "Iteration 1200 : Loss 3259.0166\n",
      "Iteration 1210 : Loss 3255.2959\n",
      "Iteration 1220 : Loss 3251.6239\n",
      "Iteration 1230 : Loss 3247.9997\n",
      "Iteration 1240 : Loss 3244.4225\n",
      "Iteration 1250 : Loss 3240.8914\n",
      "Iteration 1260 : Loss 3237.4054\n",
      "Iteration 1270 : Loss 3233.9638\n",
      "Iteration 1280 : Loss 3230.5659\n",
      "Iteration 1290 : Loss 3227.2107\n",
      "Iteration 1300 : Loss 3223.8975\n",
      "Iteration 1310 : Loss 3220.6257\n",
      "Iteration 1320 : Loss 3217.3944\n",
      "Iteration 1330 : Loss 3214.2030\n",
      "Iteration 1340 : Loss 3211.0508\n",
      "Iteration 1350 : Loss 3207.9371\n",
      "Iteration 1360 : Loss 3204.8612\n",
      "Iteration 1370 : Loss 3201.8225\n",
      "Iteration 1380 : Loss 3198.8205\n",
      "Iteration 1390 : Loss 3195.8544\n",
      "Iteration 1400 : Loss 3192.9237\n",
      "Iteration 1410 : Loss 3190.0278\n",
      "Iteration 1420 : Loss 3187.1661\n",
      "Iteration 1430 : Loss 3184.3382\n",
      "Iteration 1440 : Loss 3181.5434\n",
      "Iteration 1450 : Loss 3178.7812\n",
      "Iteration 1460 : Loss 3176.0511\n",
      "Iteration 1470 : Loss 3173.3526\n",
      "Iteration 1480 : Loss 3170.6852\n",
      "Iteration 1490 : Loss 3168.0485\n",
      "Iteration 1500 : Loss 3165.4419\n",
      "Iteration 1510 : Loss 3162.8650\n",
      "Iteration 1520 : Loss 3160.3174\n",
      "Iteration 1530 : Loss 3157.7986\n",
      "Iteration 1540 : Loss 3155.3081\n",
      "Iteration 1550 : Loss 3152.8456\n",
      "Iteration 1560 : Loss 3150.4107\n",
      "Iteration 1570 : Loss 3148.0029\n",
      "Iteration 1580 : Loss 3145.6218\n",
      "Iteration 1590 : Loss 3143.2672\n",
      "Iteration 1600 : Loss 3140.9384\n",
      "Iteration 1610 : Loss 3138.6354\n",
      "Iteration 1620 : Loss 3136.3575\n",
      "Iteration 1630 : Loss 3134.1046\n",
      "Iteration 1640 : Loss 3131.8762\n",
      "Iteration 1650 : Loss 3129.6720\n",
      "Iteration 1660 : Loss 3127.4916\n",
      "Iteration 1670 : Loss 3125.3348\n",
      "Iteration 1680 : Loss 3123.2013\n",
      "Iteration 1690 : Loss 3121.0906\n",
      "Iteration 1700 : Loss 3119.0025\n",
      "Iteration 1710 : Loss 3116.9368\n",
      "Iteration 1720 : Loss 3114.8930\n",
      "Iteration 1730 : Loss 3112.8709\n",
      "Iteration 1740 : Loss 3110.8702\n",
      "Iteration 1750 : Loss 3108.8907\n",
      "Iteration 1760 : Loss 3106.9320\n",
      "Iteration 1770 : Loss 3104.9939\n",
      "Iteration 1780 : Loss 3103.0761\n",
      "Iteration 1790 : Loss 3101.1784\n",
      "Iteration 1800 : Loss 3099.3005\n",
      "Iteration 1810 : Loss 3097.4422\n",
      "Iteration 1820 : Loss 3095.6031\n",
      "Iteration 1830 : Loss 3093.7831\n",
      "Iteration 1840 : Loss 3091.9819\n",
      "Iteration 1850 : Loss 3090.1994\n",
      "Iteration 1860 : Loss 3088.4351\n",
      "Iteration 1870 : Loss 3086.6890\n",
      "Iteration 1880 : Loss 3084.9608\n",
      "Iteration 1890 : Loss 3083.2503\n",
      "Iteration 1900 : Loss 3081.5572\n",
      "Iteration 1910 : Loss 3079.8814\n",
      "Iteration 1920 : Loss 3078.2227\n",
      "Iteration 1930 : Loss 3076.5808\n",
      "Iteration 1940 : Loss 3074.9555\n",
      "Iteration 1950 : Loss 3073.3467\n",
      "Iteration 1960 : Loss 3071.7541\n",
      "Iteration 1970 : Loss 3070.1776\n",
      "Iteration 1980 : Loss 3068.6170\n",
      "Iteration 1990 : Loss 3067.0720\n",
      "Iteration 2000 : Loss 3065.5425\n",
      "Iteration 2010 : Loss 3064.0283\n",
      "Iteration 2020 : Loss 3062.5293\n",
      "Iteration 2030 : Loss 3061.0452\n",
      "Iteration 2040 : Loss 3059.5759\n",
      "Iteration 2050 : Loss 3058.1212\n",
      "Iteration 2060 : Loss 3056.6810\n",
      "Iteration 2070 : Loss 3055.2550\n",
      "Iteration 2080 : Loss 3053.8432\n",
      "Iteration 2090 : Loss 3052.4453\n",
      "Iteration 2100 : Loss 3051.0613\n",
      "Iteration 2110 : Loss 3049.6909\n",
      "Iteration 2120 : Loss 3048.3339\n",
      "Iteration 2130 : Loss 3046.9903\n",
      "Iteration 2140 : Loss 3045.6599\n",
      "Iteration 2150 : Loss 3044.3426\n",
      "Iteration 2160 : Loss 3043.0381\n",
      "Iteration 2170 : Loss 3041.7464\n",
      "Iteration 2180 : Loss 3040.4674\n",
      "Iteration 2190 : Loss 3039.2008\n",
      "Iteration 2200 : Loss 3037.9465\n",
      "Iteration 2210 : Loss 3036.7044\n",
      "Iteration 2220 : Loss 3035.4744\n",
      "Iteration 2230 : Loss 3034.2564\n",
      "Iteration 2240 : Loss 3033.0501\n",
      "Iteration 2250 : Loss 3031.8556\n",
      "Iteration 2260 : Loss 3030.6726\n",
      "Iteration 2270 : Loss 3029.5010\n",
      "Iteration 2280 : Loss 3028.3407\n",
      "Iteration 2290 : Loss 3027.1916\n",
      "Iteration 2300 : Loss 3026.0536\n",
      "Iteration 2310 : Loss 3024.9265\n",
      "Iteration 2320 : Loss 3023.8103\n",
      "Iteration 2330 : Loss 3022.7047\n",
      "Iteration 2340 : Loss 3021.6098\n",
      "Iteration 2350 : Loss 3020.5254\n",
      "Iteration 2360 : Loss 3019.4513\n",
      "Iteration 2370 : Loss 3018.3875\n",
      "Iteration 2380 : Loss 3017.3338\n",
      "Iteration 2390 : Loss 3016.2902\n",
      "Iteration 2400 : Loss 3015.2565\n",
      "Iteration 2410 : Loss 3014.2327\n",
      "Iteration 2420 : Loss 3013.2186\n",
      "Iteration 2430 : Loss 3012.2142\n",
      "Iteration 2440 : Loss 3011.2193\n",
      "Iteration 2450 : Loss 3010.2338\n",
      "Iteration 2460 : Loss 3009.2577\n",
      "Iteration 2470 : Loss 3008.2908\n",
      "Iteration 2480 : Loss 3007.3330\n",
      "Iteration 2490 : Loss 3006.3843\n",
      "Iteration 2500 : Loss 3005.4446\n",
      "Iteration 2510 : Loss 3004.5137\n",
      "Iteration 2520 : Loss 3003.5916\n",
      "Iteration 2530 : Loss 3002.6781\n",
      "Iteration 2540 : Loss 3001.7733\n",
      "Iteration 2550 : Loss 3000.8770\n",
      "Iteration 2560 : Loss 2999.9891\n",
      "Iteration 2570 : Loss 2999.1095\n",
      "Iteration 2580 : Loss 2998.2381\n",
      "Iteration 2590 : Loss 2997.3750\n",
      "Iteration 2600 : Loss 2996.5199\n",
      "Iteration 2610 : Loss 2995.6728\n",
      "Iteration 2620 : Loss 2994.8336\n",
      "Iteration 2630 : Loss 2994.0023\n",
      "Iteration 2640 : Loss 2993.1787\n",
      "Iteration 2650 : Loss 2992.3628\n",
      "Iteration 2660 : Loss 2991.5545\n",
      "Iteration 2670 : Loss 2990.7537\n",
      "Iteration 2680 : Loss 2989.9603\n",
      "Iteration 2690 : Loss 2989.1744\n",
      "Iteration 2700 : Loss 2988.3957\n",
      "Iteration 2710 : Loss 2987.6242\n",
      "Iteration 2720 : Loss 2986.8599\n",
      "Iteration 2730 : Loss 2986.1027\n",
      "Iteration 2740 : Loss 2985.3525\n",
      "Iteration 2750 : Loss 2984.6093\n",
      "Iteration 2760 : Loss 2983.8729\n",
      "Iteration 2770 : Loss 2983.1433\n",
      "Iteration 2780 : Loss 2982.4204\n",
      "Iteration 2790 : Loss 2981.7042\n",
      "Iteration 2800 : Loss 2980.9947\n",
      "Iteration 2810 : Loss 2980.2916\n",
      "Iteration 2820 : Loss 2979.5950\n",
      "Iteration 2830 : Loss 2978.9048\n",
      "Iteration 2840 : Loss 2978.2210\n"
     ]
    },
    {
     "name": "stdout",
     "output_type": "stream",
     "text": [
      "Iteration 2850 : Loss 2977.5435\n",
      "Iteration 2860 : Loss 2976.8721\n",
      "Iteration 2870 : Loss 2976.2069\n",
      "Iteration 2880 : Loss 2975.5478\n",
      "Iteration 2890 : Loss 2974.8948\n",
      "Iteration 2900 : Loss 2974.2477\n",
      "Iteration 2910 : Loss 2973.6066\n",
      "Iteration 2920 : Loss 2972.9713\n",
      "Iteration 2930 : Loss 2972.3418\n",
      "Iteration 2940 : Loss 2971.7180\n",
      "Iteration 2950 : Loss 2971.0999\n",
      "Iteration 2960 : Loss 2970.4875\n",
      "Iteration 2970 : Loss 2969.8806\n",
      "Iteration 2980 : Loss 2969.2793\n",
      "Iteration 2990 : Loss 2968.6834\n",
      "Iteration 3000 : Loss 2968.0930\n"
     ]
    }
   ],
   "source": [
    "# optimum 계산(Wi & b w/ model, loss & gradient embedded)\n",
    "LEARNING_RATE = 0.1\n",
    "iteration=3000\n",
    "\n",
    "losses = []\n",
    "\n",
    "for i in range(1, iteration+1):\n",
    "    dW, db = gradient(X_train, W, b, y_train)\n",
    "    W -= LEARNING_RATE * dW\n",
    "    b -= LEARNING_RATE * db\n",
    "    L = loss(X_train, W, b, y_train)\n",
    "    losses.append(L)\n",
    "    if i % 10 == 0:\n",
    "        print('Iteration %d : Loss %0.4f' % (i, L))"
   ]
  },
  {
   "cell_type": "code",
   "execution_count": 88,
   "id": "1f7e4c4a",
   "metadata": {},
   "outputs": [
    {
     "data": {
      "image/png": "[encoded data removed]",
      "text/plain": [
       "<Figure size 432x288 with 1 Axes>"
      ]
     },
     "metadata": {
      "needs_background": "light"
     },
     "output_type": "display_data"
    }
   ],
   "source": [
    "# x_train losses along with iteration\n",
    "import matplotlib.pyplot as plt\n",
    "plt.plot(losses)\n",
    "plt.show()"
   ]
  },
  {
   "cell_type": "code",
   "execution_count": 78,
   "id": "265e8a79",
   "metadata": {},
   "outputs": [
    {
     "data": {
      "text/plain": [
       "(array([  48.64903549, -157.47858061,  454.93134725,  300.12077216,\n",
       "         -43.24633685,  -90.4102969 , -206.49843669,  146.74326166,\n",
       "         341.55873528,  136.43148648]),\n",
       " 151.52277715358835)"
      ]
     },
     "execution_count": 78,
     "metadata": {},
     "output_type": "execute_result"
    }
   ],
   "source": [
    "W, b"
   ]
  },
  {
   "cell_type": "code",
   "execution_count": 79,
   "id": "fefeed6f",
   "metadata": {},
   "outputs": [
    {
     "data": {
      "text/plain": [
       "2868.267652980769"
      ]
     },
     "execution_count": 79,
     "metadata": {},
     "output_type": "execute_result"
    }
   ],
   "source": [
    "# x_test의 비용함수\n",
    "prediction = model(X_test, W, b)\n",
    "mse = loss(X_test, W, b, y_test)\n",
    "mse"
   ]
  },
  {
   "cell_type": "code",
   "execution_count": 86,
   "id": "1dc436ae",
   "metadata": {},
   "outputs": [
    {
     "data": {
      "image/png": "[encoded data removed]",
      "text/plain": [
       "<Figure size 432x288 with 1 Axes>"
      ]
     },
     "metadata": {
      "needs_background": "light"
     },
     "output_type": "display_data"
    }
   ],
   "source": [
    "# x_test에 대한 시각화\n",
    "plt.scatter(X_test[:, 0], y_test, label='true')\n",
    "plt.scatter(X_test[:, 0], prediction, label='pred')\n",
    "plt.legend(loc='best')\n",
    "plt.show()"
   ]
  },
  {
   "cell_type": "markdown",
   "id": "5cfd9e0a",
   "metadata": {},
   "source": [
    "## Retrospect"
   ]
  },
  {
   "cell_type": "markdown",
   "id": "9702bdce",
   "metadata": {},
   "source": [
    "* gradient에 대한 개념을 명확히 할 수 있는 기회였고, 시각화 리뷰가 필요하다."
   ]
  }
 ],
 "metadata": {
  "kernelspec": {
   "display_name": "Python 3 (ipykernel)",
   "language": "python",
   "name": "python3"
  },
  "language_info": {
   "codemirror_mode": {
    "name": "ipython",
    "version": 3
   },
   "file_extension": ".py",
   "mimetype": "text/x-python",
   "name": "python",
   "nbconvert_exporter": "python",
   "pygments_lexer": "ipython3",
   "version": "3.9.7"
  }
 },
 "nbformat": 4,
 "nbformat_minor": 5
}
