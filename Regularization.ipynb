{
 "cells": [
  {
   "cell_type": "code",
   "execution_count": 7,
   "id": "200d35dd",
   "metadata": {},
   "outputs": [
    {
     "data": {
      "text/html": [
       "<div>\n",
       "<style scoped>\n",
       "    .dataframe tbody tr th:only-of-type {\n",
       "        vertical-align: middle;\n",
       "    }\n",
       "\n",
       "    .dataframe tbody tr th {\n",
       "        vertical-align: top;\n",
       "    }\n",
       "\n",
       "    .dataframe thead th {\n",
       "        text-align: right;\n",
       "    }\n",
       "</style>\n",
       "<table border=\"1\" class=\"dataframe\">\n",
       "  <thead>\n",
       "    <tr style=\"text-align: right;\">\n",
       "      <th></th>\n",
       "      <th>sepal length (cm)</th>\n",
       "      <th>sepal width (cm)</th>\n",
       "      <th>petal length (cm)</th>\n",
       "      <th>petal width (cm)</th>\n",
       "      <th>species</th>\n",
       "    </tr>\n",
       "  </thead>\n",
       "  <tbody>\n",
       "    <tr>\n",
       "      <th>0</th>\n",
       "      <td>5.1</td>\n",
       "      <td>3.5</td>\n",
       "      <td>1.4</td>\n",
       "      <td>0.2</td>\n",
       "      <td>setosa</td>\n",
       "    </tr>\n",
       "    <tr>\n",
       "      <th>1</th>\n",
       "      <td>4.9</td>\n",
       "      <td>3.0</td>\n",
       "      <td>1.4</td>\n",
       "      <td>0.2</td>\n",
       "      <td>setosa</td>\n",
       "    </tr>\n",
       "    <tr>\n",
       "      <th>2</th>\n",
       "      <td>4.7</td>\n",
       "      <td>3.2</td>\n",
       "      <td>1.3</td>\n",
       "      <td>0.2</td>\n",
       "      <td>setosa</td>\n",
       "    </tr>\n",
       "    <tr>\n",
       "      <th>3</th>\n",
       "      <td>4.6</td>\n",
       "      <td>3.1</td>\n",
       "      <td>1.5</td>\n",
       "      <td>0.2</td>\n",
       "      <td>setosa</td>\n",
       "    </tr>\n",
       "    <tr>\n",
       "      <th>4</th>\n",
       "      <td>5.0</td>\n",
       "      <td>3.6</td>\n",
       "      <td>1.4</td>\n",
       "      <td>0.2</td>\n",
       "      <td>setosa</td>\n",
       "    </tr>\n",
       "  </tbody>\n",
       "</table>\n",
       "</div>"
      ],
      "text/plain": [
       "   sepal length (cm)  sepal width (cm)  petal length (cm)  petal width (cm)  \\\n",
       "0                5.1               3.5                1.4               0.2   \n",
       "1                4.9               3.0                1.4               0.2   \n",
       "2                4.7               3.2                1.3               0.2   \n",
       "3                4.6               3.1                1.5               0.2   \n",
       "4                5.0               3.6                1.4               0.2   \n",
       "\n",
       "  species  \n",
       "0  setosa  \n",
       "1  setosa  \n",
       "2  setosa  \n",
       "3  setosa  \n",
       "4  setosa  "
      ]
     },
     "execution_count": 7,
     "metadata": {},
     "output_type": "execute_result"
    }
   ],
   "source": [
    "from sklearn.datasets import load_iris\n",
    "import pandas as pd \n",
    "import matplotlib.pyplot as plt\n",
    "\n",
    "iris = load_iris()\n",
    "iris_df = pd.DataFrame(data=iris.data, columns=iris.feature_names)\n",
    "target_df = pd.DataFrame(data=iris.target, columns=['species'])\n",
    "\n",
    "# 0, 1, 2로 되어있는 target 데이터를 \n",
    "# 알아보기 쉽게 'setosa', 'versicolor', 'virginica'로 바꿉니다 \n",
    "def converter(species):\n",
    "    if species == 0:\n",
    "        return 'setosa'\n",
    "    elif species == 1:\n",
    "        return 'versicolor'\n",
    "    else:\n",
    "        return 'virginica'\n",
    "\n",
    "target_df['species'] = target_df['species'].apply(converter)\n",
    "\n",
    "iris_df = pd.concat([iris_df, target_df], axis=1)\n",
    "iris_df.head()"
   ]
  },
  {
   "cell_type": "code",
   "execution_count": 17,
   "id": "b42540ae",
   "metadata": {},
   "outputs": [
    {
     "name": "stdout",
     "output_type": "stream",
     "text": [
      "petal length(꽃잎 길이) [6.0, 5.1, 5.9, 5.6, 5.8, 6.6, 4.5, 6.3, 5.8, 6.1, 5.1, 5.3, 5.5, 5.0, 5.1, 5.3, 5.5, 6.7, 6.9, 5.0, 5.7, 4.9, 6.7, 4.9, 5.7, 6.0, 4.8, 4.9, 5.6, 5.8, 6.1, 6.4, 5.6, 5.1, 5.6, 6.1, 5.6, 5.5, 4.8, 5.4, 5.6, 5.1, 5.1, 5.9, 5.7, 5.2, 5.0, 5.2, 5.4, 5.1]\n",
      "sepal length(꽃받침의 길이) [6.3, 5.8, 7.1, 6.3, 6.5, 7.6, 4.9, 7.3, 6.7, 7.2, 6.5, 6.4, 6.8, 5.7, 5.8, 6.4, 6.5, 7.7, 7.7, 6.0, 6.9, 5.6, 7.7, 6.3, 6.7, 7.2, 6.2, 6.1, 6.4, 7.2, 7.4, 7.9, 6.4, 6.3, 6.1, 7.7, 6.3, 6.4, 6.0, 6.9, 6.7, 6.9, 5.8, 6.8, 6.7, 6.7, 6.3, 6.5, 6.2, 5.9]\n"
     ]
    }
   ],
   "source": [
    "X = [iris_df['petal length (cm)'][a] for a in iris_df.index if iris_df['species'][a]=='virginica']\n",
    "Y = [iris_df['sepal length (cm)'][a] for a in iris_df.index if iris_df['species'][a]=='virginica']\n",
    "\n",
    "print(\"petal length(꽃잎 길이)\", X)\n",
    "print(\"sepal length(꽃받침의 길이)\", Y)"
   ]
  },
  {
   "cell_type": "code",
   "execution_count": 10,
   "id": "407c8c7c",
   "metadata": {},
   "outputs": [
    {
     "data": {
      "image/png": "[encoded data removed]",
      "text/plain": [
       "<Figure size 360x360 with 1 Axes>"
      ]
     },
     "metadata": {
      "needs_background": "light"
     },
     "output_type": "display_data"
    }
   ],
   "source": [
    "plt.figure(figsize=(5,5))\n",
    "plt.scatter(X,Y)\n",
    "plt.title('petal-sepal scatter before normalization') \n",
    "plt.xlabel('petal length (cm)')\n",
    "plt.ylabel('sepal length (cm)')\n",
    "plt.grid()\n",
    "plt.show()"
   ]
  },
  {
   "cell_type": "code",
   "execution_count": 13,
   "id": "dbc50cc1",
   "metadata": {},
   "outputs": [
    {
     "data": {
      "image/png": "[encoded data removed]",
      "text/plain": [
       "<Figure size 360x360 with 1 Axes>"
      ]
     },
     "metadata": {
      "needs_background": "light"
     },
     "output_type": "display_data"
    }
   ],
   "source": [
    "# from sklearn.preprocessing import minmax_scaler도 존재한다\n",
    "\n",
    "from sklearn.preprocessing import minmax_scale\n",
    "\n",
    "X_scale = minmax_scale(X)\n",
    "Y_scale = minmax_scale(Y)\n",
    "\n",
    "plt.figure(figsize=(5,5))\n",
    "plt.scatter(X_scale,Y_scale)\n",
    "plt.title('petal-sepal scatter after normalization') \n",
    "plt.xlabel('petal length (cm)')\n",
    "plt.ylabel('sepal length (cm)')\n",
    "plt.grid()\n",
    "plt.show()"
   ]
  },
  {
   "cell_type": "code",
   "execution_count": 19,
   "id": "fa535c2f",
   "metadata": {},
   "outputs": [
    {
     "name": "stdout",
     "output_type": "stream",
     "text": [
      "기울기 : 1.00, 절편 : 1.06\n"
     ]
    }
   ],
   "source": [
    "from sklearn.linear_model import LinearRegression\n",
    "import numpy as np \n",
    "\n",
    "X = np.array(X)\n",
    "Y = np.array(Y)\n",
    "\n",
    "# Iris Dataset을 Linear Regression으로 학습합니다. \n",
    "linear= LinearRegression()\n",
    "linear.fit(X.reshape(-1,1), Y)\n",
    "\n",
    "# Linear Regression의 기울기와 절편을 확인합니다. \n",
    "a, b=linear.coef_, linear.intercept_\n",
    "print(\"기울기 : %0.2f, 절편 : %0.2f\" %(a,b))"
   ]
  },
  {
   "cell_type": "code",
   "execution_count": 20,
   "id": "b64a6809",
   "metadata": {},
   "outputs": [
    {
     "data": {
      "image/png": "[encoded data removed]",
      "text/plain": [
       "<Figure size 360x360 with 1 Axes>"
      ]
     },
     "metadata": {
      "needs_background": "light"
     },
     "output_type": "display_data"
    }
   ],
   "source": [
    "plt.figure(figsize=(5,5))\n",
    "plt.scatter(X,Y)\n",
    "plt.plot(X,linear.predict(X.reshape(-1,1)),'-b')\n",
    "plt.title('petal-sepal scatter with linear regression') \n",
    "plt.xlabel('petal length (cm)')\n",
    "plt.ylabel('sepal length (cm)')\n",
    "plt.grid()\n",
    "plt.show()"
   ]
  },
  {
   "cell_type": "markdown",
   "id": "a35d12e0",
   "metadata": {},
   "source": [
    "### L1 regularization"
   ]
  },
  {
   "cell_type": "code",
   "execution_count": 22,
   "id": "1cb2f200",
   "metadata": {},
   "outputs": [
    {
     "name": "stdout",
     "output_type": "stream",
     "text": [
      "기울기 : 0.00, 절편 : 6.59\n"
     ]
    },
    {
     "data": {
      "image/png": "[encoded data removed]",
      "text/plain": [
       "<Figure size 360x360 with 1 Axes>"
      ]
     },
     "metadata": {
      "needs_background": "light"
     },
     "output_type": "display_data"
    }
   ],
   "source": [
    "# Q. linear regression의 코드를 참고하여, 아래 코드를 채워주세요!\n",
    "\n",
    "# L1 regularization은 Lasso로 import 합니다.\n",
    "from sklearn.linear_model import Lasso\n",
    "L1 = Lasso()\n",
    "\n",
    "L1.fit(X.reshape(-1,1), Y)\n",
    "a, b=L1.coef_, L1.intercept_\n",
    "print(\"기울기 : %0.2f, 절편 : %0.2f\" %(a,b))\n",
    "\n",
    "plt.figure(figsize=(5,5))\n",
    "plt.scatter(X,Y)\n",
    "plt.plot(X,L1.predict(X.reshape(-1,1)),'-b')\n",
    "plt.title('petal-sepal scatter with L1 regularization(Lasso)') \n",
    "plt.xlabel('petal length (cm)')\n",
    "plt.ylabel('sepal length (cm)')\n",
    "plt.grid()\n",
    "plt.show()"
   ]
  },
  {
   "cell_type": "markdown",
   "id": "ad219b40",
   "metadata": {},
   "source": [
    "### L2 regularization"
   ]
  },
  {
   "cell_type": "code",
   "execution_count": 23,
   "id": "3f8b2d6d",
   "metadata": {},
   "outputs": [
    {
     "name": "stdout",
     "output_type": "stream",
     "text": [
      "기울기 : 0.93, 절편 : 1.41\n"
     ]
    },
    {
     "data": {
      "image/png": "[encoded data removed]",
      "text/plain": [
       "<Figure size 360x360 with 1 Axes>"
      ]
     },
     "metadata": {
      "needs_background": "light"
     },
     "output_type": "display_data"
    }
   ],
   "source": [
    "# Q. linear regression의 코드를 참고하여, 아래 코드를 채워주세요!\n",
    "\n",
    "# L2 regularization은 Ridge로 import 합니다.\n",
    "from sklearn.linear_model import Ridge\n",
    "L2 = Ridge()\n",
    "\n",
    "L2.fit(X.reshape(-1,1), Y)\n",
    "a, b=L2.coef_, L2.intercept_\n",
    "print(\"기울기 : %0.2f, 절편 : %0.2f\" %(a,b))\n",
    "\n",
    "plt.figure(figsize=(5,5))\n",
    "plt.scatter(X,Y)\n",
    "plt.plot(X,L2.predict(X.reshape(-1,1)),'-b')\n",
    "plt.title('petal-sepal scatter with L1 regularization(Lasso)') \n",
    "plt.xlabel('petal length (cm)')\n",
    "plt.ylabel('sepal length (cm)')\n",
    "plt.grid()\n",
    "plt.show()"
   ]
  },
  {
   "cell_type": "code",
   "execution_count": 24,
   "id": "05bdc5cc",
   "metadata": {},
   "outputs": [
    {
     "data": {
      "text/html": [
       "<div>\n",
       "<style scoped>\n",
       "    .dataframe tbody tr th:only-of-type {\n",
       "        vertical-align: middle;\n",
       "    }\n",
       "\n",
       "    .dataframe tbody tr th {\n",
       "        vertical-align: top;\n",
       "    }\n",
       "\n",
       "    .dataframe thead th {\n",
       "        text-align: right;\n",
       "    }\n",
       "</style>\n",
       "<table border=\"1\" class=\"dataframe\">\n",
       "  <thead>\n",
       "    <tr style=\"text-align: right;\">\n",
       "      <th></th>\n",
       "      <th>sepal length (cm)</th>\n",
       "      <th>sepal width (cm)</th>\n",
       "      <th>petal length (cm)</th>\n",
       "      <th>petal width (cm)</th>\n",
       "      <th>species</th>\n",
       "    </tr>\n",
       "  </thead>\n",
       "  <tbody>\n",
       "    <tr>\n",
       "      <th>0</th>\n",
       "      <td>5.1</td>\n",
       "      <td>3.5</td>\n",
       "      <td>1.4</td>\n",
       "      <td>0.2</td>\n",
       "      <td>setosa</td>\n",
       "    </tr>\n",
       "    <tr>\n",
       "      <th>1</th>\n",
       "      <td>4.9</td>\n",
       "      <td>3.0</td>\n",
       "      <td>1.4</td>\n",
       "      <td>0.2</td>\n",
       "      <td>setosa</td>\n",
       "    </tr>\n",
       "    <tr>\n",
       "      <th>2</th>\n",
       "      <td>4.7</td>\n",
       "      <td>3.2</td>\n",
       "      <td>1.3</td>\n",
       "      <td>0.2</td>\n",
       "      <td>setosa</td>\n",
       "    </tr>\n",
       "    <tr>\n",
       "      <th>3</th>\n",
       "      <td>4.6</td>\n",
       "      <td>3.1</td>\n",
       "      <td>1.5</td>\n",
       "      <td>0.2</td>\n",
       "      <td>setosa</td>\n",
       "    </tr>\n",
       "    <tr>\n",
       "      <th>4</th>\n",
       "      <td>5.0</td>\n",
       "      <td>3.6</td>\n",
       "      <td>1.4</td>\n",
       "      <td>0.2</td>\n",
       "      <td>setosa</td>\n",
       "    </tr>\n",
       "  </tbody>\n",
       "</table>\n",
       "</div>"
      ],
      "text/plain": [
       "   sepal length (cm)  sepal width (cm)  petal length (cm)  petal width (cm)  \\\n",
       "0                5.1               3.5                1.4               0.2   \n",
       "1                4.9               3.0                1.4               0.2   \n",
       "2                4.7               3.2                1.3               0.2   \n",
       "3                4.6               3.1                1.5               0.2   \n",
       "4                5.0               3.6                1.4               0.2   \n",
       "\n",
       "  species  \n",
       "0  setosa  \n",
       "1  setosa  \n",
       "2  setosa  \n",
       "3  setosa  \n",
       "4  setosa  "
      ]
     },
     "execution_count": 24,
     "metadata": {},
     "output_type": "execute_result"
    }
   ],
   "source": [
    "from sklearn.datasets import load_iris\n",
    "import pandas as pd \n",
    "import matplotlib.pyplot as plt\n",
    "\n",
    "iris = load_iris()\n",
    "iris_df = pd.DataFrame(data=iris.data, columns=iris.feature_names)\n",
    "target_df = pd.DataFrame(data=iris.target, columns=['species'])\n",
    "\n",
    "def converter(species):\n",
    "    if species == 0:\n",
    "        return 'setosa'\n",
    "    elif species == 1:\n",
    "        return 'versicolor'\n",
    "    else:\n",
    "        return 'virginica'\n",
    "\n",
    "target_df['species'] = target_df['species'].apply(converter)\n",
    "\n",
    "iris_df = pd.concat([iris_df, target_df], axis=1)\n",
    "iris_df.head()"
   ]
  },
  {
   "cell_type": "code",
   "execution_count": 25,
   "id": "bdd85e51",
   "metadata": {},
   "outputs": [
    {
     "data": {
      "image/png": "[encoded data removed]",
      "text/plain": [
       "<Figure size 360x360 with 1 Axes>"
      ]
     },
     "metadata": {
      "needs_background": "light"
     },
     "output_type": "display_data"
    }
   ],
   "source": [
    "X = [iris_df['petal length (cm)'][a] for a in iris_df.index if iris_df['species'][a]=='virginica']\n",
    "Y = [iris_df['sepal length (cm)'][a] for a in iris_df.index if iris_df['species'][a]=='virginica']\n",
    "\n",
    "X = np.array(X)\n",
    "Y = np.array(Y)\n",
    "\n",
    "plt.figure(figsize=(5,5))\n",
    "plt.scatter(X,Y)\n",
    "plt.xlabel('petal length (cm)')\n",
    "plt.ylabel('sepal length (cm)')\n",
    "plt.grid()\n",
    "plt.show()"
   ]
  },
  {
   "cell_type": "code",
   "execution_count": 26,
   "id": "947940a7",
   "metadata": {},
   "outputs": [
    {
     "name": "stdout",
     "output_type": "stream",
     "text": [
      "기울기 : 0.00, 절편 : 6.59\n"
     ]
    },
    {
     "data": {
      "image/png": "[encoded data removed]",
      "text/plain": [
       "<Figure size 360x360 with 1 Axes>"
      ]
     },
     "metadata": {
      "needs_background": "light"
     },
     "output_type": "display_data"
    }
   ],
   "source": [
    "from sklearn.linear_model import Lasso\n",
    "\n",
    "L1 = Lasso()\n",
    "L1.fit(X.reshape(-1,1), Y)\n",
    "a, b = L1.coef_, L1.intercept_\n",
    "print(\"기울기 : %0.2f, 절편 : %0.2f\" %(a,b))\n",
    "\n",
    "plt.figure(figsize=(5,5))\n",
    "plt.scatter(X,Y)\n",
    "plt.plot(X,L1.predict(X.reshape(-1,1)),'-b')\n",
    "plt.xlabel('petal length (cm)')\n",
    "plt.ylabel('sepal length (cm)')\n",
    "plt.grid()\n",
    "plt.show()"
   ]
  },
  {
   "cell_type": "markdown",
   "id": "db2b348b",
   "metadata": {},
   "source": [
    "#### feature가 1개라서 그런가?....그럼 컬럼 수가 많은 데이터에서의 L1 regularization 비교"
   ]
  },
  {
   "cell_type": "code",
   "execution_count": 27,
   "id": "fda11df2",
   "metadata": {},
   "outputs": [],
   "source": [
    "from sklearn.datasets import load_wine\n",
    "\n",
    "wine = load_wine()\n",
    "wine_df = pd.DataFrame(data=wine.data, columns=wine.feature_names)\n",
    "target_df = pd.DataFrame(data=wine.target, columns=['Y'])"
   ]
  },
  {
   "cell_type": "code",
   "execution_count": 28,
   "id": "fa3774e4",
   "metadata": {},
   "outputs": [
    {
     "data": {
      "text/html": [
       "<div>\n",
       "<style scoped>\n",
       "    .dataframe tbody tr th:only-of-type {\n",
       "        vertical-align: middle;\n",
       "    }\n",
       "\n",
       "    .dataframe tbody tr th {\n",
       "        vertical-align: top;\n",
       "    }\n",
       "\n",
       "    .dataframe thead th {\n",
       "        text-align: right;\n",
       "    }\n",
       "</style>\n",
       "<table border=\"1\" class=\"dataframe\">\n",
       "  <thead>\n",
       "    <tr style=\"text-align: right;\">\n",
       "      <th></th>\n",
       "      <th>alcohol</th>\n",
       "      <th>malic_acid</th>\n",
       "      <th>ash</th>\n",
       "      <th>alcalinity_of_ash</th>\n",
       "      <th>magnesium</th>\n",
       "      <th>total_phenols</th>\n",
       "      <th>flavanoids</th>\n",
       "      <th>nonflavanoid_phenols</th>\n",
       "      <th>proanthocyanins</th>\n",
       "      <th>color_intensity</th>\n",
       "      <th>hue</th>\n",
       "      <th>od280/od315_of_diluted_wines</th>\n",
       "      <th>proline</th>\n",
       "    </tr>\n",
       "  </thead>\n",
       "  <tbody>\n",
       "    <tr>\n",
       "      <th>0</th>\n",
       "      <td>14.23</td>\n",
       "      <td>1.71</td>\n",
       "      <td>2.43</td>\n",
       "      <td>15.6</td>\n",
       "      <td>127.0</td>\n",
       "      <td>2.80</td>\n",
       "      <td>3.06</td>\n",
       "      <td>0.28</td>\n",
       "      <td>2.29</td>\n",
       "      <td>5.64</td>\n",
       "      <td>1.04</td>\n",
       "      <td>3.92</td>\n",
       "      <td>1065.0</td>\n",
       "    </tr>\n",
       "    <tr>\n",
       "      <th>1</th>\n",
       "      <td>13.20</td>\n",
       "      <td>1.78</td>\n",
       "      <td>2.14</td>\n",
       "      <td>11.2</td>\n",
       "      <td>100.0</td>\n",
       "      <td>2.65</td>\n",
       "      <td>2.76</td>\n",
       "      <td>0.26</td>\n",
       "      <td>1.28</td>\n",
       "      <td>4.38</td>\n",
       "      <td>1.05</td>\n",
       "      <td>3.40</td>\n",
       "      <td>1050.0</td>\n",
       "    </tr>\n",
       "    <tr>\n",
       "      <th>2</th>\n",
       "      <td>13.16</td>\n",
       "      <td>2.36</td>\n",
       "      <td>2.67</td>\n",
       "      <td>18.6</td>\n",
       "      <td>101.0</td>\n",
       "      <td>2.80</td>\n",
       "      <td>3.24</td>\n",
       "      <td>0.30</td>\n",
       "      <td>2.81</td>\n",
       "      <td>5.68</td>\n",
       "      <td>1.03</td>\n",
       "      <td>3.17</td>\n",
       "      <td>1185.0</td>\n",
       "    </tr>\n",
       "    <tr>\n",
       "      <th>3</th>\n",
       "      <td>14.37</td>\n",
       "      <td>1.95</td>\n",
       "      <td>2.50</td>\n",
       "      <td>16.8</td>\n",
       "      <td>113.0</td>\n",
       "      <td>3.85</td>\n",
       "      <td>3.49</td>\n",
       "      <td>0.24</td>\n",
       "      <td>2.18</td>\n",
       "      <td>7.80</td>\n",
       "      <td>0.86</td>\n",
       "      <td>3.45</td>\n",
       "      <td>1480.0</td>\n",
       "    </tr>\n",
       "    <tr>\n",
       "      <th>4</th>\n",
       "      <td>13.24</td>\n",
       "      <td>2.59</td>\n",
       "      <td>2.87</td>\n",
       "      <td>21.0</td>\n",
       "      <td>118.0</td>\n",
       "      <td>2.80</td>\n",
       "      <td>2.69</td>\n",
       "      <td>0.39</td>\n",
       "      <td>1.82</td>\n",
       "      <td>4.32</td>\n",
       "      <td>1.04</td>\n",
       "      <td>2.93</td>\n",
       "      <td>735.0</td>\n",
       "    </tr>\n",
       "  </tbody>\n",
       "</table>\n",
       "</div>"
      ],
      "text/plain": [
       "   alcohol  malic_acid   ash  alcalinity_of_ash  magnesium  total_phenols  \\\n",
       "0    14.23        1.71  2.43               15.6      127.0           2.80   \n",
       "1    13.20        1.78  2.14               11.2      100.0           2.65   \n",
       "2    13.16        2.36  2.67               18.6      101.0           2.80   \n",
       "3    14.37        1.95  2.50               16.8      113.0           3.85   \n",
       "4    13.24        2.59  2.87               21.0      118.0           2.80   \n",
       "\n",
       "   flavanoids  nonflavanoid_phenols  proanthocyanins  color_intensity   hue  \\\n",
       "0        3.06                  0.28             2.29             5.64  1.04   \n",
       "1        2.76                  0.26             1.28             4.38  1.05   \n",
       "2        3.24                  0.30             2.81             5.68  1.03   \n",
       "3        3.49                  0.24             2.18             7.80  0.86   \n",
       "4        2.69                  0.39             1.82             4.32  1.04   \n",
       "\n",
       "   od280/od315_of_diluted_wines  proline  \n",
       "0                          3.92   1065.0  \n",
       "1                          3.40   1050.0  \n",
       "2                          3.17   1185.0  \n",
       "3                          3.45   1480.0  \n",
       "4                          2.93    735.0  "
      ]
     },
     "execution_count": 28,
     "metadata": {},
     "output_type": "execute_result"
    }
   ],
   "source": [
    "wine_df.head(5)"
   ]
  },
  {
   "cell_type": "code",
   "execution_count": 31,
   "id": "841435a5",
   "metadata": {},
   "outputs": [
    {
     "name": "stdout",
     "output_type": "stream",
     "text": [
      "result of linear regression\n",
      "Mean Absolute Error: 0.25128973939722626\n",
      "Mean Squared Error: 0.1062458740952556\n",
      "Mean Root Squared Error: 0.32595379134971814\n",
      "\n",
      "\n",
      " coefficient linear regression\n",
      "[[-8.09017190e-02  4.34817880e-02 -1.18857931e-01  3.65705449e-02\n",
      "  -4.68014203e-04  1.41423581e-01 -4.54107854e-01 -5.13172664e-01\n",
      "   9.69318443e-02  5.34311136e-02 -1.27626604e-01 -2.91381844e-01\n",
      "  -5.72238959e-04]]\n"
     ]
    }
   ],
   "source": [
    "from sklearn.model_selection import train_test_split\n",
    "from sklearn.linear_model import LinearRegression\n",
    "from sklearn.metrics import mean_absolute_error, mean_squared_error\n",
    "\n",
    "# 데이터를 준비하고\n",
    "X_train, X_test, y_train, y_test = train_test_split(wine_df, target_df, test_size=0.3, random_state=101)\n",
    "\n",
    "# 모델을 훈련시킵니다.\n",
    "model = LinearRegression()\n",
    "model.fit(X_train, y_train)\n",
    "\n",
    "# 테스트를 해볼까요?\n",
    "pred = model.predict(X_test)\n",
    "\n",
    "# 테스트 결과는 이렇습니다!\n",
    "print(\"result of linear regression\")\n",
    "print('Mean Absolute Error:', mean_absolute_error(y_test, pred))\n",
    "print('Mean Squared Error:', mean_squared_error(y_test, pred))\n",
    "print('Mean Root Squared Error:', np.sqrt(mean_squared_error(y_test, pred)))\n",
    "\n",
    "print(\"\\n\\n coefficient linear regression\")\n",
    "print(model.coef_)"
   ]
  },
  {
   "cell_type": "code",
   "execution_count": 32,
   "id": "51a3d65a",
   "metadata": {},
   "outputs": [
    {
     "name": "stdout",
     "output_type": "stream",
     "text": [
      "Result of Lasso\n",
      "Mean Absolute Error: 0.24233731936122138\n",
      "Mean Squared Error: 0.0955956894578189\n",
      "Mean Root Squared Error: 0.3091855259513597\n",
      "\n",
      "\n",
      " coefficient of Lasso\n",
      "[-0.          0.01373795 -0.          0.03065716  0.00154719 -0.\n",
      " -0.34143614 -0.          0.          0.06755943 -0.         -0.14558153\n",
      " -0.00089635]\n"
     ]
    }
   ],
   "source": [
    "# Q. 위의 Iris 예제 코드를 참고해서, 빈칸을 채워봅시다.\n",
    "\n",
    "from sklearn.linear_model import Lasso\n",
    "from sklearn.metrics import mean_absolute_error, mean_squared_error\n",
    "\n",
    "# 모델을 준비하고 훈련시킵니다.\n",
    "L1 = Lasso(alpha=0.05)\n",
    "L1.fit(X_train, y_train)\n",
    "\n",
    "# 테스트를 해봅시다.\n",
    "pred = L1.predict(X_test)\n",
    "\n",
    "# 모델 성능은 얼마나 좋을까요?\n",
    "print(\"Result of Lasso\")\n",
    "print('Mean Absolute Error:', mean_absolute_error(y_test, pred))\n",
    "print('Mean Squared Error:', mean_squared_error(y_test, pred))\n",
    "print('Mean Root Squared Error:', np.sqrt(mean_squared_error(y_test, pred)))\n",
    "\n",
    "print(\"\\n\\n coefficient of Lasso\")\n",
    "print(L1.coef_)"
   ]
  },
  {
   "cell_type": "code",
   "execution_count": 1,
   "id": "6f6de59f",
   "metadata": {},
   "outputs": [
    {
     "name": "stdout",
     "output_type": "stream",
     "text": [
      "=3\n"
     ]
    }
   ],
   "source": [
    "from sklearn.datasets import load_wine\n",
    "import pandas as pd\n",
    "import numpy as np\n",
    "from sklearn.model_selection import train_test_split\n",
    "from sklearn.metrics import mean_absolute_error, mean_squared_error\n",
    "\n",
    "wine = load_wine()\n",
    "wine_df = pd.DataFrame(data=wine.data, columns=wine.feature_names)\n",
    "target_df = pd.DataFrame(data=wine.target, columns=['Y'])\n",
    "X_train, X_test, y_train, y_test = train_test_split(wine_df, target_df, test_size= 0.3, random_state=101)\n",
    "print('=3')"
   ]
  },
  {
   "cell_type": "code",
   "execution_count": 2,
   "id": "ce310750",
   "metadata": {},
   "outputs": [
    {
     "name": "stdout",
     "output_type": "stream",
     "text": [
      "result of Lasso\n",
      "Mean Absolute Error: 0.24845768841769436\n",
      "Mean Squared Error: 0.10262989110341268\n",
      "Mean Root Squared Error: 0.32035900346862844\n",
      "\n",
      "\n",
      " coefficient of Lasso\n",
      "[-0.          0.         -0.          0.03295564  0.00109495  0.\n",
      " -0.4027847   0.          0.          0.06023131 -0.         -0.12001119\n",
      " -0.00078971]\n"
     ]
    },
    {
     "name": "stderr",
     "output_type": "stream",
     "text": [
      "/opt/conda/lib/python3.9/site-packages/sklearn/linear_model/_coordinate_descent.py:645: ConvergenceWarning: Objective did not converge. You might want to increase the number of iterations, check the scale of the features or consider increasing regularisation. Duality gap: 3.924e+00, tolerance: 7.480e-03\n",
      "  model = cd_fast.enet_coordinate_descent(\n"
     ]
    }
   ],
   "source": [
    "from sklearn.linear_model import Lasso\n",
    "\n",
    "L1 = Lasso(alpha=0.05, max_iter=5)\n",
    "L1.fit(X_train, y_train)\n",
    "pred = L1.predict(X_test)\n",
    "\n",
    "print(\"result of Lasso\")\n",
    "print('Mean Absolute Error:', mean_absolute_error(y_test, pred))\n",
    "print('Mean Squared Error:', mean_squared_error(y_test, pred))\n",
    "print('Mean Root Squared Error:', np.sqrt(mean_squared_error(y_test, pred)))\n",
    "\n",
    "print(\"\\n\\n coefficient of Lasso\")\n",
    "print(L1.coef_)"
   ]
  },
  {
   "cell_type": "code",
   "execution_count": 3,
   "id": "a639c98d",
   "metadata": {},
   "outputs": [
    {
     "name": "stdout",
     "output_type": "stream",
     "text": [
      "result of Ridge\n",
      "Mean Absolute Error: 0.251146695993643\n",
      "Mean Squared Error: 0.10568076460795564\n",
      "Mean Root Squared Error: 0.3250857803841251\n",
      "\n",
      "\n",
      " coefficient of Ridge\n",
      "[[-8.12456257e-02  4.35541496e-02 -1.21661565e-01  3.65979773e-02\n",
      "  -3.94014013e-04  1.39168707e-01 -4.50691113e-01 -4.87216747e-01\n",
      "   9.54111059e-02  5.37077039e-02 -1.28602933e-01 -2.89832790e-01\n",
      "  -5.73136185e-04]]\n"
     ]
    }
   ],
   "source": [
    "# Q. L1 regularization 코드를 참고하여 아래 코드를 채워주세요.\n",
    "\n",
    "from sklearn.linear_model import Ridge\n",
    "\n",
    "L2 = Ridge(alpha=0.05, max_iter=5)\n",
    "L2.fit(X_train, y_train)\n",
    "pred = L2.predict(X_test)\n",
    "\n",
    "\n",
    "print(\"result of Ridge\")\n",
    "print('Mean Absolute Error:', mean_absolute_error(y_test, pred))\n",
    "print('Mean Squared Error:', mean_squared_error(y_test, pred))\n",
    "print('Mean Root Squared Error:', np.sqrt(mean_squared_error(y_test, pred)))\n",
    "\n",
    "print(\"\\n\\n coefficient of Ridge\")\n",
    "print(L2.coef_)"
   ]
  },
  {
   "cell_type": "markdown",
   "id": "e6ec95fa",
   "metadata": {},
   "source": [
    "### Lp norm - Vector norm"
   ]
  },
  {
   "cell_type": "code",
   "execution_count": 28,
   "id": "9d3fa91c",
   "metadata": {},
   "outputs": [
    {
     "name": "stdout",
     "output_type": "stream",
     "text": [
      "result of numpy package norm function : 10.00000 \n",
      "result of making norm : 10.00000 \n"
     ]
    }
   ],
   "source": [
    "# [Playground] x와 p를 바꾸어가며 norm 값이 어떻게 변하는지 실험해봅시다!\n",
    "# --------------------------- #\n",
    "x = np.array([1,10,1,1,1],dtype='object')\n",
    "p = 20\n",
    "# --------------------------- #\n",
    "\n",
    "norm_x = np.linalg.norm(x, ord=p)\n",
    "making_norm = (sum(x**p))**(1/p)\n",
    "print(\"result of numpy package norm function : %0.5f \"%norm_x) \n",
    "print(\"result of making norm : %0.5f \"%making_norm)"
   ]
  },
  {
   "cell_type": "code",
   "execution_count": 5,
   "id": "4e304b3a",
   "metadata": {},
   "outputs": [
    {
     "name": "stdout",
     "output_type": "stream",
     "text": [
      "result of infinite norm : 10.00000 \n"
     ]
    }
   ],
   "source": [
    "norm_x = np.linalg.norm(x, ord=np.inf)\n",
    "print(\"result of infinite norm : %0.5f \"%norm_x)"
   ]
  },
  {
   "cell_type": "markdown",
   "id": "da9281f8",
   "metadata": {},
   "source": [
    "### Lp norm - Matrix norm"
   ]
  },
  {
   "cell_type": "markdown",
   "id": "ac5d512c",
   "metadata": {},
   "source": [
    "* p=1인 경우에는 컬럼(column)의 합이 가장 큰 값이 출력되고, \n",
    "* p=∞인 경우에는 로우(row)의 합이 가장 큰 값이 출력됩니다."
   ]
  },
  {
   "cell_type": "code",
   "execution_count": 11,
   "id": "ac241e20",
   "metadata": {},
   "outputs": [
    {
     "name": "stdout",
     "output_type": "stream",
     "text": [
      "result one norm of A : 14.0\n",
      "result inf norm of A : 18.0\n"
     ]
    }
   ],
   "source": [
    "A = np.array([[1,2,3], [1,2,3], [4,6,8]])\n",
    "\n",
    "one_norm_A = np.linalg.norm(A, ord=1)\n",
    "print(\"result one norm of A :\", one_norm_A)\n",
    "\n",
    "inf_norm_A = np.linalg.norm(A, ord=np.inf)\n",
    "print(\"result inf norm of A :\", inf_norm_A)"
   ]
  },
  {
   "cell_type": "markdown",
   "id": "a770a06e",
   "metadata": {},
   "source": [
    "\n",
    "### Dropout"
   ]
  },
  {
   "cell_type": "code",
   "execution_count": 3,
   "id": "2c0508be",
   "metadata": {},
   "outputs": [
    {
     "name": "stdout",
     "output_type": "stream",
     "text": [
      "=3\n"
     ]
    }
   ],
   "source": [
    "import tensorflow as tf\n",
    "from tensorflow import keras\n",
    "import numpy as np\n",
    "import matplotlib.pyplot as plt\n",
    "from sklearn.model_selection import train_test_split\n",
    "\n",
    "fashion_mnist = keras.datasets.fashion_mnist\n",
    "print('=3')"
   ]
  },
  {
   "cell_type": "code",
   "execution_count": 40,
   "id": "831abc64",
   "metadata": {},
   "outputs": [],
   "source": [
    "(train_images, train_labels), (test_images, test_labels) = fashion_mnist.load_data()\n",
    "class_names = ['T-shirt/top', 'Trouser', 'Pullover', 'Dress', 'Coat',\n",
    "               'Sandal', 'Shirt', 'Sneaker', 'Bag', 'Ankle boot']\n",
    "\n",
    "train_images = train_images / 255.0\n",
    "test_images = test_images / 255.0"
   ]
  },
  {
   "cell_type": "markdown",
   "id": "6aa93604",
   "metadata": {},
   "source": [
    "#### not overfitting인 경우, dropout 사용"
   ]
  },
  {
   "cell_type": "code",
   "execution_count": 5,
   "id": "871c078f",
   "metadata": {},
   "outputs": [
    {
     "name": "stdout",
     "output_type": "stream",
     "text": [
      "Epoch 1/5\n",
      "1875/1875 [==============================] - 13s 6ms/step - loss: 1.3793 - accuracy: 0.4560\n",
      "Epoch 2/5\n",
      "1875/1875 [==============================] - 12s 6ms/step - loss: 1.1423 - accuracy: 0.5393\n",
      "Epoch 3/5\n",
      "1875/1875 [==============================] - 12s 6ms/step - loss: 1.0834 - accuracy: 0.5655\n",
      "Epoch 4/5\n",
      "1875/1875 [==============================] - 12s 6ms/step - loss: 1.0630 - accuracy: 0.5704\n",
      "Epoch 5/5\n",
      "1875/1875 [==============================] - 12s 6ms/step - loss: 1.0386 - accuracy: 0.5842\n"
     ]
    }
   ],
   "source": [
    "model = keras.Sequential([\n",
    "    keras.layers.Flatten(input_shape=(28, 28)),\n",
    "    keras.layers.Dense(128, activation='relu'),\n",
    "    # 여기에 dropout layer를 추가해보았습니다. 나머지 layer는 아래의 실습과 같습니다.\n",
    "    keras.layers.Dropout(0.9),\n",
    "    keras.layers.Dense(10, activation='softmax')\n",
    "])\n",
    "\n",
    "model.compile(optimizer='adam',loss='sparse_categorical_crossentropy',\n",
    "              metrics=['accuracy'])\n",
    "\n",
    "history= model.fit(train_images, train_labels, epochs=5)"
   ]
  },
  {
   "cell_type": "code",
   "execution_count": 38,
   "id": "5635a5f5",
   "metadata": {},
   "outputs": [
    {
     "name": "stdout",
     "output_type": "stream",
     "text": [
      "Epoch 1/5\n",
      "1875/1875 [==============================] - 4s 2ms/step - loss: 0.4913 - accuracy: 0.8271\n",
      "Epoch 2/5\n",
      "1875/1875 [==============================] - 4s 2ms/step - loss: 0.3729 - accuracy: 0.8671\n",
      "Epoch 3/5\n",
      "1875/1875 [==============================] - 4s 2ms/step - loss: 0.3373 - accuracy: 0.8777\n",
      "Epoch 4/5\n",
      "1875/1875 [==============================] - 4s 2ms/step - loss: 0.3114 - accuracy: 0.8858\n",
      "Epoch 5/5\n",
      "1875/1875 [==============================] - 4s 2ms/step - loss: 0.2941 - accuracy: 0.8917\n"
     ]
    }
   ],
   "source": [
    "model = keras.Sequential([\n",
    "    keras.layers.Flatten(input_shape=(28, 28)),\n",
    "    # 이번에는 dropout layer가 없습니다. \n",
    "    keras.layers.Dense(128, activation='relu'),\n",
    "    keras.layers.Dense(10, activation='softmax')\n",
    "])\n",
    "\n",
    "model.compile(optimizer='adam',loss='sparse_categorical_crossentropy',\n",
    "              metrics=['accuracy'])\n",
    "\n",
    "history = model.fit(train_images, train_labels, epochs=5)"
   ]
  },
  {
   "cell_type": "markdown",
   "id": "8d2af5a0",
   "metadata": {},
   "source": [
    "#### overfitting인 경우, dropout 사용"
   ]
  },
  {
   "cell_type": "code",
   "execution_count": 6,
   "id": "7a950e53",
   "metadata": {},
   "outputs": [
    {
     "name": "stdout",
     "output_type": "stream",
     "text": [
      "Epoch 1/200\n",
      "117/117 [==============================] - 5s 36ms/step - loss: 2.0505 - accuracy: 0.5041 - val_loss: 1.6421 - val_accuracy: 0.6067\n",
      "Epoch 2/200\n",
      "117/117 [==============================] - 4s 32ms/step - loss: 1.4060 - accuracy: 0.6126 - val_loss: 1.1846 - val_accuracy: 0.6550\n",
      "Epoch 3/200\n",
      "117/117 [==============================] - 4s 31ms/step - loss: 1.0831 - accuracy: 0.6768 - val_loss: 0.9616 - val_accuracy: 0.7133\n",
      "Epoch 4/200\n",
      "117/117 [==============================] - 4s 32ms/step - loss: 0.9035 - accuracy: 0.7157 - val_loss: 0.8270 - val_accuracy: 0.7467\n",
      "Epoch 5/200\n",
      "117/117 [==============================] - 4s 31ms/step - loss: 0.7950 - accuracy: 0.7349 - val_loss: 0.7427 - val_accuracy: 0.7600\n",
      "Epoch 6/200\n",
      "117/117 [==============================] - 4s 31ms/step - loss: 0.7293 - accuracy: 0.7464 - val_loss: 0.6973 - val_accuracy: 0.7667\n",
      "Epoch 7/200\n",
      "117/117 [==============================] - 4s 31ms/step - loss: 0.6868 - accuracy: 0.7565 - val_loss: 0.6568 - val_accuracy: 0.7800\n",
      "Epoch 8/200\n",
      "117/117 [==============================] - 4s 31ms/step - loss: 0.6556 - accuracy: 0.7650 - val_loss: 0.6302 - val_accuracy: 0.7850\n",
      "Epoch 9/200\n",
      "117/117 [==============================] - 4s 32ms/step - loss: 0.6315 - accuracy: 0.7729 - val_loss: 0.6102 - val_accuracy: 0.7900\n",
      "Epoch 10/200\n",
      "117/117 [==============================] - 4s 34ms/step - loss: 0.6098 - accuracy: 0.7819 - val_loss: 0.5945 - val_accuracy: 0.7867\n",
      "Epoch 11/200\n",
      "117/117 [==============================] - 4s 30ms/step - loss: 0.5919 - accuracy: 0.7882 - val_loss: 0.5801 - val_accuracy: 0.7967\n",
      "Epoch 12/200\n",
      "117/117 [==============================] - 3s 30ms/step - loss: 0.5765 - accuracy: 0.7946 - val_loss: 0.5666 - val_accuracy: 0.7950\n",
      "Epoch 13/200\n",
      "117/117 [==============================] - 4s 31ms/step - loss: 0.5623 - accuracy: 0.8004 - val_loss: 0.5549 - val_accuracy: 0.8017\n",
      "Epoch 14/200\n",
      "117/117 [==============================] - 4s 32ms/step - loss: 0.5493 - accuracy: 0.8062 - val_loss: 0.5419 - val_accuracy: 0.8000\n",
      "Epoch 15/200\n",
      "117/117 [==============================] - 4s 31ms/step - loss: 0.5385 - accuracy: 0.8112 - val_loss: 0.5431 - val_accuracy: 0.8050\n",
      "Epoch 16/200\n",
      "117/117 [==============================] - 4s 31ms/step - loss: 0.5288 - accuracy: 0.8142 - val_loss: 0.5250 - val_accuracy: 0.8000\n",
      "Epoch 17/200\n",
      "117/117 [==============================] - 4s 32ms/step - loss: 0.5192 - accuracy: 0.8185 - val_loss: 0.5150 - val_accuracy: 0.8100\n",
      "Epoch 18/200\n",
      "117/117 [==============================] - 4s 30ms/step - loss: 0.5117 - accuracy: 0.8202 - val_loss: 0.5071 - val_accuracy: 0.8200\n",
      "Epoch 19/200\n",
      "117/117 [==============================] - 4s 31ms/step - loss: 0.5039 - accuracy: 0.8237 - val_loss: 0.5011 - val_accuracy: 0.8117\n",
      "Epoch 20/200\n",
      "117/117 [==============================] - 4s 30ms/step - loss: 0.4963 - accuracy: 0.8265 - val_loss: 0.5007 - val_accuracy: 0.8167\n",
      "Epoch 21/200\n",
      "117/117 [==============================] - 4s 31ms/step - loss: 0.4902 - accuracy: 0.8287 - val_loss: 0.4935 - val_accuracy: 0.8250\n",
      "Epoch 22/200\n",
      "117/117 [==============================] - 4s 32ms/step - loss: 0.4844 - accuracy: 0.8305 - val_loss: 0.4875 - val_accuracy: 0.8250\n",
      "Epoch 23/200\n",
      "117/117 [==============================] - 4s 32ms/step - loss: 0.4799 - accuracy: 0.8322 - val_loss: 0.4832 - val_accuracy: 0.8233\n",
      "Epoch 24/200\n",
      "117/117 [==============================] - 4s 30ms/step - loss: 0.4745 - accuracy: 0.8348 - val_loss: 0.4768 - val_accuracy: 0.8217\n",
      "Epoch 25/200\n",
      "117/117 [==============================] - 3s 29ms/step - loss: 0.4698 - accuracy: 0.8359 - val_loss: 0.4722 - val_accuracy: 0.8250\n",
      "Epoch 26/200\n",
      "117/117 [==============================] - 4s 31ms/step - loss: 0.4655 - accuracy: 0.8372 - val_loss: 0.4708 - val_accuracy: 0.8317\n",
      "Epoch 27/200\n",
      "117/117 [==============================] - 4s 31ms/step - loss: 0.4615 - accuracy: 0.8390 - val_loss: 0.4691 - val_accuracy: 0.8183\n",
      "Epoch 28/200\n",
      "117/117 [==============================] - 4s 31ms/step - loss: 0.4584 - accuracy: 0.8403 - val_loss: 0.4625 - val_accuracy: 0.8283\n",
      "Epoch 29/200\n",
      "117/117 [==============================] - 4s 32ms/step - loss: 0.4538 - accuracy: 0.8424 - val_loss: 0.4617 - val_accuracy: 0.8283\n",
      "Epoch 30/200\n",
      "117/117 [==============================] - 4s 31ms/step - loss: 0.4519 - accuracy: 0.8423 - val_loss: 0.4617 - val_accuracy: 0.8350\n",
      "Epoch 31/200\n",
      "117/117 [==============================] - 4s 30ms/step - loss: 0.4479 - accuracy: 0.8435 - val_loss: 0.4539 - val_accuracy: 0.8350\n",
      "Epoch 32/200\n",
      "117/117 [==============================] - 4s 32ms/step - loss: 0.4456 - accuracy: 0.8453 - val_loss: 0.4528 - val_accuracy: 0.8300\n",
      "Epoch 33/200\n",
      "117/117 [==============================] - 4s 32ms/step - loss: 0.4422 - accuracy: 0.8458 - val_loss: 0.4498 - val_accuracy: 0.8350\n",
      "Epoch 34/200\n",
      "117/117 [==============================] - 4s 33ms/step - loss: 0.4396 - accuracy: 0.8468 - val_loss: 0.4446 - val_accuracy: 0.8317\n",
      "Epoch 35/200\n",
      "117/117 [==============================] - 4s 31ms/step - loss: 0.4369 - accuracy: 0.8471 - val_loss: 0.4438 - val_accuracy: 0.8333\n",
      "Epoch 36/200\n",
      "117/117 [==============================] - 4s 32ms/step - loss: 0.4352 - accuracy: 0.8479 - val_loss: 0.4397 - val_accuracy: 0.8333\n",
      "Epoch 37/200\n",
      "117/117 [==============================] - 4s 30ms/step - loss: 0.4319 - accuracy: 0.8494 - val_loss: 0.4392 - val_accuracy: 0.8367\n",
      "Epoch 38/200\n",
      "117/117 [==============================] - 4s 31ms/step - loss: 0.4300 - accuracy: 0.8498 - val_loss: 0.4348 - val_accuracy: 0.8333\n",
      "Epoch 39/200\n",
      "117/117 [==============================] - 4s 30ms/step - loss: 0.4279 - accuracy: 0.8511 - val_loss: 0.4329 - val_accuracy: 0.8367\n",
      "Epoch 40/200\n",
      "117/117 [==============================] - 4s 31ms/step - loss: 0.4263 - accuracy: 0.8509 - val_loss: 0.4349 - val_accuracy: 0.8400\n",
      "Epoch 41/200\n",
      "117/117 [==============================] - 4s 32ms/step - loss: 0.4240 - accuracy: 0.8522 - val_loss: 0.4338 - val_accuracy: 0.8350\n",
      "Epoch 42/200\n",
      "117/117 [==============================] - 4s 30ms/step - loss: 0.4215 - accuracy: 0.8530 - val_loss: 0.4266 - val_accuracy: 0.8333\n",
      "Epoch 43/200\n",
      "117/117 [==============================] - 4s 30ms/step - loss: 0.4211 - accuracy: 0.8530 - val_loss: 0.4238 - val_accuracy: 0.8350\n",
      "Epoch 44/200\n",
      "117/117 [==============================] - 4s 31ms/step - loss: 0.4178 - accuracy: 0.8546 - val_loss: 0.4237 - val_accuracy: 0.8400\n",
      "Epoch 45/200\n",
      "117/117 [==============================] - 4s 31ms/step - loss: 0.4161 - accuracy: 0.8552 - val_loss: 0.4216 - val_accuracy: 0.8333\n",
      "Epoch 46/200\n",
      "117/117 [==============================] - 4s 31ms/step - loss: 0.4152 - accuracy: 0.8545 - val_loss: 0.4210 - val_accuracy: 0.8400\n",
      "Epoch 47/200\n",
      "117/117 [==============================] - 4s 32ms/step - loss: 0.4128 - accuracy: 0.8552 - val_loss: 0.4187 - val_accuracy: 0.8317\n",
      "Epoch 48/200\n",
      "117/117 [==============================] - 4s 30ms/step - loss: 0.4106 - accuracy: 0.8570 - val_loss: 0.4145 - val_accuracy: 0.8350\n",
      "Epoch 49/200\n",
      "117/117 [==============================] - 4s 34ms/step - loss: 0.4092 - accuracy: 0.8569 - val_loss: 0.4162 - val_accuracy: 0.8333\n",
      "Epoch 50/200\n",
      "117/117 [==============================] - 4s 31ms/step - loss: 0.4075 - accuracy: 0.8575 - val_loss: 0.4105 - val_accuracy: 0.8400\n",
      "Epoch 51/200\n",
      "117/117 [==============================] - 4s 30ms/step - loss: 0.4061 - accuracy: 0.8581 - val_loss: 0.4187 - val_accuracy: 0.8317\n",
      "Epoch 52/200\n",
      "117/117 [==============================] - 4s 30ms/step - loss: 0.4059 - accuracy: 0.8584 - val_loss: 0.4108 - val_accuracy: 0.8367\n",
      "Epoch 53/200\n",
      "117/117 [==============================] - 4s 33ms/step - loss: 0.4034 - accuracy: 0.8585 - val_loss: 0.4070 - val_accuracy: 0.8383\n",
      "Epoch 54/200\n",
      "117/117 [==============================] - 4s 30ms/step - loss: 0.4016 - accuracy: 0.8598 - val_loss: 0.4110 - val_accuracy: 0.8283\n",
      "Epoch 55/200\n",
      "117/117 [==============================] - 4s 31ms/step - loss: 0.4011 - accuracy: 0.8594 - val_loss: 0.4057 - val_accuracy: 0.8383\n",
      "Epoch 56/200\n",
      "117/117 [==============================] - 4s 30ms/step - loss: 0.4004 - accuracy: 0.8599 - val_loss: 0.4021 - val_accuracy: 0.8400\n",
      "Epoch 57/200\n"
     ]
    },
    {
     "name": "stdout",
     "output_type": "stream",
     "text": [
      "117/117 [==============================] - 4s 31ms/step - loss: 0.3976 - accuracy: 0.8610 - val_loss: 0.4047 - val_accuracy: 0.8333\n",
      "Epoch 58/200\n",
      "117/117 [==============================] - 4s 30ms/step - loss: 0.3960 - accuracy: 0.8613 - val_loss: 0.4014 - val_accuracy: 0.8333\n",
      "Epoch 59/200\n",
      "117/117 [==============================] - 4s 30ms/step - loss: 0.3962 - accuracy: 0.8613 - val_loss: 0.4025 - val_accuracy: 0.8400\n",
      "Epoch 60/200\n",
      "117/117 [==============================] - 4s 32ms/step - loss: 0.3933 - accuracy: 0.8619 - val_loss: 0.4017 - val_accuracy: 0.8417\n",
      "Epoch 61/200\n",
      "117/117 [==============================] - 4s 30ms/step - loss: 0.3919 - accuracy: 0.8622 - val_loss: 0.4063 - val_accuracy: 0.8367\n",
      "Epoch 62/200\n",
      "117/117 [==============================] - 4s 32ms/step - loss: 0.3919 - accuracy: 0.8624 - val_loss: 0.3967 - val_accuracy: 0.8367\n",
      "Epoch 63/200\n",
      "117/117 [==============================] - 4s 31ms/step - loss: 0.3898 - accuracy: 0.8632 - val_loss: 0.3977 - val_accuracy: 0.8400\n",
      "Epoch 64/200\n",
      "117/117 [==============================] - 4s 31ms/step - loss: 0.3884 - accuracy: 0.8632 - val_loss: 0.3966 - val_accuracy: 0.8400\n",
      "Epoch 65/200\n",
      "117/117 [==============================] - 4s 30ms/step - loss: 0.3873 - accuracy: 0.8641 - val_loss: 0.3970 - val_accuracy: 0.8383\n",
      "Epoch 66/200\n",
      "117/117 [==============================] - 4s 30ms/step - loss: 0.3871 - accuracy: 0.8636 - val_loss: 0.3931 - val_accuracy: 0.8383\n",
      "Epoch 67/200\n",
      "117/117 [==============================] - 4s 31ms/step - loss: 0.3847 - accuracy: 0.8653 - val_loss: 0.3946 - val_accuracy: 0.8383\n",
      "Epoch 68/200\n",
      "117/117 [==============================] - 4s 31ms/step - loss: 0.3840 - accuracy: 0.8651 - val_loss: 0.3923 - val_accuracy: 0.8383\n",
      "Epoch 69/200\n",
      "117/117 [==============================] - 4s 30ms/step - loss: 0.3828 - accuracy: 0.8663 - val_loss: 0.3919 - val_accuracy: 0.8350\n",
      "Epoch 70/200\n",
      "117/117 [==============================] - 4s 31ms/step - loss: 0.3838 - accuracy: 0.8649 - val_loss: 0.3876 - val_accuracy: 0.8433\n",
      "Epoch 71/200\n",
      "117/117 [==============================] - 4s 30ms/step - loss: 0.3811 - accuracy: 0.8658 - val_loss: 0.3889 - val_accuracy: 0.8417\n",
      "Epoch 72/200\n",
      "117/117 [==============================] - 4s 32ms/step - loss: 0.3789 - accuracy: 0.8669 - val_loss: 0.3896 - val_accuracy: 0.8383\n",
      "Epoch 73/200\n",
      "117/117 [==============================] - 4s 32ms/step - loss: 0.3783 - accuracy: 0.8669 - val_loss: 0.3844 - val_accuracy: 0.8350\n",
      "Epoch 74/200\n",
      "117/117 [==============================] - 4s 30ms/step - loss: 0.3768 - accuracy: 0.8680 - val_loss: 0.3859 - val_accuracy: 0.8433\n",
      "Epoch 75/200\n",
      "117/117 [==============================] - 4s 32ms/step - loss: 0.3759 - accuracy: 0.8686 - val_loss: 0.3843 - val_accuracy: 0.8367\n",
      "Epoch 76/200\n",
      "117/117 [==============================] - 4s 34ms/step - loss: 0.3753 - accuracy: 0.8676 - val_loss: 0.3824 - val_accuracy: 0.8383\n",
      "Epoch 77/200\n",
      "117/117 [==============================] - 4s 31ms/step - loss: 0.3738 - accuracy: 0.8688 - val_loss: 0.3825 - val_accuracy: 0.8433\n",
      "Epoch 78/200\n",
      "117/117 [==============================] - 2s 15ms/step - loss: 0.3729 - accuracy: 0.8685 - val_loss: 0.3788 - val_accuracy: 0.8467\n",
      "Epoch 79/200\n",
      "117/117 [==============================] - 2s 15ms/step - loss: 0.3727 - accuracy: 0.8692 - val_loss: 0.3795 - val_accuracy: 0.8417\n",
      "Epoch 80/200\n",
      "117/117 [==============================] - 2s 15ms/step - loss: 0.3706 - accuracy: 0.8697 - val_loss: 0.3797 - val_accuracy: 0.8417\n",
      "Epoch 81/200\n",
      "117/117 [==============================] - 2s 15ms/step - loss: 0.3701 - accuracy: 0.8691 - val_loss: 0.3811 - val_accuracy: 0.8383\n",
      "Epoch 82/200\n",
      "117/117 [==============================] - 2s 15ms/step - loss: 0.3700 - accuracy: 0.8703 - val_loss: 0.3762 - val_accuracy: 0.8433\n",
      "Epoch 83/200\n",
      "117/117 [==============================] - 2s 15ms/step - loss: 0.3682 - accuracy: 0.8706 - val_loss: 0.3763 - val_accuracy: 0.8417\n",
      "Epoch 84/200\n",
      "117/117 [==============================] - 2s 15ms/step - loss: 0.3664 - accuracy: 0.8715 - val_loss: 0.3757 - val_accuracy: 0.8483\n",
      "Epoch 85/200\n",
      "117/117 [==============================] - 2s 15ms/step - loss: 0.3653 - accuracy: 0.8718 - val_loss: 0.3771 - val_accuracy: 0.8433\n",
      "Epoch 86/200\n",
      "117/117 [==============================] - 2s 15ms/step - loss: 0.3647 - accuracy: 0.8714 - val_loss: 0.3780 - val_accuracy: 0.8467\n",
      "Epoch 87/200\n",
      "117/117 [==============================] - 2s 15ms/step - loss: 0.3645 - accuracy: 0.8715 - val_loss: 0.3766 - val_accuracy: 0.8433\n",
      "Epoch 88/200\n",
      "117/117 [==============================] - 2s 15ms/step - loss: 0.3634 - accuracy: 0.8723 - val_loss: 0.3707 - val_accuracy: 0.8367\n",
      "Epoch 89/200\n",
      "117/117 [==============================] - 2s 15ms/step - loss: 0.3617 - accuracy: 0.8723 - val_loss: 0.3706 - val_accuracy: 0.8433\n",
      "Epoch 90/200\n",
      "117/117 [==============================] - 2s 15ms/step - loss: 0.3618 - accuracy: 0.8724 - val_loss: 0.3726 - val_accuracy: 0.8467\n",
      "Epoch 91/200\n",
      "117/117 [==============================] - 2s 15ms/step - loss: 0.3601 - accuracy: 0.8736 - val_loss: 0.3716 - val_accuracy: 0.8467\n",
      "Epoch 92/200\n",
      "117/117 [==============================] - 2s 15ms/step - loss: 0.3591 - accuracy: 0.8737 - val_loss: 0.3701 - val_accuracy: 0.8433\n",
      "Epoch 93/200\n",
      "117/117 [==============================] - 2s 15ms/step - loss: 0.3582 - accuracy: 0.8741 - val_loss: 0.3841 - val_accuracy: 0.8533\n",
      "Epoch 94/200\n",
      "117/117 [==============================] - 2s 15ms/step - loss: 0.3603 - accuracy: 0.8723 - val_loss: 0.3697 - val_accuracy: 0.8417\n",
      "Epoch 95/200\n",
      "117/117 [==============================] - 2s 15ms/step - loss: 0.3563 - accuracy: 0.8746 - val_loss: 0.3695 - val_accuracy: 0.8483\n",
      "Epoch 96/200\n",
      "117/117 [==============================] - 2s 15ms/step - loss: 0.3554 - accuracy: 0.8749 - val_loss: 0.3729 - val_accuracy: 0.8467\n",
      "Epoch 97/200\n",
      "117/117 [==============================] - 2s 15ms/step - loss: 0.3560 - accuracy: 0.8742 - val_loss: 0.3658 - val_accuracy: 0.8467\n",
      "Epoch 98/200\n",
      "117/117 [==============================] - 2s 15ms/step - loss: 0.3540 - accuracy: 0.8749 - val_loss: 0.3688 - val_accuracy: 0.8550\n",
      "Epoch 99/200\n",
      "117/117 [==============================] - 2s 15ms/step - loss: 0.3538 - accuracy: 0.8751 - val_loss: 0.3674 - val_accuracy: 0.8517\n",
      "Epoch 100/200\n",
      "117/117 [==============================] - 2s 15ms/step - loss: 0.3523 - accuracy: 0.8752 - val_loss: 0.3681 - val_accuracy: 0.8500\n",
      "Epoch 101/200\n",
      "117/117 [==============================] - 2s 15ms/step - loss: 0.3517 - accuracy: 0.8759 - val_loss: 0.3662 - val_accuracy: 0.8483\n",
      "Epoch 102/200\n",
      "117/117 [==============================] - 2s 15ms/step - loss: 0.3508 - accuracy: 0.8763 - val_loss: 0.3667 - val_accuracy: 0.8483\n",
      "Epoch 103/200\n",
      "117/117 [==============================] - 2s 15ms/step - loss: 0.3503 - accuracy: 0.8763 - val_loss: 0.3660 - val_accuracy: 0.8567\n",
      "Epoch 104/200\n",
      "117/117 [==============================] - 2s 15ms/step - loss: 0.3487 - accuracy: 0.8769 - val_loss: 0.3614 - val_accuracy: 0.8533\n",
      "Epoch 105/200\n",
      "117/117 [==============================] - 2s 15ms/step - loss: 0.3476 - accuracy: 0.8775 - val_loss: 0.3639 - val_accuracy: 0.8517\n",
      "Epoch 106/200\n",
      "117/117 [==============================] - 2s 15ms/step - loss: 0.3490 - accuracy: 0.8769 - val_loss: 0.3662 - val_accuracy: 0.8483\n",
      "Epoch 107/200\n",
      "117/117 [==============================] - 2s 15ms/step - loss: 0.3464 - accuracy: 0.8781 - val_loss: 0.3618 - val_accuracy: 0.8533\n",
      "Epoch 108/200\n",
      "117/117 [==============================] - 2s 15ms/step - loss: 0.3458 - accuracy: 0.8781 - val_loss: 0.3598 - val_accuracy: 0.8517\n",
      "Epoch 109/200\n",
      "117/117 [==============================] - 2s 15ms/step - loss: 0.3457 - accuracy: 0.8776 - val_loss: 0.3574 - val_accuracy: 0.8567\n",
      "Epoch 110/200\n",
      "117/117 [==============================] - 2s 15ms/step - loss: 0.3444 - accuracy: 0.8779 - val_loss: 0.3585 - val_accuracy: 0.8483\n",
      "Epoch 111/200\n",
      "117/117 [==============================] - 2s 15ms/step - loss: 0.3434 - accuracy: 0.8785 - val_loss: 0.3590 - val_accuracy: 0.8517\n",
      "Epoch 112/200\n",
      "117/117 [==============================] - 2s 15ms/step - loss: 0.3424 - accuracy: 0.8791 - val_loss: 0.3550 - val_accuracy: 0.8567\n",
      "Epoch 113/200\n"
     ]
    },
    {
     "name": "stdout",
     "output_type": "stream",
     "text": [
      "117/117 [==============================] - 2s 15ms/step - loss: 0.3439 - accuracy: 0.8787 - val_loss: 0.3577 - val_accuracy: 0.8550\n",
      "Epoch 114/200\n",
      "117/117 [==============================] - 2s 15ms/step - loss: 0.3414 - accuracy: 0.8795 - val_loss: 0.3555 - val_accuracy: 0.8467\n",
      "Epoch 115/200\n",
      "117/117 [==============================] - 2s 15ms/step - loss: 0.3404 - accuracy: 0.8802 - val_loss: 0.3613 - val_accuracy: 0.8550\n",
      "Epoch 116/200\n",
      "117/117 [==============================] - 2s 15ms/step - loss: 0.3394 - accuracy: 0.8804 - val_loss: 0.3570 - val_accuracy: 0.8483\n",
      "Epoch 117/200\n",
      "117/117 [==============================] - 2s 15ms/step - loss: 0.3390 - accuracy: 0.8801 - val_loss: 0.3617 - val_accuracy: 0.8533\n",
      "Epoch 118/200\n",
      "117/117 [==============================] - 2s 15ms/step - loss: 0.3393 - accuracy: 0.8797 - val_loss: 0.3579 - val_accuracy: 0.8500\n",
      "Epoch 119/200\n",
      "117/117 [==============================] - 2s 15ms/step - loss: 0.3374 - accuracy: 0.8806 - val_loss: 0.3545 - val_accuracy: 0.8550\n",
      "Epoch 120/200\n",
      "117/117 [==============================] - 2s 15ms/step - loss: 0.3362 - accuracy: 0.8811 - val_loss: 0.3572 - val_accuracy: 0.8567\n",
      "Epoch 121/200\n",
      "117/117 [==============================] - 2s 15ms/step - loss: 0.3363 - accuracy: 0.8811 - val_loss: 0.3535 - val_accuracy: 0.8500\n",
      "Epoch 122/200\n",
      "117/117 [==============================] - 2s 15ms/step - loss: 0.3356 - accuracy: 0.8814 - val_loss: 0.3576 - val_accuracy: 0.8567\n",
      "Epoch 123/200\n",
      "117/117 [==============================] - 2s 15ms/step - loss: 0.3347 - accuracy: 0.8823 - val_loss: 0.3532 - val_accuracy: 0.8533\n",
      "Epoch 124/200\n",
      "117/117 [==============================] - 2s 15ms/step - loss: 0.3332 - accuracy: 0.8823 - val_loss: 0.3539 - val_accuracy: 0.8583\n",
      "Epoch 125/200\n",
      "117/117 [==============================] - 2s 15ms/step - loss: 0.3330 - accuracy: 0.8821 - val_loss: 0.3514 - val_accuracy: 0.8583\n",
      "Epoch 126/200\n",
      "117/117 [==============================] - 2s 15ms/step - loss: 0.3325 - accuracy: 0.8826 - val_loss: 0.3543 - val_accuracy: 0.8533\n",
      "Epoch 127/200\n",
      "117/117 [==============================] - 2s 15ms/step - loss: 0.3319 - accuracy: 0.8825 - val_loss: 0.3535 - val_accuracy: 0.8550\n",
      "Epoch 128/200\n",
      "117/117 [==============================] - 2s 15ms/step - loss: 0.3316 - accuracy: 0.8831 - val_loss: 0.3546 - val_accuracy: 0.8533\n",
      "Epoch 129/200\n",
      "117/117 [==============================] - 2s 15ms/step - loss: 0.3314 - accuracy: 0.8825 - val_loss: 0.3524 - val_accuracy: 0.8583\n",
      "Epoch 130/200\n",
      "117/117 [==============================] - 2s 15ms/step - loss: 0.3294 - accuracy: 0.8835 - val_loss: 0.3531 - val_accuracy: 0.8550\n",
      "Epoch 131/200\n",
      "117/117 [==============================] - 2s 15ms/step - loss: 0.3301 - accuracy: 0.8831 - val_loss: 0.3515 - val_accuracy: 0.8533\n",
      "Epoch 132/200\n",
      "117/117 [==============================] - 2s 15ms/step - loss: 0.3280 - accuracy: 0.8840 - val_loss: 0.3489 - val_accuracy: 0.8600\n",
      "Epoch 133/200\n",
      "117/117 [==============================] - 2s 15ms/step - loss: 0.3280 - accuracy: 0.8847 - val_loss: 0.3491 - val_accuracy: 0.8533\n",
      "Epoch 134/200\n",
      "117/117 [==============================] - 2s 15ms/step - loss: 0.3277 - accuracy: 0.8843 - val_loss: 0.3511 - val_accuracy: 0.8533\n",
      "Epoch 135/200\n",
      "117/117 [==============================] - 2s 15ms/step - loss: 0.3270 - accuracy: 0.8846 - val_loss: 0.3501 - val_accuracy: 0.8617\n",
      "Epoch 136/200\n",
      "117/117 [==============================] - 2s 15ms/step - loss: 0.3257 - accuracy: 0.8852 - val_loss: 0.3500 - val_accuracy: 0.8567\n",
      "Epoch 137/200\n",
      "117/117 [==============================] - 2s 15ms/step - loss: 0.3253 - accuracy: 0.8848 - val_loss: 0.3510 - val_accuracy: 0.8517\n",
      "Epoch 138/200\n",
      "117/117 [==============================] - 2s 15ms/step - loss: 0.3266 - accuracy: 0.8846 - val_loss: 0.3462 - val_accuracy: 0.8583\n",
      "Epoch 139/200\n",
      "117/117 [==============================] - 2s 15ms/step - loss: 0.3240 - accuracy: 0.8850 - val_loss: 0.3538 - val_accuracy: 0.8583\n",
      "Epoch 140/200\n",
      "117/117 [==============================] - 2s 15ms/step - loss: 0.3233 - accuracy: 0.8861 - val_loss: 0.3473 - val_accuracy: 0.8567\n",
      "Epoch 141/200\n",
      "117/117 [==============================] - 2s 15ms/step - loss: 0.3223 - accuracy: 0.8855 - val_loss: 0.3450 - val_accuracy: 0.8617\n",
      "Epoch 142/200\n",
      "117/117 [==============================] - 2s 16ms/step - loss: 0.3220 - accuracy: 0.8858 - val_loss: 0.3521 - val_accuracy: 0.8600\n",
      "Epoch 143/200\n",
      "117/117 [==============================] - 2s 15ms/step - loss: 0.3209 - accuracy: 0.8865 - val_loss: 0.3414 - val_accuracy: 0.8633\n",
      "Epoch 144/200\n",
      "117/117 [==============================] - 2s 15ms/step - loss: 0.3201 - accuracy: 0.8867 - val_loss: 0.3474 - val_accuracy: 0.8583\n",
      "Epoch 145/200\n",
      "117/117 [==============================] - 2s 15ms/step - loss: 0.3199 - accuracy: 0.8866 - val_loss: 0.3489 - val_accuracy: 0.8567\n",
      "Epoch 146/200\n",
      "117/117 [==============================] - 2s 15ms/step - loss: 0.3208 - accuracy: 0.8861 - val_loss: 0.3448 - val_accuracy: 0.8567\n",
      "Epoch 147/200\n",
      "117/117 [==============================] - 2s 15ms/step - loss: 0.3197 - accuracy: 0.8864 - val_loss: 0.3413 - val_accuracy: 0.8633\n",
      "Epoch 148/200\n",
      "117/117 [==============================] - 2s 15ms/step - loss: 0.3176 - accuracy: 0.8873 - val_loss: 0.3421 - val_accuracy: 0.8583\n",
      "Epoch 149/200\n",
      "117/117 [==============================] - 2s 15ms/step - loss: 0.3175 - accuracy: 0.8869 - val_loss: 0.3422 - val_accuracy: 0.8567\n",
      "Epoch 150/200\n",
      "117/117 [==============================] - 2s 15ms/step - loss: 0.3171 - accuracy: 0.8876 - val_loss: 0.3462 - val_accuracy: 0.8600\n",
      "Epoch 151/200\n",
      "117/117 [==============================] - 2s 15ms/step - loss: 0.3161 - accuracy: 0.8878 - val_loss: 0.3415 - val_accuracy: 0.8683\n",
      "Epoch 152/200\n",
      "117/117 [==============================] - 2s 15ms/step - loss: 0.3155 - accuracy: 0.8875 - val_loss: 0.3444 - val_accuracy: 0.8617\n",
      "Epoch 153/200\n",
      "117/117 [==============================] - 2s 15ms/step - loss: 0.3151 - accuracy: 0.8886 - val_loss: 0.3442 - val_accuracy: 0.8600\n",
      "Epoch 154/200\n",
      "117/117 [==============================] - 2s 15ms/step - loss: 0.3150 - accuracy: 0.8883 - val_loss: 0.3441 - val_accuracy: 0.8483\n",
      "Epoch 155/200\n",
      "117/117 [==============================] - 2s 18ms/step - loss: 0.3158 - accuracy: 0.8878 - val_loss: 0.3462 - val_accuracy: 0.8600\n",
      "Epoch 156/200\n",
      "117/117 [==============================] - 2s 19ms/step - loss: 0.3132 - accuracy: 0.8883 - val_loss: 0.3416 - val_accuracy: 0.8667\n",
      "Epoch 157/200\n",
      "117/117 [==============================] - 2s 15ms/step - loss: 0.3134 - accuracy: 0.8884 - val_loss: 0.3351 - val_accuracy: 0.8700\n",
      "Epoch 158/200\n",
      "117/117 [==============================] - 2s 15ms/step - loss: 0.3125 - accuracy: 0.8895 - val_loss: 0.3411 - val_accuracy: 0.8700\n",
      "Epoch 159/200\n",
      "117/117 [==============================] - 2s 15ms/step - loss: 0.3117 - accuracy: 0.8898 - val_loss: 0.3382 - val_accuracy: 0.8633\n",
      "Epoch 160/200\n",
      "117/117 [==============================] - 2s 15ms/step - loss: 0.3111 - accuracy: 0.8895 - val_loss: 0.3450 - val_accuracy: 0.8617\n",
      "Epoch 161/200\n",
      "117/117 [==============================] - 2s 15ms/step - loss: 0.3114 - accuracy: 0.8899 - val_loss: 0.3387 - val_accuracy: 0.8683\n",
      "Epoch 162/200\n",
      "117/117 [==============================] - 2s 15ms/step - loss: 0.3119 - accuracy: 0.8892 - val_loss: 0.3342 - val_accuracy: 0.8650\n",
      "Epoch 163/200\n",
      "117/117 [==============================] - 2s 15ms/step - loss: 0.3093 - accuracy: 0.8900 - val_loss: 0.3381 - val_accuracy: 0.8617\n",
      "Epoch 164/200\n",
      "117/117 [==============================] - 2s 15ms/step - loss: 0.3085 - accuracy: 0.8901 - val_loss: 0.3497 - val_accuracy: 0.8583\n",
      "Epoch 165/200\n",
      "117/117 [==============================] - 2s 15ms/step - loss: 0.3108 - accuracy: 0.8892 - val_loss: 0.3381 - val_accuracy: 0.8667\n",
      "Epoch 166/200\n",
      "117/117 [==============================] - 2s 15ms/step - loss: 0.3073 - accuracy: 0.8907 - val_loss: 0.3388 - val_accuracy: 0.8700\n",
      "Epoch 167/200\n",
      "117/117 [==============================] - 2s 15ms/step - loss: 0.3071 - accuracy: 0.8910 - val_loss: 0.3399 - val_accuracy: 0.8667\n",
      "Epoch 168/200\n",
      "117/117 [==============================] - 2s 15ms/step - loss: 0.3067 - accuracy: 0.8903 - val_loss: 0.3435 - val_accuracy: 0.8717\n",
      "Epoch 169/200\n"
     ]
    },
    {
     "name": "stdout",
     "output_type": "stream",
     "text": [
      "117/117 [==============================] - 2s 15ms/step - loss: 0.3066 - accuracy: 0.8912 - val_loss: 0.3338 - val_accuracy: 0.8633\n",
      "Epoch 170/200\n",
      "117/117 [==============================] - 2s 15ms/step - loss: 0.3059 - accuracy: 0.8912 - val_loss: 0.3449 - val_accuracy: 0.8650\n",
      "Epoch 171/200\n",
      "117/117 [==============================] - 2s 15ms/step - loss: 0.3055 - accuracy: 0.8918 - val_loss: 0.3341 - val_accuracy: 0.8650\n",
      "Epoch 172/200\n",
      "117/117 [==============================] - 2s 15ms/step - loss: 0.3047 - accuracy: 0.8916 - val_loss: 0.3350 - val_accuracy: 0.8733\n",
      "Epoch 173/200\n",
      "117/117 [==============================] - 2s 15ms/step - loss: 0.3043 - accuracy: 0.8919 - val_loss: 0.3346 - val_accuracy: 0.8667\n",
      "Epoch 174/200\n",
      "117/117 [==============================] - 2s 15ms/step - loss: 0.3038 - accuracy: 0.8918 - val_loss: 0.3365 - val_accuracy: 0.8750\n",
      "Epoch 175/200\n",
      "117/117 [==============================] - 2s 15ms/step - loss: 0.3028 - accuracy: 0.8930 - val_loss: 0.3334 - val_accuracy: 0.8717\n",
      "Epoch 176/200\n",
      "117/117 [==============================] - 2s 15ms/step - loss: 0.3024 - accuracy: 0.8925 - val_loss: 0.3362 - val_accuracy: 0.8667\n",
      "Epoch 177/200\n",
      "117/117 [==============================] - 2s 15ms/step - loss: 0.3024 - accuracy: 0.8920 - val_loss: 0.3365 - val_accuracy: 0.8750\n",
      "Epoch 178/200\n",
      "117/117 [==============================] - 2s 15ms/step - loss: 0.3029 - accuracy: 0.8924 - val_loss: 0.3388 - val_accuracy: 0.8767\n",
      "Epoch 179/200\n",
      "117/117 [==============================] - 2s 15ms/step - loss: 0.3009 - accuracy: 0.8926 - val_loss: 0.3316 - val_accuracy: 0.8700\n",
      "Epoch 180/200\n",
      "117/117 [==============================] - 2s 15ms/step - loss: 0.3008 - accuracy: 0.8926 - val_loss: 0.3409 - val_accuracy: 0.8717\n",
      "Epoch 181/200\n",
      "117/117 [==============================] - 2s 15ms/step - loss: 0.3007 - accuracy: 0.8935 - val_loss: 0.3308 - val_accuracy: 0.8650\n",
      "Epoch 182/200\n",
      "117/117 [==============================] - 2s 15ms/step - loss: 0.2992 - accuracy: 0.8934 - val_loss: 0.3326 - val_accuracy: 0.8683\n",
      "Epoch 183/200\n",
      "117/117 [==============================] - 2s 15ms/step - loss: 0.2986 - accuracy: 0.8941 - val_loss: 0.3326 - val_accuracy: 0.8717\n",
      "Epoch 184/200\n",
      "117/117 [==============================] - 2s 15ms/step - loss: 0.2981 - accuracy: 0.8942 - val_loss: 0.3337 - val_accuracy: 0.8750\n",
      "Epoch 185/200\n",
      "117/117 [==============================] - 2s 15ms/step - loss: 0.2978 - accuracy: 0.8935 - val_loss: 0.3293 - val_accuracy: 0.8633\n",
      "Epoch 186/200\n",
      "117/117 [==============================] - 2s 15ms/step - loss: 0.2974 - accuracy: 0.8939 - val_loss: 0.3343 - val_accuracy: 0.8700\n",
      "Epoch 187/200\n",
      "117/117 [==============================] - 2s 15ms/step - loss: 0.2970 - accuracy: 0.8943 - val_loss: 0.3324 - val_accuracy: 0.8683\n",
      "Epoch 188/200\n",
      "117/117 [==============================] - 2s 15ms/step - loss: 0.2973 - accuracy: 0.8948 - val_loss: 0.3352 - val_accuracy: 0.8733\n",
      "Epoch 189/200\n",
      "117/117 [==============================] - 2s 15ms/step - loss: 0.2963 - accuracy: 0.8947 - val_loss: 0.3345 - val_accuracy: 0.8767\n",
      "Epoch 190/200\n",
      "117/117 [==============================] - 2s 15ms/step - loss: 0.2953 - accuracy: 0.8956 - val_loss: 0.3370 - val_accuracy: 0.8750\n",
      "Epoch 191/200\n",
      "117/117 [==============================] - 2s 15ms/step - loss: 0.2958 - accuracy: 0.8950 - val_loss: 0.3353 - val_accuracy: 0.8750\n",
      "Epoch 192/200\n",
      "117/117 [==============================] - 2s 15ms/step - loss: 0.2943 - accuracy: 0.8951 - val_loss: 0.3299 - val_accuracy: 0.8733\n",
      "Epoch 193/200\n",
      "117/117 [==============================] - 2s 15ms/step - loss: 0.2933 - accuracy: 0.8959 - val_loss: 0.3351 - val_accuracy: 0.8733\n",
      "Epoch 194/200\n",
      "117/117 [==============================] - 2s 15ms/step - loss: 0.2938 - accuracy: 0.8955 - val_loss: 0.3299 - val_accuracy: 0.8733\n",
      "Epoch 195/200\n",
      "117/117 [==============================] - 2s 15ms/step - loss: 0.2926 - accuracy: 0.8959 - val_loss: 0.3287 - val_accuracy: 0.8667\n",
      "Epoch 196/200\n",
      "117/117 [==============================] - 2s 15ms/step - loss: 0.2922 - accuracy: 0.8964 - val_loss: 0.3283 - val_accuracy: 0.8750\n",
      "Epoch 197/200\n",
      "117/117 [==============================] - 2s 15ms/step - loss: 0.2917 - accuracy: 0.8966 - val_loss: 0.3310 - val_accuracy: 0.8750\n",
      "Epoch 198/200\n",
      "117/117 [==============================] - 2s 15ms/step - loss: 0.2909 - accuracy: 0.8969 - val_loss: 0.3249 - val_accuracy: 0.8717\n",
      "Epoch 199/200\n",
      "117/117 [==============================] - 2s 15ms/step - loss: 0.2913 - accuracy: 0.8959 - val_loss: 0.3264 - val_accuracy: 0.8750\n",
      "Epoch 200/200\n",
      "117/117 [==============================] - 2s 15ms/step - loss: 0.2907 - accuracy: 0.8968 - val_loss: 0.3276 - val_accuracy: 0.8667\n"
     ]
    }
   ],
   "source": [
    "X_train, X_valid, y_train, y_valid = train_test_split(train_images, train_labels, test_size=0.01, random_state=101)\n",
    "X_train = X_train / 255.0\n",
    "X_valid = X_valid / 255.0\n",
    "\n",
    "# Dense layer만으로 만들어 낸 classification 모델입니다.\n",
    "model = keras.Sequential([\n",
    "    keras.layers.Flatten(input_shape=(28, 28)),\n",
    "    keras.layers.Dense(256, activation='relu'),\n",
    "    keras.layers.Dense(10, activation='softmax')\n",
    "])\n",
    "\n",
    "model.compile(optimizer='adam',loss='sparse_categorical_crossentropy',\n",
    "              metrics=['accuracy'])\n",
    "\n",
    "history = model.fit(X_train, y_train, epochs=200, batch_size=512, validation_data=(X_valid, y_valid))"
   ]
  },
  {
   "cell_type": "code",
   "execution_count": 7,
   "id": "a0570251",
   "metadata": {},
   "outputs": [
    {
     "data": {
      "image/png": "[encoded data removed]",
      "text/plain": [
       "<Figure size 432x288 with 1 Axes>"
      ]
     },
     "metadata": {
      "needs_background": "light"
     },
     "output_type": "display_data"
    }
   ],
   "source": [
    "# loss 값을 plot 해보겠습니다.\n",
    "y_vloss = history.history['val_loss']\n",
    "y_loss = history.history['loss']\n",
    "x_len = np.arange(len(y_loss))\n",
    "\n",
    "plt.plot(x_len, y_vloss, marker='.', c='red', label=\"Validation-set Loss\")\n",
    "plt.plot(x_len, y_loss, marker='.', c='blue', label=\"Train-set Loss\")\n",
    "plt.legend(loc='upper right')\n",
    "plt.grid()\n",
    "plt.title('Loss graph without dropout layer') \n",
    "plt.ylim(0,1)\n",
    "plt.xlabel('epoch')\n",
    "plt.ylabel('loss')\n",
    "plt.show()"
   ]
  },
  {
   "cell_type": "code",
   "execution_count": 8,
   "id": "5dbc3046",
   "metadata": {},
   "outputs": [
    {
     "data": {
      "image/png": "[encoded data removed]",
      "text/plain": [
       "<Figure size 432x288 with 1 Axes>"
      ]
     },
     "metadata": {
      "needs_background": "light"
     },
     "output_type": "display_data"
    }
   ],
   "source": [
    "# accuracy 값을 plot 해보겠습니다.\n",
    "y_vacc = history.history['val_accuracy']\n",
    "y_acc = history.history['accuracy']\n",
    "x_len = np.arange(len(y_acc))\n",
    "\n",
    "plt.plot(x_len, y_vacc, marker='.', c='red', label=\"Validation-set accuracy\")\n",
    "plt.plot(x_len, y_acc, marker='.', c='blue', label=\"Train-set accuracy\")\n",
    "plt.legend(loc='lower right')\n",
    "plt.grid()\n",
    "plt.ylim(0.5,1) \n",
    "plt.title('Accuracy graph without dropout layer') \n",
    "plt.xlabel('epoch')\n",
    "plt.ylabel('accuracy')\n",
    "plt.show()"
   ]
  },
  {
   "cell_type": "markdown",
   "id": "310f8b0e",
   "metadata": {},
   "source": [
    "* dropout layer추가"
   ]
  },
  {
   "cell_type": "code",
   "execution_count": 9,
   "id": "1d64222f",
   "metadata": {},
   "outputs": [
    {
     "name": "stdout",
     "output_type": "stream",
     "text": [
      "Epoch 1/200\n",
      "117/117 [==============================] - 2s 18ms/step - loss: 2.0753 - accuracy: 0.4718 - val_loss: 1.6900 - val_accuracy: 0.6200\n",
      "Epoch 2/200\n",
      "117/117 [==============================] - 2s 17ms/step - loss: 1.4609 - accuracy: 0.5655 - val_loss: 1.2199 - val_accuracy: 0.6333\n",
      "Epoch 3/200\n",
      "117/117 [==============================] - 2s 17ms/step - loss: 1.1550 - accuracy: 0.6266 - val_loss: 1.0087 - val_accuracy: 0.6983\n",
      "Epoch 4/200\n",
      "117/117 [==============================] - 2s 17ms/step - loss: 0.9917 - accuracy: 0.6703 - val_loss: 0.8770 - val_accuracy: 0.7450\n",
      "Epoch 5/200\n",
      "117/117 [==============================] - 2s 17ms/step - loss: 0.8879 - accuracy: 0.6963 - val_loss: 0.7886 - val_accuracy: 0.7617\n",
      "Epoch 6/200\n",
      "117/117 [==============================] - 2s 17ms/step - loss: 0.8188 - accuracy: 0.7179 - val_loss: 0.7331 - val_accuracy: 0.7567\n",
      "Epoch 7/200\n",
      "117/117 [==============================] - 2s 17ms/step - loss: 0.7694 - accuracy: 0.7293 - val_loss: 0.6932 - val_accuracy: 0.7733\n",
      "Epoch 8/200\n",
      "117/117 [==============================] - 2s 17ms/step - loss: 0.7350 - accuracy: 0.7380 - val_loss: 0.6622 - val_accuracy: 0.7900\n",
      "Epoch 9/200\n",
      "117/117 [==============================] - 2s 17ms/step - loss: 0.7056 - accuracy: 0.7451 - val_loss: 0.6418 - val_accuracy: 0.7800\n",
      "Epoch 10/200\n",
      "117/117 [==============================] - 2s 17ms/step - loss: 0.6837 - accuracy: 0.7536 - val_loss: 0.6237 - val_accuracy: 0.7883\n",
      "Epoch 11/200\n",
      "117/117 [==============================] - 2s 18ms/step - loss: 0.6640 - accuracy: 0.7601 - val_loss: 0.6058 - val_accuracy: 0.7983\n",
      "Epoch 12/200\n",
      "117/117 [==============================] - 2s 17ms/step - loss: 0.6477 - accuracy: 0.7652 - val_loss: 0.5938 - val_accuracy: 0.7917\n",
      "Epoch 13/200\n",
      "117/117 [==============================] - 2s 17ms/step - loss: 0.6313 - accuracy: 0.7755 - val_loss: 0.5784 - val_accuracy: 0.7933\n",
      "Epoch 14/200\n",
      "117/117 [==============================] - 2s 17ms/step - loss: 0.6175 - accuracy: 0.7774 - val_loss: 0.5688 - val_accuracy: 0.7917\n",
      "Epoch 15/200\n",
      "117/117 [==============================] - 2s 17ms/step - loss: 0.6039 - accuracy: 0.7829 - val_loss: 0.5563 - val_accuracy: 0.7933\n",
      "Epoch 16/200\n",
      "117/117 [==============================] - 2s 17ms/step - loss: 0.5942 - accuracy: 0.7864 - val_loss: 0.5475 - val_accuracy: 0.7950\n",
      "Epoch 17/200\n",
      "117/117 [==============================] - 2s 17ms/step - loss: 0.5815 - accuracy: 0.7905 - val_loss: 0.5413 - val_accuracy: 0.8000\n",
      "Epoch 18/200\n",
      "117/117 [==============================] - 2s 17ms/step - loss: 0.5730 - accuracy: 0.7961 - val_loss: 0.5294 - val_accuracy: 0.8083\n",
      "Epoch 19/200\n",
      "117/117 [==============================] - 2s 17ms/step - loss: 0.5652 - accuracy: 0.7991 - val_loss: 0.5251 - val_accuracy: 0.8000\n",
      "Epoch 20/200\n",
      "117/117 [==============================] - 2s 18ms/step - loss: 0.5564 - accuracy: 0.8028 - val_loss: 0.5145 - val_accuracy: 0.8067\n",
      "Epoch 21/200\n",
      "117/117 [==============================] - 2s 17ms/step - loss: 0.5481 - accuracy: 0.8058 - val_loss: 0.5118 - val_accuracy: 0.8167\n",
      "Epoch 22/200\n",
      "117/117 [==============================] - 2s 17ms/step - loss: 0.5420 - accuracy: 0.8069 - val_loss: 0.5037 - val_accuracy: 0.8167\n",
      "Epoch 23/200\n",
      "117/117 [==============================] - 2s 17ms/step - loss: 0.5323 - accuracy: 0.8119 - val_loss: 0.4968 - val_accuracy: 0.8200\n",
      "Epoch 24/200\n",
      "117/117 [==============================] - 2s 17ms/step - loss: 0.5284 - accuracy: 0.8119 - val_loss: 0.4896 - val_accuracy: 0.8200\n",
      "Epoch 25/200\n",
      "117/117 [==============================] - 2s 17ms/step - loss: 0.5208 - accuracy: 0.8150 - val_loss: 0.4862 - val_accuracy: 0.8183\n",
      "Epoch 26/200\n",
      "117/117 [==============================] - 2s 17ms/step - loss: 0.5158 - accuracy: 0.8171 - val_loss: 0.4790 - val_accuracy: 0.8217\n",
      "Epoch 27/200\n",
      "117/117 [==============================] - 2s 17ms/step - loss: 0.5110 - accuracy: 0.8200 - val_loss: 0.4768 - val_accuracy: 0.8183\n",
      "Epoch 28/200\n",
      "117/117 [==============================] - 2s 17ms/step - loss: 0.5070 - accuracy: 0.8205 - val_loss: 0.4745 - val_accuracy: 0.8183\n",
      "Epoch 29/200\n",
      "117/117 [==============================] - 2s 17ms/step - loss: 0.5007 - accuracy: 0.8218 - val_loss: 0.4679 - val_accuracy: 0.8167\n",
      "Epoch 30/200\n",
      "117/117 [==============================] - 2s 17ms/step - loss: 0.4980 - accuracy: 0.8241 - val_loss: 0.4670 - val_accuracy: 0.8233\n",
      "Epoch 31/200\n",
      "117/117 [==============================] - 2s 17ms/step - loss: 0.4937 - accuracy: 0.8252 - val_loss: 0.4628 - val_accuracy: 0.8217\n",
      "Epoch 32/200\n",
      "117/117 [==============================] - 2s 17ms/step - loss: 0.4896 - accuracy: 0.8259 - val_loss: 0.4595 - val_accuracy: 0.8267\n",
      "Epoch 33/200\n",
      "117/117 [==============================] - 2s 17ms/step - loss: 0.4867 - accuracy: 0.8283 - val_loss: 0.4550 - val_accuracy: 0.8267\n",
      "Epoch 34/200\n",
      "117/117 [==============================] - 2s 17ms/step - loss: 0.4809 - accuracy: 0.8296 - val_loss: 0.4540 - val_accuracy: 0.8250\n",
      "Epoch 35/200\n",
      "117/117 [==============================] - 2s 17ms/step - loss: 0.4796 - accuracy: 0.8314 - val_loss: 0.4492 - val_accuracy: 0.8283\n",
      "Epoch 36/200\n",
      "117/117 [==============================] - 2s 17ms/step - loss: 0.4750 - accuracy: 0.8324 - val_loss: 0.4460 - val_accuracy: 0.8267\n",
      "Epoch 37/200\n",
      "117/117 [==============================] - 2s 17ms/step - loss: 0.4740 - accuracy: 0.8325 - val_loss: 0.4472 - val_accuracy: 0.8300\n",
      "Epoch 38/200\n",
      "117/117 [==============================] - 2s 17ms/step - loss: 0.4676 - accuracy: 0.8338 - val_loss: 0.4432 - val_accuracy: 0.8283\n",
      "Epoch 39/200\n",
      "117/117 [==============================] - 2s 17ms/step - loss: 0.4664 - accuracy: 0.8353 - val_loss: 0.4388 - val_accuracy: 0.8317\n",
      "Epoch 40/200\n",
      "117/117 [==============================] - 2s 17ms/step - loss: 0.4610 - accuracy: 0.8362 - val_loss: 0.4386 - val_accuracy: 0.8333\n",
      "Epoch 41/200\n",
      "117/117 [==============================] - 2s 17ms/step - loss: 0.4614 - accuracy: 0.8365 - val_loss: 0.4339 - val_accuracy: 0.8350\n",
      "Epoch 42/200\n",
      "117/117 [==============================] - 2s 17ms/step - loss: 0.4594 - accuracy: 0.8385 - val_loss: 0.4321 - val_accuracy: 0.8350\n",
      "Epoch 43/200\n",
      "117/117 [==============================] - 2s 17ms/step - loss: 0.4566 - accuracy: 0.8396 - val_loss: 0.4337 - val_accuracy: 0.8333\n",
      "Epoch 44/200\n",
      "117/117 [==============================] - 2s 17ms/step - loss: 0.4514 - accuracy: 0.8397 - val_loss: 0.4264 - val_accuracy: 0.8350\n",
      "Epoch 45/200\n",
      "117/117 [==============================] - 2s 17ms/step - loss: 0.4497 - accuracy: 0.8415 - val_loss: 0.4266 - val_accuracy: 0.8300\n",
      "Epoch 46/200\n",
      "117/117 [==============================] - 2s 17ms/step - loss: 0.4476 - accuracy: 0.8412 - val_loss: 0.4255 - val_accuracy: 0.8367\n",
      "Epoch 47/200\n",
      "117/117 [==============================] - 2s 17ms/step - loss: 0.4440 - accuracy: 0.8437 - val_loss: 0.4221 - val_accuracy: 0.8383\n",
      "Epoch 48/200\n",
      "117/117 [==============================] - 2s 17ms/step - loss: 0.4434 - accuracy: 0.8424 - val_loss: 0.4213 - val_accuracy: 0.8333\n",
      "Epoch 49/200\n",
      "117/117 [==============================] - 2s 17ms/step - loss: 0.4425 - accuracy: 0.8434 - val_loss: 0.4180 - val_accuracy: 0.8367\n",
      "Epoch 50/200\n",
      "117/117 [==============================] - 2s 17ms/step - loss: 0.4388 - accuracy: 0.8449 - val_loss: 0.4175 - val_accuracy: 0.8300\n",
      "Epoch 51/200\n",
      "117/117 [==============================] - 2s 17ms/step - loss: 0.4368 - accuracy: 0.8457 - val_loss: 0.4168 - val_accuracy: 0.8333\n",
      "Epoch 52/200\n",
      "117/117 [==============================] - 2s 17ms/step - loss: 0.4369 - accuracy: 0.8451 - val_loss: 0.4126 - val_accuracy: 0.8350\n",
      "Epoch 53/200\n",
      "117/117 [==============================] - 2s 17ms/step - loss: 0.4323 - accuracy: 0.8476 - val_loss: 0.4131 - val_accuracy: 0.8383\n",
      "Epoch 54/200\n",
      "117/117 [==============================] - 2s 17ms/step - loss: 0.4307 - accuracy: 0.8477 - val_loss: 0.4101 - val_accuracy: 0.8450\n",
      "Epoch 55/200\n",
      "117/117 [==============================] - 2s 17ms/step - loss: 0.4295 - accuracy: 0.8466 - val_loss: 0.4104 - val_accuracy: 0.8450\n",
      "Epoch 56/200\n",
      "117/117 [==============================] - 2s 17ms/step - loss: 0.4281 - accuracy: 0.8491 - val_loss: 0.4083 - val_accuracy: 0.8367\n",
      "Epoch 57/200\n"
     ]
    },
    {
     "name": "stdout",
     "output_type": "stream",
     "text": [
      "117/117 [==============================] - 2s 17ms/step - loss: 0.4268 - accuracy: 0.8499 - val_loss: 0.4111 - val_accuracy: 0.8350\n",
      "Epoch 58/200\n",
      "117/117 [==============================] - 2s 17ms/step - loss: 0.4234 - accuracy: 0.8500 - val_loss: 0.4056 - val_accuracy: 0.8400\n",
      "Epoch 59/200\n",
      "117/117 [==============================] - 2s 17ms/step - loss: 0.4237 - accuracy: 0.8507 - val_loss: 0.4036 - val_accuracy: 0.8433\n",
      "Epoch 60/200\n",
      "117/117 [==============================] - 2s 17ms/step - loss: 0.4213 - accuracy: 0.8510 - val_loss: 0.4019 - val_accuracy: 0.8417\n",
      "Epoch 61/200\n",
      "117/117 [==============================] - 2s 17ms/step - loss: 0.4215 - accuracy: 0.8512 - val_loss: 0.4009 - val_accuracy: 0.8400\n",
      "Epoch 62/200\n",
      "117/117 [==============================] - 2s 17ms/step - loss: 0.4185 - accuracy: 0.8519 - val_loss: 0.4009 - val_accuracy: 0.8417\n",
      "Epoch 63/200\n",
      "117/117 [==============================] - 2s 17ms/step - loss: 0.4168 - accuracy: 0.8521 - val_loss: 0.3986 - val_accuracy: 0.8400\n",
      "Epoch 64/200\n",
      "117/117 [==============================] - 2s 17ms/step - loss: 0.4181 - accuracy: 0.8506 - val_loss: 0.3982 - val_accuracy: 0.8417\n",
      "Epoch 65/200\n",
      "117/117 [==============================] - 2s 17ms/step - loss: 0.4154 - accuracy: 0.8529 - val_loss: 0.3959 - val_accuracy: 0.8433\n",
      "Epoch 66/200\n",
      "117/117 [==============================] - 2s 17ms/step - loss: 0.4144 - accuracy: 0.8544 - val_loss: 0.3951 - val_accuracy: 0.8433\n",
      "Epoch 67/200\n",
      "117/117 [==============================] - 2s 17ms/step - loss: 0.4099 - accuracy: 0.8545 - val_loss: 0.3945 - val_accuracy: 0.8383\n",
      "Epoch 68/200\n",
      "117/117 [==============================] - 2s 17ms/step - loss: 0.4091 - accuracy: 0.8558 - val_loss: 0.3918 - val_accuracy: 0.8417\n",
      "Epoch 69/200\n",
      "117/117 [==============================] - 2s 17ms/step - loss: 0.4085 - accuracy: 0.8541 - val_loss: 0.3910 - val_accuracy: 0.8417\n",
      "Epoch 70/200\n",
      "117/117 [==============================] - 2s 17ms/step - loss: 0.4051 - accuracy: 0.8576 - val_loss: 0.3882 - val_accuracy: 0.8400\n",
      "Epoch 71/200\n",
      "117/117 [==============================] - 2s 17ms/step - loss: 0.4047 - accuracy: 0.8555 - val_loss: 0.3904 - val_accuracy: 0.8467\n",
      "Epoch 72/200\n",
      "117/117 [==============================] - 2s 17ms/step - loss: 0.4042 - accuracy: 0.8568 - val_loss: 0.3907 - val_accuracy: 0.8450\n",
      "Epoch 73/200\n",
      "117/117 [==============================] - 2s 17ms/step - loss: 0.4042 - accuracy: 0.8572 - val_loss: 0.3843 - val_accuracy: 0.8450\n",
      "Epoch 74/200\n",
      "117/117 [==============================] - 2s 17ms/step - loss: 0.4012 - accuracy: 0.8576 - val_loss: 0.3860 - val_accuracy: 0.8433\n",
      "Epoch 75/200\n",
      "117/117 [==============================] - 2s 17ms/step - loss: 0.4021 - accuracy: 0.8576 - val_loss: 0.3849 - val_accuracy: 0.8467\n",
      "Epoch 76/200\n",
      "117/117 [==============================] - 2s 17ms/step - loss: 0.3994 - accuracy: 0.8592 - val_loss: 0.3849 - val_accuracy: 0.8483\n",
      "Epoch 77/200\n",
      "117/117 [==============================] - 2s 17ms/step - loss: 0.3982 - accuracy: 0.8586 - val_loss: 0.3830 - val_accuracy: 0.8483\n",
      "Epoch 78/200\n",
      "117/117 [==============================] - 2s 17ms/step - loss: 0.3962 - accuracy: 0.8586 - val_loss: 0.3846 - val_accuracy: 0.8467\n",
      "Epoch 79/200\n",
      "117/117 [==============================] - 2s 18ms/step - loss: 0.3956 - accuracy: 0.8601 - val_loss: 0.3816 - val_accuracy: 0.8500\n",
      "Epoch 80/200\n",
      "117/117 [==============================] - 2s 17ms/step - loss: 0.3965 - accuracy: 0.8591 - val_loss: 0.3816 - val_accuracy: 0.8450\n",
      "Epoch 81/200\n",
      "117/117 [==============================] - 2s 18ms/step - loss: 0.3935 - accuracy: 0.8605 - val_loss: 0.3802 - val_accuracy: 0.8450\n",
      "Epoch 82/200\n",
      "117/117 [==============================] - 2s 17ms/step - loss: 0.3932 - accuracy: 0.8614 - val_loss: 0.3792 - val_accuracy: 0.8517\n",
      "Epoch 83/200\n",
      "117/117 [==============================] - 2s 17ms/step - loss: 0.3898 - accuracy: 0.8625 - val_loss: 0.3779 - val_accuracy: 0.8417\n",
      "Epoch 84/200\n",
      "117/117 [==============================] - 2s 17ms/step - loss: 0.3933 - accuracy: 0.8609 - val_loss: 0.3782 - val_accuracy: 0.8483\n",
      "Epoch 85/200\n",
      "117/117 [==============================] - 2s 17ms/step - loss: 0.3876 - accuracy: 0.8623 - val_loss: 0.3780 - val_accuracy: 0.8500\n",
      "Epoch 86/200\n",
      "117/117 [==============================] - 2s 17ms/step - loss: 0.3892 - accuracy: 0.8635 - val_loss: 0.3756 - val_accuracy: 0.8500\n",
      "Epoch 87/200\n",
      "117/117 [==============================] - 2s 17ms/step - loss: 0.3880 - accuracy: 0.8624 - val_loss: 0.3744 - val_accuracy: 0.8517\n",
      "Epoch 88/200\n",
      "117/117 [==============================] - 2s 17ms/step - loss: 0.3865 - accuracy: 0.8641 - val_loss: 0.3744 - val_accuracy: 0.8483\n",
      "Epoch 89/200\n",
      "117/117 [==============================] - 2s 17ms/step - loss: 0.3866 - accuracy: 0.8641 - val_loss: 0.3713 - val_accuracy: 0.8483\n",
      "Epoch 90/200\n",
      "117/117 [==============================] - 2s 17ms/step - loss: 0.3870 - accuracy: 0.8632 - val_loss: 0.3709 - val_accuracy: 0.8533\n",
      "Epoch 91/200\n",
      "117/117 [==============================] - 2s 17ms/step - loss: 0.3838 - accuracy: 0.8642 - val_loss: 0.3719 - val_accuracy: 0.8467\n",
      "Epoch 92/200\n",
      "117/117 [==============================] - 2s 17ms/step - loss: 0.3821 - accuracy: 0.8663 - val_loss: 0.3702 - val_accuracy: 0.8500\n",
      "Epoch 93/200\n",
      "117/117 [==============================] - 2s 17ms/step - loss: 0.3804 - accuracy: 0.8653 - val_loss: 0.3698 - val_accuracy: 0.8500\n",
      "Epoch 94/200\n",
      "117/117 [==============================] - 2s 17ms/step - loss: 0.3808 - accuracy: 0.8658 - val_loss: 0.3685 - val_accuracy: 0.8550\n",
      "Epoch 95/200\n",
      "117/117 [==============================] - 2s 17ms/step - loss: 0.3790 - accuracy: 0.8662 - val_loss: 0.3706 - val_accuracy: 0.8500\n",
      "Epoch 96/200\n",
      "117/117 [==============================] - 2s 17ms/step - loss: 0.3784 - accuracy: 0.8657 - val_loss: 0.3668 - val_accuracy: 0.8533\n",
      "Epoch 97/200\n",
      "117/117 [==============================] - 2s 17ms/step - loss: 0.3787 - accuracy: 0.8652 - val_loss: 0.3656 - val_accuracy: 0.8517\n",
      "Epoch 98/200\n",
      "117/117 [==============================] - 2s 17ms/step - loss: 0.3785 - accuracy: 0.8666 - val_loss: 0.3641 - val_accuracy: 0.8517\n",
      "Epoch 99/200\n",
      "117/117 [==============================] - 2s 17ms/step - loss: 0.3743 - accuracy: 0.8667 - val_loss: 0.3631 - val_accuracy: 0.8517\n",
      "Epoch 100/200\n",
      "117/117 [==============================] - 2s 17ms/step - loss: 0.3758 - accuracy: 0.8668 - val_loss: 0.3636 - val_accuracy: 0.8533\n",
      "Epoch 101/200\n",
      "117/117 [==============================] - 2s 17ms/step - loss: 0.3728 - accuracy: 0.8681 - val_loss: 0.3612 - val_accuracy: 0.8550\n",
      "Epoch 102/200\n",
      "117/117 [==============================] - 2s 17ms/step - loss: 0.3742 - accuracy: 0.8672 - val_loss: 0.3625 - val_accuracy: 0.8567\n",
      "Epoch 103/200\n",
      "117/117 [==============================] - 2s 17ms/step - loss: 0.3736 - accuracy: 0.8668 - val_loss: 0.3619 - val_accuracy: 0.8550\n",
      "Epoch 104/200\n",
      "117/117 [==============================] - 2s 17ms/step - loss: 0.3728 - accuracy: 0.8684 - val_loss: 0.3601 - val_accuracy: 0.8550\n",
      "Epoch 105/200\n",
      "117/117 [==============================] - 2s 17ms/step - loss: 0.3711 - accuracy: 0.8692 - val_loss: 0.3629 - val_accuracy: 0.8533\n",
      "Epoch 106/200\n",
      "117/117 [==============================] - 2s 17ms/step - loss: 0.3695 - accuracy: 0.8690 - val_loss: 0.3625 - val_accuracy: 0.8533\n",
      "Epoch 107/200\n",
      "117/117 [==============================] - 2s 17ms/step - loss: 0.3713 - accuracy: 0.8679 - val_loss: 0.3587 - val_accuracy: 0.8467\n",
      "Epoch 108/200\n",
      "117/117 [==============================] - 2s 17ms/step - loss: 0.3704 - accuracy: 0.8683 - val_loss: 0.3574 - val_accuracy: 0.8500\n",
      "Epoch 109/200\n",
      "117/117 [==============================] - 2s 17ms/step - loss: 0.3657 - accuracy: 0.8702 - val_loss: 0.3565 - val_accuracy: 0.8517\n",
      "Epoch 110/200\n",
      "117/117 [==============================] - 2s 17ms/step - loss: 0.3664 - accuracy: 0.8697 - val_loss: 0.3586 - val_accuracy: 0.8567\n",
      "Epoch 111/200\n",
      "117/117 [==============================] - 2s 17ms/step - loss: 0.3658 - accuracy: 0.8707 - val_loss: 0.3567 - val_accuracy: 0.8517\n",
      "Epoch 112/200\n",
      "117/117 [==============================] - 2s 17ms/step - loss: 0.3639 - accuracy: 0.8708 - val_loss: 0.3568 - val_accuracy: 0.8550\n",
      "Epoch 113/200\n"
     ]
    },
    {
     "name": "stdout",
     "output_type": "stream",
     "text": [
      "117/117 [==============================] - 2s 17ms/step - loss: 0.3657 - accuracy: 0.8710 - val_loss: 0.3585 - val_accuracy: 0.8550\n",
      "Epoch 114/200\n",
      "117/117 [==============================] - 2s 17ms/step - loss: 0.3631 - accuracy: 0.8727 - val_loss: 0.3545 - val_accuracy: 0.8517\n",
      "Epoch 115/200\n",
      "117/117 [==============================] - 2s 17ms/step - loss: 0.3647 - accuracy: 0.8716 - val_loss: 0.3543 - val_accuracy: 0.8600\n",
      "Epoch 116/200\n",
      "117/117 [==============================] - 2s 17ms/step - loss: 0.3621 - accuracy: 0.8723 - val_loss: 0.3538 - val_accuracy: 0.8500\n",
      "Epoch 117/200\n",
      "117/117 [==============================] - 2s 17ms/step - loss: 0.3615 - accuracy: 0.8723 - val_loss: 0.3515 - val_accuracy: 0.8550\n",
      "Epoch 118/200\n",
      "117/117 [==============================] - 2s 17ms/step - loss: 0.3596 - accuracy: 0.8733 - val_loss: 0.3535 - val_accuracy: 0.8567\n",
      "Epoch 119/200\n",
      "117/117 [==============================] - 2s 17ms/step - loss: 0.3613 - accuracy: 0.8716 - val_loss: 0.3510 - val_accuracy: 0.8567\n",
      "Epoch 120/200\n",
      "117/117 [==============================] - 2s 17ms/step - loss: 0.3594 - accuracy: 0.8732 - val_loss: 0.3501 - val_accuracy: 0.8567\n",
      "Epoch 121/200\n",
      "117/117 [==============================] - 2s 17ms/step - loss: 0.3586 - accuracy: 0.8732 - val_loss: 0.3490 - val_accuracy: 0.8550\n",
      "Epoch 122/200\n",
      "117/117 [==============================] - 2s 17ms/step - loss: 0.3577 - accuracy: 0.8738 - val_loss: 0.3480 - val_accuracy: 0.8567\n",
      "Epoch 123/200\n",
      "117/117 [==============================] - 2s 17ms/step - loss: 0.3585 - accuracy: 0.8726 - val_loss: 0.3457 - val_accuracy: 0.8567\n",
      "Epoch 124/200\n",
      "117/117 [==============================] - 2s 17ms/step - loss: 0.3576 - accuracy: 0.8736 - val_loss: 0.3485 - val_accuracy: 0.8550\n",
      "Epoch 125/200\n",
      "117/117 [==============================] - 2s 17ms/step - loss: 0.3577 - accuracy: 0.8725 - val_loss: 0.3507 - val_accuracy: 0.8583\n",
      "Epoch 126/200\n",
      "117/117 [==============================] - 2s 17ms/step - loss: 0.3562 - accuracy: 0.8741 - val_loss: 0.3495 - val_accuracy: 0.8567\n",
      "Epoch 127/200\n",
      "117/117 [==============================] - 2s 17ms/step - loss: 0.3551 - accuracy: 0.8735 - val_loss: 0.3446 - val_accuracy: 0.8583\n",
      "Epoch 128/200\n",
      "117/117 [==============================] - 2s 17ms/step - loss: 0.3539 - accuracy: 0.8738 - val_loss: 0.3462 - val_accuracy: 0.8583\n",
      "Epoch 129/200\n",
      "117/117 [==============================] - 2s 17ms/step - loss: 0.3539 - accuracy: 0.8750 - val_loss: 0.3437 - val_accuracy: 0.8583\n",
      "Epoch 130/200\n",
      "117/117 [==============================] - 2s 17ms/step - loss: 0.3546 - accuracy: 0.8744 - val_loss: 0.3431 - val_accuracy: 0.8583\n",
      "Epoch 131/200\n",
      "117/117 [==============================] - 2s 17ms/step - loss: 0.3509 - accuracy: 0.8754 - val_loss: 0.3454 - val_accuracy: 0.8567\n",
      "Epoch 132/200\n",
      "117/117 [==============================] - 2s 17ms/step - loss: 0.3503 - accuracy: 0.8753 - val_loss: 0.3448 - val_accuracy: 0.8650\n",
      "Epoch 133/200\n",
      "117/117 [==============================] - 2s 17ms/step - loss: 0.3503 - accuracy: 0.8761 - val_loss: 0.3434 - val_accuracy: 0.8600\n",
      "Epoch 134/200\n",
      "117/117 [==============================] - 2s 17ms/step - loss: 0.3486 - accuracy: 0.8759 - val_loss: 0.3420 - val_accuracy: 0.8617\n",
      "Epoch 135/200\n",
      "117/117 [==============================] - 2s 17ms/step - loss: 0.3503 - accuracy: 0.8755 - val_loss: 0.3429 - val_accuracy: 0.8567\n",
      "Epoch 136/200\n",
      "117/117 [==============================] - 2s 17ms/step - loss: 0.3511 - accuracy: 0.8762 - val_loss: 0.3422 - val_accuracy: 0.8600\n",
      "Epoch 137/200\n",
      "117/117 [==============================] - 2s 17ms/step - loss: 0.3477 - accuracy: 0.8763 - val_loss: 0.3412 - val_accuracy: 0.8600\n",
      "Epoch 138/200\n",
      "117/117 [==============================] - 2s 18ms/step - loss: 0.3461 - accuracy: 0.8768 - val_loss: 0.3439 - val_accuracy: 0.8617\n",
      "Epoch 139/200\n",
      "117/117 [==============================] - 2s 17ms/step - loss: 0.3481 - accuracy: 0.8759 - val_loss: 0.3445 - val_accuracy: 0.8583\n",
      "Epoch 140/200\n",
      "117/117 [==============================] - 2s 17ms/step - loss: 0.3479 - accuracy: 0.8768 - val_loss: 0.3381 - val_accuracy: 0.8617\n",
      "Epoch 141/200\n",
      "117/117 [==============================] - 2s 17ms/step - loss: 0.3478 - accuracy: 0.8764 - val_loss: 0.3386 - val_accuracy: 0.8600\n",
      "Epoch 142/200\n",
      "117/117 [==============================] - 2s 17ms/step - loss: 0.3458 - accuracy: 0.8779 - val_loss: 0.3397 - val_accuracy: 0.8583\n",
      "Epoch 143/200\n",
      "117/117 [==============================] - 2s 17ms/step - loss: 0.3446 - accuracy: 0.8769 - val_loss: 0.3390 - val_accuracy: 0.8600\n",
      "Epoch 144/200\n",
      "117/117 [==============================] - 2s 17ms/step - loss: 0.3436 - accuracy: 0.8791 - val_loss: 0.3384 - val_accuracy: 0.8633\n",
      "Epoch 145/200\n",
      "117/117 [==============================] - 2s 17ms/step - loss: 0.3438 - accuracy: 0.8784 - val_loss: 0.3355 - val_accuracy: 0.8617\n",
      "Epoch 146/200\n",
      "117/117 [==============================] - 2s 17ms/step - loss: 0.3442 - accuracy: 0.8772 - val_loss: 0.3365 - val_accuracy: 0.8567\n",
      "Epoch 147/200\n",
      "117/117 [==============================] - 2s 17ms/step - loss: 0.3441 - accuracy: 0.8779 - val_loss: 0.3391 - val_accuracy: 0.8600\n",
      "Epoch 148/200\n",
      "117/117 [==============================] - 2s 17ms/step - loss: 0.3416 - accuracy: 0.8786 - val_loss: 0.3380 - val_accuracy: 0.8567\n",
      "Epoch 149/200\n",
      "117/117 [==============================] - 2s 17ms/step - loss: 0.3413 - accuracy: 0.8779 - val_loss: 0.3355 - val_accuracy: 0.8633\n",
      "Epoch 150/200\n",
      "117/117 [==============================] - 2s 17ms/step - loss: 0.3399 - accuracy: 0.8791 - val_loss: 0.3383 - val_accuracy: 0.8650\n",
      "Epoch 151/200\n",
      "117/117 [==============================] - 2s 17ms/step - loss: 0.3426 - accuracy: 0.8789 - val_loss: 0.3362 - val_accuracy: 0.8617\n",
      "Epoch 152/200\n",
      "117/117 [==============================] - 2s 17ms/step - loss: 0.3386 - accuracy: 0.8791 - val_loss: 0.3328 - val_accuracy: 0.8633\n",
      "Epoch 153/200\n",
      "117/117 [==============================] - 2s 17ms/step - loss: 0.3391 - accuracy: 0.8797 - val_loss: 0.3355 - val_accuracy: 0.8583\n",
      "Epoch 154/200\n",
      "117/117 [==============================] - 2s 17ms/step - loss: 0.3408 - accuracy: 0.8796 - val_loss: 0.3328 - val_accuracy: 0.8650\n",
      "Epoch 155/200\n",
      "117/117 [==============================] - 2s 17ms/step - loss: 0.3366 - accuracy: 0.8805 - val_loss: 0.3321 - val_accuracy: 0.8633\n",
      "Epoch 156/200\n",
      "117/117 [==============================] - 2s 17ms/step - loss: 0.3374 - accuracy: 0.8813 - val_loss: 0.3332 - val_accuracy: 0.8600\n",
      "Epoch 157/200\n",
      "117/117 [==============================] - 2s 17ms/step - loss: 0.3362 - accuracy: 0.8803 - val_loss: 0.3338 - val_accuracy: 0.8600\n",
      "Epoch 158/200\n",
      "117/117 [==============================] - 2s 17ms/step - loss: 0.3375 - accuracy: 0.8803 - val_loss: 0.3331 - val_accuracy: 0.8650\n",
      "Epoch 159/200\n",
      "117/117 [==============================] - 2s 17ms/step - loss: 0.3360 - accuracy: 0.8815 - val_loss: 0.3317 - val_accuracy: 0.8683\n",
      "Epoch 160/200\n",
      "117/117 [==============================] - 2s 17ms/step - loss: 0.3368 - accuracy: 0.8797 - val_loss: 0.3331 - val_accuracy: 0.8600\n",
      "Epoch 161/200\n",
      "117/117 [==============================] - 2s 17ms/step - loss: 0.3355 - accuracy: 0.8811 - val_loss: 0.3305 - val_accuracy: 0.8650\n",
      "Epoch 162/200\n",
      "117/117 [==============================] - 2s 17ms/step - loss: 0.3345 - accuracy: 0.8810 - val_loss: 0.3353 - val_accuracy: 0.8600\n",
      "Epoch 163/200\n",
      "117/117 [==============================] - 2s 17ms/step - loss: 0.3348 - accuracy: 0.8810 - val_loss: 0.3287 - val_accuracy: 0.8617\n",
      "Epoch 164/200\n",
      "117/117 [==============================] - 2s 17ms/step - loss: 0.3330 - accuracy: 0.8819 - val_loss: 0.3287 - val_accuracy: 0.8617\n",
      "Epoch 165/200\n",
      "117/117 [==============================] - 2s 17ms/step - loss: 0.3342 - accuracy: 0.8806 - val_loss: 0.3265 - val_accuracy: 0.8667\n",
      "Epoch 166/200\n",
      "117/117 [==============================] - 2s 17ms/step - loss: 0.3348 - accuracy: 0.8811 - val_loss: 0.3279 - val_accuracy: 0.8633\n",
      "Epoch 167/200\n",
      "117/117 [==============================] - 2s 17ms/step - loss: 0.3318 - accuracy: 0.8810 - val_loss: 0.3242 - val_accuracy: 0.8650\n",
      "Epoch 168/200\n",
      "117/117 [==============================] - 2s 17ms/step - loss: 0.3311 - accuracy: 0.8828 - val_loss: 0.3276 - val_accuracy: 0.8633\n",
      "Epoch 169/200\n"
     ]
    },
    {
     "name": "stdout",
     "output_type": "stream",
     "text": [
      "117/117 [==============================] - 2s 17ms/step - loss: 0.3307 - accuracy: 0.8821 - val_loss: 0.3264 - val_accuracy: 0.8633\n",
      "Epoch 170/200\n",
      "117/117 [==============================] - 2s 17ms/step - loss: 0.3290 - accuracy: 0.8840 - val_loss: 0.3273 - val_accuracy: 0.8650\n",
      "Epoch 171/200\n",
      "117/117 [==============================] - 2s 17ms/step - loss: 0.3305 - accuracy: 0.8831 - val_loss: 0.3271 - val_accuracy: 0.8633\n",
      "Epoch 172/200\n",
      "117/117 [==============================] - 2s 17ms/step - loss: 0.3311 - accuracy: 0.8825 - val_loss: 0.3255 - val_accuracy: 0.8617\n",
      "Epoch 173/200\n",
      "117/117 [==============================] - 2s 17ms/step - loss: 0.3293 - accuracy: 0.8829 - val_loss: 0.3304 - val_accuracy: 0.8650\n",
      "Epoch 174/200\n",
      "117/117 [==============================] - 2s 17ms/step - loss: 0.3307 - accuracy: 0.8817 - val_loss: 0.3259 - val_accuracy: 0.8650\n",
      "Epoch 175/200\n",
      "117/117 [==============================] - 2s 17ms/step - loss: 0.3303 - accuracy: 0.8823 - val_loss: 0.3263 - val_accuracy: 0.8650\n",
      "Epoch 176/200\n",
      "117/117 [==============================] - 2s 17ms/step - loss: 0.3258 - accuracy: 0.8829 - val_loss: 0.3249 - val_accuracy: 0.8633\n",
      "Epoch 177/200\n",
      "117/117 [==============================] - 2s 17ms/step - loss: 0.3266 - accuracy: 0.8845 - val_loss: 0.3258 - val_accuracy: 0.8633\n",
      "Epoch 178/200\n",
      "117/117 [==============================] - 2s 17ms/step - loss: 0.3258 - accuracy: 0.8843 - val_loss: 0.3231 - val_accuracy: 0.8650\n",
      "Epoch 179/200\n",
      "117/117 [==============================] - 2s 17ms/step - loss: 0.3263 - accuracy: 0.8844 - val_loss: 0.3228 - val_accuracy: 0.8667\n",
      "Epoch 180/200\n",
      "117/117 [==============================] - 2s 18ms/step - loss: 0.3256 - accuracy: 0.8845 - val_loss: 0.3259 - val_accuracy: 0.8717\n",
      "Epoch 181/200\n",
      "117/117 [==============================] - 2s 17ms/step - loss: 0.3265 - accuracy: 0.8840 - val_loss: 0.3197 - val_accuracy: 0.8717\n",
      "Epoch 182/200\n",
      "117/117 [==============================] - 2s 17ms/step - loss: 0.3253 - accuracy: 0.8850 - val_loss: 0.3251 - val_accuracy: 0.8617\n",
      "Epoch 183/200\n",
      "117/117 [==============================] - 2s 17ms/step - loss: 0.3246 - accuracy: 0.8848 - val_loss: 0.3237 - val_accuracy: 0.8700\n",
      "Epoch 184/200\n",
      "117/117 [==============================] - 2s 17ms/step - loss: 0.3267 - accuracy: 0.8836 - val_loss: 0.3229 - val_accuracy: 0.8683\n",
      "Epoch 185/200\n",
      "117/117 [==============================] - 2s 17ms/step - loss: 0.3232 - accuracy: 0.8851 - val_loss: 0.3270 - val_accuracy: 0.8700\n",
      "Epoch 186/200\n",
      "117/117 [==============================] - 2s 17ms/step - loss: 0.3237 - accuracy: 0.8845 - val_loss: 0.3220 - val_accuracy: 0.8683\n",
      "Epoch 187/200\n",
      "117/117 [==============================] - 2s 17ms/step - loss: 0.3211 - accuracy: 0.8859 - val_loss: 0.3190 - val_accuracy: 0.8667\n",
      "Epoch 188/200\n",
      "117/117 [==============================] - 2s 17ms/step - loss: 0.3207 - accuracy: 0.8863 - val_loss: 0.3215 - val_accuracy: 0.8700\n",
      "Epoch 189/200\n",
      "117/117 [==============================] - 2s 17ms/step - loss: 0.3221 - accuracy: 0.8865 - val_loss: 0.3229 - val_accuracy: 0.8700\n",
      "Epoch 190/200\n",
      "117/117 [==============================] - 2s 17ms/step - loss: 0.3220 - accuracy: 0.8850 - val_loss: 0.3230 - val_accuracy: 0.8667\n",
      "Epoch 191/200\n",
      "117/117 [==============================] - 2s 18ms/step - loss: 0.3216 - accuracy: 0.8845 - val_loss: 0.3233 - val_accuracy: 0.8583\n",
      "Epoch 192/200\n",
      "117/117 [==============================] - 2s 17ms/step - loss: 0.3201 - accuracy: 0.8866 - val_loss: 0.3205 - val_accuracy: 0.8683\n",
      "Epoch 193/200\n",
      "117/117 [==============================] - 2s 17ms/step - loss: 0.3219 - accuracy: 0.8858 - val_loss: 0.3207 - val_accuracy: 0.8700\n",
      "Epoch 194/200\n",
      "117/117 [==============================] - 2s 17ms/step - loss: 0.3215 - accuracy: 0.8872 - val_loss: 0.3167 - val_accuracy: 0.8717\n",
      "Epoch 195/200\n",
      "117/117 [==============================] - 2s 17ms/step - loss: 0.3208 - accuracy: 0.8852 - val_loss: 0.3186 - val_accuracy: 0.8633\n",
      "Epoch 196/200\n",
      "117/117 [==============================] - 2s 17ms/step - loss: 0.3198 - accuracy: 0.8854 - val_loss: 0.3184 - val_accuracy: 0.8650\n",
      "Epoch 197/200\n",
      "117/117 [==============================] - 2s 17ms/step - loss: 0.3186 - accuracy: 0.8871 - val_loss: 0.3189 - val_accuracy: 0.8683\n",
      "Epoch 198/200\n",
      "117/117 [==============================] - 2s 18ms/step - loss: 0.3168 - accuracy: 0.8868 - val_loss: 0.3159 - val_accuracy: 0.8717\n",
      "Epoch 199/200\n",
      "117/117 [==============================] - 2s 17ms/step - loss: 0.3175 - accuracy: 0.8871 - val_loss: 0.3170 - val_accuracy: 0.8683\n",
      "Epoch 200/200\n",
      "117/117 [==============================] - 2s 17ms/step - loss: 0.3181 - accuracy: 0.8870 - val_loss: 0.3153 - val_accuracy: 0.8700\n"
     ]
    }
   ],
   "source": [
    "# Q. dropout layer를 추가해보세요. (dropout 확률은 0.5로 지정해주세요.)\n",
    "\n",
    "model = keras.Sequential([\n",
    "    keras.layers.Flatten(input_shape=(28, 28)),\n",
    "    keras.layers.Dense(256, activation='relu'),\n",
    "    # 여기에 dropout layer를 추가해보았습니다. 나머지 layer는 위의 실습과 같습니다. \n",
    "    keras.layers.Dropout(0.5),\n",
    "    keras.layers.Dense(10, activation='softmax')\n",
    "])\n",
    "\n",
    "model.compile(optimizer='adam',loss='sparse_categorical_crossentropy',\n",
    "              metrics=['accuracy'])\n",
    "\n",
    "history = model.fit(X_train, y_train, epochs=200, batch_size=512, validation_data=(X_valid, y_valid))"
   ]
  },
  {
   "cell_type": "code",
   "execution_count": 10,
   "id": "fab5b97e",
   "metadata": {},
   "outputs": [
    {
     "data": {
      "image/png": "[encoded data removed]",
      "text/plain": [
       "<Figure size 432x288 with 1 Axes>"
      ]
     },
     "metadata": {
      "needs_background": "light"
     },
     "output_type": "display_data"
    }
   ],
   "source": [
    "# Q. loss 값의 그래프를 그려봅시다.\n",
    "y_vloss = history.history['val_loss']\n",
    "y_loss = history.history['loss']\n",
    "x_len = np.arange(len(y_loss))\n",
    "\n",
    "plt.plot(x_len, y_vloss, marker='.', c='red', label=\"Validation-set Loss\")\n",
    "plt.plot(x_len, y_loss, marker='.', c='blue', label=\"Train-set Loss\")\n",
    "plt.legend(loc='upper right')\n",
    "plt.grid()\n",
    "plt.ylim(0,1)\n",
    "plt.title('Loss graph with dropout layer') \n",
    "plt.xlabel('epoch')\n",
    "plt.ylabel('loss')\n",
    "plt.show()"
   ]
  },
  {
   "cell_type": "code",
   "execution_count": 11,
   "id": "c579ee94",
   "metadata": {},
   "outputs": [
    {
     "data": {
      "image/png": "[encoded data removed]",
      "text/plain": [
       "<Figure size 432x288 with 1 Axes>"
      ]
     },
     "metadata": {
      "needs_background": "light"
     },
     "output_type": "display_data"
    }
   ],
   "source": [
    "# Q. accuracy 값의 그래프를 그려봅시다. \n",
    "y_vacc = history.history['val_accuracy']\n",
    "y_acc = history.history['accuracy']\n",
    "x_len = np.arange(len(y_acc))\n",
    "\n",
    "plt.plot(x_len, y_vacc, marker='.', c='red', label=\"Validation-set accuracy\")\n",
    "plt.plot(x_len, y_acc, marker='.', c='blue', label=\"Train-set accuracy\")\n",
    "plt.legend(loc='lower right')\n",
    "plt.grid()\n",
    "plt.ylim(0.5,1) \n",
    "plt.title('Accuracy graph with dropout layer') \n",
    "plt.xlabel('epoch')\n",
    "plt.ylabel('accuracy')\n",
    "plt.show()"
   ]
  },
  {
   "cell_type": "markdown",
   "id": "8a6c85f3",
   "metadata": {},
   "source": [
    "### Batch Normalization"
   ]
  },
  {
   "cell_type": "markdown",
   "id": "968eaf21",
   "metadata": {},
   "source": [
    "* batch normalization 기법은 각 mini-batch마다 평균과 분산을 계산하여 정규화(normalization)를 수행하고, scale and shift 변환을 적용하여 mini-batch들이 비슷한 데이터 분포를 가지도록 합니다."
   ]
  },
  {
   "cell_type": "code",
   "execution_count": 11,
   "id": "d4941951",
   "metadata": {},
   "outputs": [
    {
     "name": "stdout",
     "output_type": "stream",
     "text": [
      "=3\n"
     ]
    }
   ],
   "source": [
    "import tensorflow as tf\n",
    "from tensorflow import keras\n",
    "import numpy as np\n",
    "import matplotlib.pyplot as plt\n",
    "\n",
    "fashion_mnist = keras.datasets.fashion_mnist\n",
    "print('=3')"
   ]
  },
  {
   "cell_type": "code",
   "execution_count": 12,
   "id": "38a736a2",
   "metadata": {},
   "outputs": [],
   "source": [
    "(train_images, train_labels), (test_images, test_labels) = fashion_mnist.load_data()\n",
    "class_names = ['T-shirt/top', 'Trouser', 'Pullover', 'Dress', 'Coat',\n",
    "               'Sandal', 'Shirt', 'Sneaker', 'Bag', 'Ankle boot']\n",
    "\n",
    "train_images = train_images / 255.0\n",
    "test_images = test_images / 255.0"
   ]
  },
  {
   "cell_type": "code",
   "execution_count": 13,
   "id": "89c5fa9b",
   "metadata": {},
   "outputs": [
    {
     "name": "stdout",
     "output_type": "stream",
     "text": [
      "Epoch 1/20\n",
      "21/21 [==============================] - 1s 48ms/step - loss: 1.2542 - accuracy: 0.6124 - val_loss: 0.7564 - val_accuracy: 0.7428\n",
      "Epoch 2/20\n",
      "21/21 [==============================] - 1s 38ms/step - loss: 0.6646 - accuracy: 0.7721 - val_loss: 0.6044 - val_accuracy: 0.7975\n",
      "Epoch 3/20\n",
      "21/21 [==============================] - 1s 40ms/step - loss: 0.5650 - accuracy: 0.8106 - val_loss: 0.5427 - val_accuracy: 0.8184\n",
      "Epoch 4/20\n",
      "21/21 [==============================] - 1s 39ms/step - loss: 0.5167 - accuracy: 0.8269 - val_loss: 0.5103 - val_accuracy: 0.8288\n",
      "Epoch 5/20\n",
      "21/21 [==============================] - 1s 39ms/step - loss: 0.4852 - accuracy: 0.8358 - val_loss: 0.4830 - val_accuracy: 0.8379\n",
      "Epoch 6/20\n",
      "21/21 [==============================] - 1s 39ms/step - loss: 0.4634 - accuracy: 0.8419 - val_loss: 0.4652 - val_accuracy: 0.8428\n",
      "Epoch 7/20\n",
      "21/21 [==============================] - 1s 37ms/step - loss: 0.4428 - accuracy: 0.8481 - val_loss: 0.4478 - val_accuracy: 0.8490\n",
      "Epoch 8/20\n",
      "21/21 [==============================] - 1s 39ms/step - loss: 0.4284 - accuracy: 0.8542 - val_loss: 0.4383 - val_accuracy: 0.8493\n",
      "Epoch 9/20\n",
      "21/21 [==============================] - 1s 39ms/step - loss: 0.4146 - accuracy: 0.8581 - val_loss: 0.4260 - val_accuracy: 0.8544\n",
      "Epoch 10/20\n",
      "21/21 [==============================] - 1s 40ms/step - loss: 0.4038 - accuracy: 0.8620 - val_loss: 0.4236 - val_accuracy: 0.8549\n",
      "Epoch 11/20\n",
      "21/21 [==============================] - 1s 37ms/step - loss: 0.3953 - accuracy: 0.8648 - val_loss: 0.4193 - val_accuracy: 0.8561\n",
      "Epoch 12/20\n",
      "21/21 [==============================] - 1s 37ms/step - loss: 0.3907 - accuracy: 0.8643 - val_loss: 0.4105 - val_accuracy: 0.8596\n",
      "Epoch 13/20\n",
      "21/21 [==============================] - 1s 40ms/step - loss: 0.3780 - accuracy: 0.8697 - val_loss: 0.3962 - val_accuracy: 0.8623\n",
      "Epoch 14/20\n",
      "21/21 [==============================] - 1s 37ms/step - loss: 0.3716 - accuracy: 0.8717 - val_loss: 0.3952 - val_accuracy: 0.8629\n",
      "Epoch 15/20\n",
      "21/21 [==============================] - 1s 39ms/step - loss: 0.3640 - accuracy: 0.8742 - val_loss: 0.3895 - val_accuracy: 0.8647\n",
      "Epoch 16/20\n",
      "21/21 [==============================] - 1s 39ms/step - loss: 0.3588 - accuracy: 0.8765 - val_loss: 0.3825 - val_accuracy: 0.8676\n",
      "Epoch 17/20\n",
      "21/21 [==============================] - 1s 37ms/step - loss: 0.3536 - accuracy: 0.8777 - val_loss: 0.3795 - val_accuracy: 0.8687\n",
      "Epoch 18/20\n",
      "21/21 [==============================] - 1s 37ms/step - loss: 0.3469 - accuracy: 0.8806 - val_loss: 0.3750 - val_accuracy: 0.8692\n",
      "Epoch 19/20\n",
      "21/21 [==============================] - 1s 40ms/step - loss: 0.3414 - accuracy: 0.8813 - val_loss: 0.3844 - val_accuracy: 0.8647\n",
      "Epoch 20/20\n",
      "21/21 [==============================] - 1s 38ms/step - loss: 0.3398 - accuracy: 0.8818 - val_loss: 0.3740 - val_accuracy: 0.8683\n"
     ]
    }
   ],
   "source": [
    "from sklearn.model_selection import train_test_split\n",
    "\n",
    "X_train, X_valid, y_train, y_valid = train_test_split(train_images, train_labels, test_size=0.3, random_state=101)\n",
    "\n",
    "model = keras.Sequential([\n",
    "    keras.layers.Flatten(input_shape=(28, 28)),\n",
    "    keras.layers.Dense(128, activation='relu'),\n",
    "    keras.layers.Dense(10, activation='softmax')\n",
    "])\n",
    "\n",
    "model.compile(optimizer='adam',loss='sparse_categorical_crossentropy',\n",
    "              metrics=['accuracy'])\n",
    "\n",
    "history= model.fit(X_train, y_train, epochs=20, batch_size=2048, validation_data=(X_valid, y_valid))"
   ]
  },
  {
   "cell_type": "code",
   "execution_count": 14,
   "id": "717889b5",
   "metadata": {},
   "outputs": [
    {
     "data": {
      "image/png": "[encoded data removed]",
      "text/plain": [
       "<Figure size 432x288 with 1 Axes>"
      ]
     },
     "metadata": {
      "needs_background": "light"
     },
     "output_type": "display_data"
    }
   ],
   "source": [
    "# loss 값을 plot 해보겠습니다. \n",
    "y_vloss = history.history['val_loss']\n",
    "y_loss = history.history['loss']\n",
    "x_len = np.arange(len(y_loss))\n",
    "\n",
    "plt.plot(x_len, y_vloss, marker='.', c='red', label=\"Validation-set Loss\")\n",
    "plt.plot(x_len, y_loss, marker='.', c='blue', label=\"Train-set Loss\")\n",
    "plt.legend(loc='upper right')\n",
    "plt.grid()\n",
    "plt.ylim(0,1)\n",
    "plt.title('Loss graph without batch normalization') \n",
    "plt.xlabel('epoch')\n",
    "plt.ylabel('loss')\n",
    "plt.show()"
   ]
  },
  {
   "cell_type": "code",
   "execution_count": 15,
   "id": "8a0c69dd",
   "metadata": {},
   "outputs": [
    {
     "data": {
      "image/png": "[encoded data removed]",
      "text/plain": [
       "<Figure size 432x288 with 1 Axes>"
      ]
     },
     "metadata": {
      "needs_background": "light"
     },
     "output_type": "display_data"
    }
   ],
   "source": [
    "# accuracy 값을 plot 해보겠습니다. \n",
    "y_vacc = history.history['val_accuracy']\n",
    "y_acc = history.history['accuracy']\n",
    "x_len = np.arange(len(y_acc))\n",
    "\n",
    "plt.plot(x_len, y_vacc, marker='.', c='red', label=\"Validation-set accuracy\")\n",
    "plt.plot(x_len, y_acc, marker='.', c='blue', label=\"Train-set accuracy\")\n",
    "plt.legend(loc='lower right')\n",
    "plt.grid()\n",
    "plt.ylim(0.5,1)\n",
    "plt.title('Accuracy graph without batch normalization') \n",
    "plt.xlabel('epoch')\n",
    "plt.ylabel('accuracy')\n",
    "plt.show()"
   ]
  },
  {
   "cell_type": "markdown",
   "id": "203fbab1",
   "metadata": {},
   "source": [
    "* batch normalization 추가"
   ]
  },
  {
   "cell_type": "code",
   "execution_count": 16,
   "id": "b4835421",
   "metadata": {},
   "outputs": [
    {
     "name": "stdout",
     "output_type": "stream",
     "text": [
      "Epoch 1/20\n",
      "21/21 [==============================] - 2s 56ms/step - loss: 0.9292 - accuracy: 0.6869 - val_loss: 1.0222 - val_accuracy: 0.6929\n",
      "Epoch 2/20\n",
      "21/21 [==============================] - 1s 44ms/step - loss: 0.5133 - accuracy: 0.8266 - val_loss: 0.8343 - val_accuracy: 0.7626\n",
      "Epoch 3/20\n",
      "21/21 [==============================] - 1s 44ms/step - loss: 0.4496 - accuracy: 0.8462 - val_loss: 0.7442 - val_accuracy: 0.7991\n",
      "Epoch 4/20\n",
      "21/21 [==============================] - 1s 45ms/step - loss: 0.4126 - accuracy: 0.8591 - val_loss: 0.6691 - val_accuracy: 0.8263\n",
      "Epoch 5/20\n",
      "21/21 [==============================] - 1s 43ms/step - loss: 0.3863 - accuracy: 0.8670 - val_loss: 0.6341 - val_accuracy: 0.8206\n",
      "Epoch 6/20\n",
      "21/21 [==============================] - 1s 47ms/step - loss: 0.3667 - accuracy: 0.8745 - val_loss: 0.5798 - val_accuracy: 0.8427\n",
      "Epoch 7/20\n",
      "21/21 [==============================] - 1s 46ms/step - loss: 0.3503 - accuracy: 0.8784 - val_loss: 0.5384 - val_accuracy: 0.8502\n",
      "Epoch 8/20\n",
      "21/21 [==============================] - 1s 45ms/step - loss: 0.3363 - accuracy: 0.8824 - val_loss: 0.5154 - val_accuracy: 0.8545\n",
      "Epoch 9/20\n",
      "21/21 [==============================] - 1s 44ms/step - loss: 0.3219 - accuracy: 0.8875 - val_loss: 0.4783 - val_accuracy: 0.8622\n",
      "Epoch 10/20\n",
      "21/21 [==============================] - 1s 47ms/step - loss: 0.3126 - accuracy: 0.8902 - val_loss: 0.4619 - val_accuracy: 0.8610\n",
      "Epoch 11/20\n",
      "21/21 [==============================] - 1s 45ms/step - loss: 0.2992 - accuracy: 0.8950 - val_loss: 0.4491 - val_accuracy: 0.8596\n",
      "Epoch 12/20\n",
      "21/21 [==============================] - 1s 45ms/step - loss: 0.2895 - accuracy: 0.8985 - val_loss: 0.4229 - val_accuracy: 0.8644\n",
      "Epoch 13/20\n",
      "21/21 [==============================] - 1s 42ms/step - loss: 0.2775 - accuracy: 0.9024 - val_loss: 0.4103 - val_accuracy: 0.8693\n",
      "Epoch 14/20\n",
      "21/21 [==============================] - 1s 44ms/step - loss: 0.2686 - accuracy: 0.9056 - val_loss: 0.3861 - val_accuracy: 0.8757\n",
      "Epoch 15/20\n",
      "21/21 [==============================] - 1s 43ms/step - loss: 0.2597 - accuracy: 0.9073 - val_loss: 0.3948 - val_accuracy: 0.8654\n",
      "Epoch 16/20\n",
      "21/21 [==============================] - 1s 43ms/step - loss: 0.2516 - accuracy: 0.9115 - val_loss: 0.4123 - val_accuracy: 0.8527\n",
      "Epoch 17/20\n",
      "21/21 [==============================] - 1s 45ms/step - loss: 0.2455 - accuracy: 0.9143 - val_loss: 0.3723 - val_accuracy: 0.8692\n",
      "Epoch 18/20\n",
      "21/21 [==============================] - 1s 44ms/step - loss: 0.2361 - accuracy: 0.9164 - val_loss: 0.3614 - val_accuracy: 0.8778\n",
      "Epoch 19/20\n",
      "21/21 [==============================] - 1s 45ms/step - loss: 0.2301 - accuracy: 0.9196 - val_loss: 0.3653 - val_accuracy: 0.8714\n",
      "Epoch 20/20\n",
      "21/21 [==============================] - 1s 45ms/step - loss: 0.2231 - accuracy: 0.9208 - val_loss: 0.3639 - val_accuracy: 0.8759\n"
     ]
    }
   ],
   "source": [
    "# Q. 두 개의 dense layer 사이에 batch normalization layer를 추가하는 코드입니다.\n",
    "\n",
    "model = keras.Sequential([\n",
    "    keras.layers.Flatten(input_shape=(28, 28)),\n",
    "    keras.layers.Dense(128, activation='relu'),\n",
    "    # 여기에 batch normalization layer를 추가해보았습니다. 나머지 layer는 위의 실습과 같습니다.\n",
    "    keras.layers.BatchNormalization(),\n",
    "    keras.layers.Dense(10, activation='softmax')\n",
    "])\n",
    "\n",
    "model.compile(optimizer='adam',\n",
    "              loss='sparse_categorical_crossentropy',\n",
    "              metrics=['accuracy'])\n",
    "\n",
    "history= model.fit(X_train, y_train, epochs=20, batch_size=2048, validation_data=(X_valid, y_valid))"
   ]
  },
  {
   "cell_type": "code",
   "execution_count": 18,
   "id": "a5c93407",
   "metadata": {},
   "outputs": [
    {
     "data": {
      "image/png": "[encoded data removed]",
      "text/plain": [
       "<Figure size 432x288 with 1 Axes>"
      ]
     },
     "metadata": {
      "needs_background": "light"
     },
     "output_type": "display_data"
    }
   ],
   "source": [
    "# loss 값을 plot 해보겠습니다. \n",
    "y_vloss = history.history['val_loss']\n",
    "y_loss = history.history['loss']\n",
    "x_len = np.arange(len(y_loss))\n",
    "\n",
    "plt.plot(x_len, y_vloss, marker='.', c='red', label=\"Validation-set Loss\")\n",
    "plt.plot(x_len, y_loss, marker='.', c='blue', label=\"Train-set Loss\")\n",
    "plt.legend(loc='upper right')\n",
    "plt.grid()\n",
    "plt.ylim(0,1)\n",
    "plt.title('Loss graph with batch normalization') \n",
    "plt.xlabel('epoch')\n",
    "plt.ylabel('loss')\n",
    "plt.show()"
   ]
  },
  {
   "cell_type": "code",
   "execution_count": 19,
   "id": "d39883c4",
   "metadata": {},
   "outputs": [
    {
     "data": {
      "image/png": "[encoded data removed]",
      "text/plain": [
       "<Figure size 432x288 with 1 Axes>"
      ]
     },
     "metadata": {
      "needs_background": "light"
     },
     "output_type": "display_data"
    }
   ],
   "source": [
    "# accuracy 값을 plot 해보겠습니다. \n",
    "y_vacc = history.history['val_accuracy']\n",
    "y_acc = history.history['accuracy']\n",
    "x_len = np.arange(len(y_acc))\n",
    "\n",
    "plt.plot(x_len, y_vacc, marker='.', c='red', label=\"Validation-set accuracy\")\n",
    "plt.plot(x_len, y_acc, marker='.', c='blue', label=\"Train-set accuracy\")\n",
    "plt.legend(loc='lower right')\n",
    "plt.grid()\n",
    "plt.ylim(0.5,1) \n",
    "plt.title('Accurcy graph with batch normalization') \n",
    "plt.xlabel('epoch')\n",
    "plt.ylabel('accuracy')\n",
    "plt.show()"
   ]
  },
  {
   "cell_type": "code",
   "execution_count": null,
   "id": "616d9944",
   "metadata": {},
   "outputs": [],
   "source": []
  }
 ],
 "metadata": {
  "kernelspec": {
   "display_name": "Python 3 (ipykernel)",
   "language": "python",
   "name": "python3"
  },
  "language_info": {
   "codemirror_mode": {
    "name": "ipython",
    "version": 3
   },
   "file_extension": ".py",
   "mimetype": "text/x-python",
   "name": "python",
   "nbconvert_exporter": "python",
   "pygments_lexer": "ipython3",
   "version": "3.9.7"
  }
 },
 "nbformat": 4,
 "nbformat_minor": 5
}
