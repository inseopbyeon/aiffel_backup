{
 "cells": [
  {
   "cell_type": "markdown",
   "id": "c7a3421c",
   "metadata": {},
   "source": [
    "# K-means"
   ]
  },
  {
   "cell_type": "markdown",
   "id": "cc5a9b5b",
   "metadata": {},
   "source": [
    "* K 값을 미리 지정\n",
    "*유클리드 거리 기반   \n",
    "\n",
    "[개념이해](https://www.naftaliharris.com/blog/visualizing-k-means-clustering/)"
   ]
  },
  {
   "cell_type": "code",
   "execution_count": 6,
   "id": "7a1c5bae",
   "metadata": {},
   "outputs": [
    {
     "name": "stdout",
     "output_type": "stream",
     "text": [
      "(100, 2) [[ 4.63411914 -6.52590383]\n",
      " [-6.52008604  7.16624288]\n",
      " [ 2.14142339 -5.21092623]\n",
      " [ 1.70054231  8.54077897]\n",
      " [-0.33809159  8.76509668]\n",
      " [-7.69329744  7.94546313]\n",
      " [ 3.89090121 -3.06531839]\n",
      " [ 3.22338498 -2.93209009]\n",
      " [-6.63962964  5.34777334]\n",
      " [ 6.37904965 -6.46617328]]\n",
      "(100,) [2 1 0 3 3 1 0 0 1 2]\n"
     ]
    }
   ],
   "source": [
    "%matplotlib inline\n",
    "from sklearn.datasets import make_blobs\n",
    "import pandas as pd\n",
    "import numpy as np\n",
    "import matplotlib.pyplot as plt\n",
    "import random\n",
    "\n",
    "# 중심점이 5개인 100개의 점 데이터를 무작위로 생성합니다.\n",
    "points, labels = make_blobs(n_samples=100, centers=5, n_features=2, random_state=135)\n",
    "\n",
    "print(points.shape, points[:10])  # 무작위로 생성된 점의 좌표 10개 출력\n",
    "print(labels.shape, labels[:10])    # 10개의 점들이 각각 대응하는 중심점(label) 값 출력"
   ]
  },
  {
   "cell_type": "code",
   "execution_count": 27,
   "id": "8f31b8e2",
   "metadata": {},
   "outputs": [
    {
     "data": {
      "text/html": [
       "<div>\n",
       "<style scoped>\n",
       "    .dataframe tbody tr th:only-of-type {\n",
       "        vertical-align: middle;\n",
       "    }\n",
       "\n",
       "    .dataframe tbody tr th {\n",
       "        vertical-align: top;\n",
       "    }\n",
       "\n",
       "    .dataframe thead th {\n",
       "        text-align: right;\n",
       "    }\n",
       "</style>\n",
       "<table border=\"1\" class=\"dataframe\">\n",
       "  <thead>\n",
       "    <tr style=\"text-align: right;\">\n",
       "      <th></th>\n",
       "      <th>X</th>\n",
       "      <th>Y</th>\n",
       "    </tr>\n",
       "  </thead>\n",
       "  <tbody>\n",
       "    <tr>\n",
       "      <th>0</th>\n",
       "      <td>4.634119</td>\n",
       "      <td>-6.525904</td>\n",
       "    </tr>\n",
       "    <tr>\n",
       "      <th>1</th>\n",
       "      <td>-6.520086</td>\n",
       "      <td>7.166243</td>\n",
       "    </tr>\n",
       "    <tr>\n",
       "      <th>2</th>\n",
       "      <td>2.141423</td>\n",
       "      <td>-5.210926</td>\n",
       "    </tr>\n",
       "    <tr>\n",
       "      <th>3</th>\n",
       "      <td>1.700542</td>\n",
       "      <td>8.540779</td>\n",
       "    </tr>\n",
       "    <tr>\n",
       "      <th>4</th>\n",
       "      <td>-0.338092</td>\n",
       "      <td>8.765097</td>\n",
       "    </tr>\n",
       "  </tbody>\n",
       "</table>\n",
       "</div>"
      ],
      "text/plain": [
       "          X         Y\n",
       "0  4.634119 -6.525904\n",
       "1 -6.520086  7.166243\n",
       "2  2.141423 -5.210926\n",
       "3  1.700542  8.540779\n",
       "4 -0.338092  8.765097"
      ]
     },
     "metadata": {},
     "output_type": "display_data"
    },
    {
     "data": {
      "image/png": "[encoded data removed]",
      "text/plain": [
       "<Figure size 432x288 with 1 Axes>"
      ]
     },
     "metadata": {
      "needs_background": "light"
     },
     "output_type": "display_data"
    }
   ],
   "source": [
    "# 축 그리기\n",
    "fig = plt.figure()\n",
    "ax = fig.add_subplot(1, 1, 1)\n",
    "\n",
    "# 위에서 생성한 점 데이터들을 pandas DataFrame 형태로 변환하기\n",
    "points_df = pd.DataFrame(points, columns=['X', 'Y'])\n",
    "display(points_df.head())\n",
    "\n",
    "# 점 데이터를 X-Y grid에 시각화하기\n",
    "ax.scatter(points[:, 0], points[:, 1], c='black', label='random generated data')\n",
    "\n",
    "# 축 이름을 라벨에 달고, 점 데이터 그리기\n",
    "ax.set_xlabel('X')\n",
    "ax.set_ylabel('Y')\n",
    "ax.legend()\n",
    "ax.grid()"
   ]
  },
  {
   "cell_type": "markdown",
   "id": "31813cd1",
   "metadata": {},
   "source": [
    "> K-mean 알고리즘의 순서\n",
    "> 1. 원하는 클러스터의 수(K)를 결정합니다.\n",
    "2. 무작위로 클러스터의 수와 같은 K개의 중심점(centroid)을 선정합니다. 이들은 각각의 클러스터를 대표합니다.\n",
    "3. 나머지 점들과 모든 중심점 간의 유클리드 거리를 계산한 후, 가장 가까운 거리를 가지는 중심점의 클러스터에 속하도록 합니다.\n",
    "4. 각 K개의 클러스터의 중심점을 재조정합니다. **특정 클러스터에 속하는 모든 점들의 평균값이 해당 클러스터 다음 iteration의 중심점이 됩니다.(이 중심점은 실제로 존재하는 데이터가 아니어도 상관없습니다.)**\n",
    "5. 재조정된 중심점을 바탕으로 모든 점들과 새로 조정된 중심점 간의 유클리드 거리를 다시 계산한 후, 가장 가까운 거리를 가지는 클러스터에 해당 점을 재배정합니다.\n",
    "6. 4.번과 5.번을 반복 수행합니다. 반복의 횟수는 사용자가 적절히 조절하면 되고, 특정 iteration 이상이 되면 수렴(중심점이 더 이상 바뀌지 않음)하게 됩니다."
   ]
  },
  {
   "cell_type": "code",
   "execution_count": 67,
   "id": "07bd64da",
   "metadata": {},
   "outputs": [
    {
     "name": "stdout",
     "output_type": "stream",
     "text": [
      "<class 'numpy.ndarray'>\n",
      "(100,)\n",
      "[0 1 2 3 4]\n"
     ]
    }
   ],
   "source": [
    "from sklearn.cluster import KMeans\n",
    "\n",
    "# 1), 2) 위에서 생성한 무작위 점 데이터(points)에 클러스터의 수(K)가 5인 K-means 알고리즘을 적용 \n",
    "kmeans_cluster = KMeans(n_clusters=5)\n",
    "\n",
    "# 3) ~ 6) 과정이 전부 함축되어 있는 코드입니다. points에 대하여 K가 5일 때의 K-means iteration을 수행\n",
    "kmeans_cluster.fit(points)\n",
    "\n",
    "print(type(kmeans_cluster.labels_))\n",
    "print(np.shape(kmeans_cluster.labels_))\n",
    "print(np.unique(kmeans_cluster.labels_))"
   ]
  },
  {
   "cell_type": "code",
   "execution_count": 66,
   "id": "d2faef96",
   "metadata": {},
   "outputs": [
    {
     "data": {
      "image/png": "[encoded data removed]",
      "text/plain": [
       "<Figure size 432x288 with 1 Axes>"
      ]
     },
     "metadata": {
      "needs_background": "light"
     },
     "output_type": "display_data"
    }
   ],
   "source": [
    "# n 번째 클러스터 데이터를 어떤 색으로 도식할 지 결정하는 color dictionary\n",
    "color_dict = {0: 'red', 1: 'blue', 2:'green', 3:'brown', 4:'indigo'} \n",
    "\n",
    "# 점 데이터를 X-Y grid에 시각화합니다.\n",
    "fig = plt.figure()\n",
    "ax = fig.add_subplot(1, 1, 1)\n",
    "\n",
    "# K-means clustering의 결과대로 색깔별로 구분하여 점에 색칠한 후 도식\n",
    "for cluster in range(5):\n",
    "    cluster_sub_points = points[kmeans_cluster.labels_ == cluster] # 전체 무작위 점 데이터에서 K-means 알고리즘에 의해 군집화된 sub data를 분리합니다. \n",
    "    ax.scatter(cluster_sub_points[:, 0], cluster_sub_points[:, 1], c=color_dict[cluster], label='cluster_{}'.format(cluster)) # 해당 sub data를 plot합니다.\n",
    "\n",
    "# 축 이름을 라벨에 달고, 점 데이터 그리기\n",
    "ax.set_xlabel('X')\n",
    "ax.set_ylabel('Y')\n",
    "ax.legend()\n",
    "ax.grid()"
   ]
  },
  {
   "cell_type": "markdown",
   "id": "08716c33",
   "metadata": {},
   "source": [
    "### K-means가 잘 작동하지 않는 경우"
   ]
  },
  {
   "cell_type": "code",
   "execution_count": 71,
   "id": "7740c3ad",
   "metadata": {},
   "outputs": [
    {
     "data": {
      "image/png": "[encoded data removed]",
      "text/plain": [
       "<Figure size 432x288 with 1 Axes>"
      ]
     },
     "metadata": {
      "needs_background": "light"
     },
     "output_type": "display_data"
    }
   ],
   "source": [
    "# K-means algorithm이 잘 동작하지 않는 예시 (1) 원형 분포\n",
    "from sklearn.datasets import make_circles\n",
    "\n",
    "# 원형 분포 데이터 생성\n",
    "circle_points, circle_labels = make_circles(n_samples=100, factor=0.5, noise=0.01) # 원형 분포를 가지는 점 데이터 100개를 생성합니다.\n",
    "\n",
    "# 캔버스 생성\n",
    "fig = plt.figure()\n",
    "ax = fig.add_subplot(1, 1, 1)\n",
    "\n",
    "# 원형 분포에 대해 K-means 수행\n",
    "circle_kmeans = KMeans(n_clusters=2)\n",
    "circle_kmeans.fit(circle_points)\n",
    "color_dict = {0: 'red', 1: 'blue'}\n",
    "for cluster in range(2):\n",
    "    cluster_sub_points = circle_points[circle_kmeans.labels_ == cluster]\n",
    "    ax.scatter(cluster_sub_points[:, 0], cluster_sub_points[:, 1], c=color_dict[cluster], label='cluster_{}'.format(cluster))\n",
    "ax.set_title('K-means on circle data, K=2')\n",
    "ax.set_xlabel('X')\n",
    "ax.set_ylabel('Y')\n",
    "ax.legend() \n",
    "ax.grid()"
   ]
  },
  {
   "cell_type": "code",
   "execution_count": 72,
   "id": "59c241b9",
   "metadata": {},
   "outputs": [
    {
     "data": {
      "image/png": "[encoded data removed]",
      "text/plain": [
       "<Figure size 432x288 with 1 Axes>"
      ]
     },
     "metadata": {
      "needs_background": "light"
     },
     "output_type": "display_data"
    }
   ],
   "source": [
    "# K-means algorithm이 잘 동작하지 않는 예시 (2) 달 모양 분포\n",
    "from sklearn.datasets import make_moons\n",
    "\n",
    "# 달 모양 분포의 데이터 생성\n",
    "moon_points, moon_labels = make_moons(n_samples=100, noise=0.01) # 달 모양 분포를 가지는 점 데이터 100개를 생성합니다.\n",
    "\n",
    "# 캔버스 생성\n",
    "fig = plt.figure()\n",
    "ax = fig.add_subplot(1, 1, 1)\n",
    "\n",
    "# 달 모양 분포 데이터 plot\n",
    "moon_kmeans = KMeans(n_clusters=2)\n",
    "moon_kmeans.fit(moon_points)\n",
    "color_dict = {0: 'red', 1: 'blue'}\n",
    "for cluster in range(2):\n",
    "    cluster_sub_points = moon_points[moon_kmeans.labels_ == cluster]\n",
    "    ax.scatter(cluster_sub_points[:, 0], cluster_sub_points[:, 1], c=color_dict[cluster], label='cluster_{}'.format(cluster))\n",
    "ax.set_title('K-means on moon-shaped data, K=2')\n",
    "ax.set_xlabel('X')\n",
    "ax.set_ylabel('Y')\n",
    "ax.legend() \n",
    "ax.grid()"
   ]
  },
  {
   "cell_type": "code",
   "execution_count": 73,
   "id": "64418c55",
   "metadata": {},
   "outputs": [
    {
     "data": {
      "image/png": "[encoded data removed]",
      "text/plain": [
       "<Figure size 432x288 with 1 Axes>"
      ]
     },
     "metadata": {
      "needs_background": "light"
     },
     "output_type": "display_data"
    }
   ],
   "source": [
    "# K-means algorithm이 잘 동작하지 않는 예시 (3) 대각선 모양 분포\n",
    "from sklearn.datasets import make_circles, make_moons, make_blobs\n",
    "\n",
    "# 대각선 모양 분포의 데이터 생성\n",
    "diag_points, _ = make_blobs(n_samples=100, random_state=170) #대각선 분포를 가지는 점 데이터 100개를 생성합니다.(현재는 무작위 분포)\n",
    "transformation = [[0.6, -0.6], [-0.4, 0.8]] #대각선 변환을 위한 대각 행렬\n",
    "diag_points = np.dot(diag_points, transformation) #본 과정을 통해 무작위 분포의 점 데이터를 대각선 분포로 변환합니다.\n",
    "\n",
    "# 캔버스 생성\n",
    "fig = plt.figure()\n",
    "ax = fig.add_subplot(1, 1, 1)\n",
    "\n",
    "# 대각선 모양 분포 데이터 plot\n",
    "diag_kmeans = KMeans(n_clusters=3)\n",
    "diag_kmeans.fit(diag_points)\n",
    "color_dict = {0: 'red', 1: 'blue', 2: 'green'}\n",
    "for cluster in range(3):\n",
    "    cluster_sub_points = diag_points[diag_kmeans.labels_ == cluster]\n",
    "    ax.scatter(cluster_sub_points[:, 0], cluster_sub_points[:, 1], c=color_dict[cluster], label='cluster_{}'.format(cluster))\n",
    "ax.set_title('K-means on diagonal-shaped data, K=2')\n",
    "ax.set_xlabel('X')\n",
    "ax.set_ylabel('Y')\n",
    "ax.legend() \n",
    "ax.grid()"
   ]
  },
  {
   "cell_type": "markdown",
   "id": "f248f793",
   "metadata": {},
   "source": [
    "# DBSCAN"
   ]
  },
  {
   "cell_type": "markdown",
   "id": "fb353ec0",
   "metadata": {},
   "source": [
    "*  조밀하게 몰려 있는 클러스터를 군집화하는 방식을 사용하기 때문에 원 모양의 군집이 아닌 불특정한 형태의 군집도 찾을 수 있어요.\n",
    "\n",
    "[개념이해](https://www.naftaliharris.com/blog/visualizing-dbscan-clustering/)"
   ]
  },
  {
   "cell_type": "markdown",
   "id": "f945ffdf",
   "metadata": {},
   "source": [
    "* epsilon: 클러스터의 반경\n",
    "* minPts: 클러스터를 이루는 개체의 최솟값\n",
    "* core point: 반경 epsilon 내에 minPts 개 이상의 점이 존재하는 중심점\n",
    "* border point: 군집의 중심이 되지는 못하지만, 군집에 속하는 점\n",
    "* noise point: 군집에 포함되지 못하는 점  \n",
    "\n",
    "**K-means에서 K 값을 미리 지정해야 했다면, DBSCAN에서는 epsilon과 minPts 값이 미리 지정해 주어야 하는 변수라는 것을 기억합시다!**\n",
    "\n",
    "> DBSCAN 알고리즘의 순서\n",
    "> 1. 임의의 점 p를 설정하고, p를 포함하여 주어진 클러스터의 반경(elipson) 안에 포함되어 있는 점들의 개수를 세요.\n",
    "2. 만일 해당 원에 minPts 개 이상의 점이 포함되어 있으면, 해당 점 p를 core point로 간주하고 원에 포함된 점들을 하나의 클러스터로 묶어요.\n",
    "3. 해당 원에 minPts 개 미만의 점이 포함되어 있으면, 일단 pass 합시다.\n",
    "4. 모든 점에 대하여 돌아가면서 1~3 번의 과정을 반복하는데, 만일 새로운 점 p'가 core point가 되고 이 점이 기존의 클러스터(p를 core point로 하는)에 속한다면, 두 개의 클러스터는 연결되어 있다고 하며 하나의 클러스터로 묶어줘요.\n",
    "5. 모든 점에 대하여 클러스터링 과정을 끝냈는데, 어떤 점을 중심으로 하더라도 클러스터에 속하지 못하는 점이 있으면 이를 noise point로 간주해요. 또한, 특정 군집에는 속하지만 core point가 아닌 점들을 border point라고 칭해요."
   ]
  },
  {
   "cell_type": "code",
   "execution_count": 76,
   "id": "13bf58c0",
   "metadata": {},
   "outputs": [
    {
     "name": "stdout",
     "output_type": "stream",
     "text": [
      "# of cluster: 2\n",
      "DBSCAN Y-hat: [0 0 1 1 0 0 1 0 0 0 1 0 0 1 0 0 0 1 0 0 0 1 1 0 0 0 1 0 0 0 1 1 1 0 1 1 1\n",
      " 0 0 0 1 1 1 0 0 1 0 1 1 1 1 1 1 0 0 1 1 1 1 1 0 1 0 1 1 0 1 0 0 1 0 1 0 0\n",
      " 1 1 0 1 0 1 0 0 0 1 0 1 0 1 1 0 1 0 1 1 0 0 0 1 1 1]\n"
     ]
    },
    {
     "data": {
      "image/png": "[encoded data removed]",
      "text/plain": [
       "<Figure size 432x288 with 1 Axes>"
      ]
     },
     "metadata": {
      "needs_background": "light"
     },
     "output_type": "display_data"
    }
   ],
   "source": [
    "# DBSCAN으로 circle, moon, diagonal shaped data를 군집화한 결과\n",
    "from sklearn.cluster import DBSCAN\n",
    "\n",
    "fig = plt.figure()\n",
    "ax= fig.add_subplot(1, 1, 1)\n",
    "color_dict = {0: 'red', 1: 'blue', 2: 'green', 3:'brown',4:'purple'} # n 번째 클러스터 데이터를 어떤 색으로 도식할 지 결정하는 color dictionary\n",
    "\n",
    "# 원형 분포 데이터 plot\n",
    "epsilon, minPts = 0.2, 3 # 2)와 3) 과정에서 사용할 epsilon, minPts 값을 설정\n",
    "circle_dbscan = DBSCAN(eps=epsilon, min_samples=minPts) # 위에서 생성한 원형 분포 데이터에 DBSCAN setting\n",
    "circle_dbscan.fit(circle_points) # 3) ~ 5) 과정을 반복\n",
    "n_cluster = max(circle_dbscan.labels_)+1 # 3) ~5) 과정의 반복으로 클러스터의 수 도출\n",
    "\n",
    "print(f'# of cluster: {n_cluster}')\n",
    "print(f'DBSCAN Y-hat: {circle_dbscan.labels_}')\n",
    "\n",
    "# DBSCAN 알고리즘의 수행결과로 도출된 클러스터의 수를 기반으로 색깔별로 구분하여 점에 색칠한 후 도식\n",
    "for cluster in range(n_cluster):\n",
    "    cluster_sub_points = circle_points[circle_dbscan.labels_ == cluster]\n",
    "    ax.scatter(cluster_sub_points[:, 0], cluster_sub_points[:, 1], c=color_dict[cluster], label='cluster_{}'.format(cluster))\n",
    "ax.set_title('DBSCAN on circle data')\n",
    "ax.set_xlabel('X')\n",
    "ax.set_ylabel('Y')\n",
    "ax.legend()\n",
    "ax.grid()"
   ]
  },
  {
   "cell_type": "code",
   "execution_count": 77,
   "id": "12eb9e39",
   "metadata": {},
   "outputs": [
    {
     "name": "stdout",
     "output_type": "stream",
     "text": [
      "# of cluster: 2\n",
      "DBSCAN Y-hat: [0 0 1 1 0 0 0 1 1 1 0 0 0 1 1 1 0 0 0 0 0 0 1 1 0 0 1 1 1 1 1 0 0 1 0 1 0\n",
      " 1 0 1 0 1 0 0 0 0 0 1 0 0 1 1 0 1 1 0 0 1 0 0 1 1 1 1 1 1 1 0 0 0 0 1 1 1\n",
      " 1 0 1 1 1 1 1 1 1 1 0 0 0 0 1 0 1 0 0 1 0 0 1 1 0 0]\n"
     ]
    },
    {
     "data": {
      "image/png": "[encoded data removed]",
      "text/plain": [
       "<Figure size 432x288 with 1 Axes>"
      ]
     },
     "metadata": {
      "needs_background": "light"
     },
     "output_type": "display_data"
    }
   ],
   "source": [
    "# 달 모양 분포 데이터 plot - 위와 같은 과정 반복\n",
    "fig = plt.figure()\n",
    "ax= fig.add_subplot(1, 1, 1)\n",
    "color_dict = {0: 'red', 1: 'blue', 2: 'green', 3:'brown',4:'purple'} # n 번째 클러스터 데이터를 어떤 색으로 도식할 지 결정하는 color dictionary\n",
    "\n",
    "epsilon, minPts = 0.4, 3\n",
    "moon_dbscan = DBSCAN(eps=epsilon, min_samples=minPts)\n",
    "moon_dbscan.fit(moon_points)\n",
    "n_cluster = max(moon_dbscan.labels_)+1\n",
    "\n",
    "print(f'# of cluster: {n_cluster}')\n",
    "print(f'DBSCAN Y-hat: {moon_dbscan.labels_}')\n",
    "\n",
    "for cluster in range(n_cluster):\n",
    "    cluster_sub_points = moon_points[moon_dbscan.labels_ == cluster]\n",
    "    ax.scatter(cluster_sub_points[:, 0], cluster_sub_points[:, 1], c=color_dict[cluster], label='cluster_{}'.format(cluster))\n",
    "ax.set_title('DBSCAN on moon data')\n",
    "ax.set_xlabel('X')\n",
    "ax.set_ylabel('Y')\n",
    "ax.legend()\n",
    "ax.grid()"
   ]
  },
  {
   "cell_type": "code",
   "execution_count": 78,
   "id": "67322d88",
   "metadata": {},
   "outputs": [
    {
     "name": "stdout",
     "output_type": "stream",
     "text": [
      "# of cluster: 3\n",
      "DBSCAN Y-hat: [ 0  1  1  0  0  2  2  0  1  2  2  2  0  2  0  1  2  2  2  1  1  1  1  1\n",
      "  2  2  0  1  0  2  1  0  2  1  2  0  0  0  0  0  1  0  1  0  0  2  1  1\n",
      "  0  2  1  1  2  1  0  2 -1  2  0  0  2  0  0  1  0  1  1  2  2  2 -1  0\n",
      "  2  0  0  0  1  2  2 -1  2  2  1  2  0  0  2  1  1  2  1  1  2  0 -1  1\n",
      "  0  0  0  1]\n"
     ]
    },
    {
     "data": {
      "image/png": "[encoded data removed]",
      "text/plain": [
       "<Figure size 432x288 with 1 Axes>"
      ]
     },
     "metadata": {
      "needs_background": "light"
     },
     "output_type": "display_data"
    }
   ],
   "source": [
    "# 대각선 모양 분포 데이터 plot - 위와 같은 과정 반복\n",
    "fig = plt.figure()\n",
    "ax= fig.add_subplot(1, 1, 1)\n",
    "color_dict = {0: 'red', 1: 'blue', 2: 'green', 3:'brown',4:'purple'} # n 번째 클러스터 데이터를 어떤 색으로 도식할 지 결정하는 color dictionary\n",
    "\n",
    "epsilon, minPts = 0.7, 3\n",
    "diag_dbscan = DBSCAN(eps=epsilon, min_samples=minPts)\n",
    "diag_dbscan.fit(diag_points)\n",
    "n_cluster = max(diag_dbscan.labels_)+1\n",
    "\n",
    "print(f'# of cluster: {n_cluster}')\n",
    "print(f'DBSCAN Y-hat: {diag_dbscan.labels_}')\n",
    "\n",
    "for cluster in range(n_cluster):\n",
    "    cluster_sub_points = diag_points[diag_dbscan.labels_ == cluster]\n",
    "    ax.scatter(cluster_sub_points[:, 0], cluster_sub_points[:, 1], c=color_dict[cluster], label='cluster_{}'.format(cluster))\n",
    "ax.set_title('DBSCAN on diagonal shaped data')\n",
    "ax.set_xlabel('X')\n",
    "ax.set_ylabel('Y')\n",
    "ax.legend()\n",
    "ax.grid()"
   ]
  },
  {
   "cell_type": "code",
   "execution_count": 79,
   "id": "404f1008",
   "metadata": {},
   "outputs": [
    {
     "name": "stdout",
     "output_type": "stream",
     "text": [
      "# of samples: 100 / Elapsed time of K-means: 0.01637s / DBSCAN: 0.00169s\n",
      "# of samples: 500 / Elapsed time of K-means: 0.01801s / DBSCAN: 0.00380s\n",
      "# of samples: 1000 / Elapsed time of K-means: 0.01765s / DBSCAN: 0.00723s\n",
      "# of samples: 2000 / Elapsed time of K-means: 0.01931s / DBSCAN: 0.02314s\n",
      "# of samples: 5000 / Elapsed time of K-means: 0.21393s / DBSCAN: 0.15959s\n",
      "# of samples: 7500 / Elapsed time of K-means: 0.20199s / DBSCAN: 0.11315s\n",
      "# of samples: 10000 / Elapsed time of K-means: 0.21131s / DBSCAN: 0.28689s\n",
      "# of samples: 20000 / Elapsed time of K-means: 0.17452s / DBSCAN: 0.63554s\n",
      "# of samples: 30000 / Elapsed time of K-means: 0.55041s / DBSCAN: 1.17072s\n",
      "# of samples: 40000 / Elapsed time of K-means: 0.37712s / DBSCAN: 2.36825s\n",
      "# of samples: 50000 / Elapsed time of K-means: 0.47781s / DBSCAN: 4.36066s\n"
     ]
    },
    {
     "data": {
      "image/png": "[encoded data removed]",
      "text/plain": [
       "<Figure size 432x288 with 1 Axes>"
      ]
     },
     "metadata": {
      "needs_background": "light"
     },
     "output_type": "display_data"
    }
   ],
   "source": [
    "# DBSCAN 알고리즘과 K-means 알고리즘의 시간을 비교하는 코드 \n",
    "import time\n",
    "\n",
    "n_samples= [100, 500, 1000, 2000, 5000, 7500, 10000, 20000, 30000, 40000, 50000]\n",
    "\n",
    "kmeans_time = []\n",
    "dbscan_time = []\n",
    "x = []\n",
    "for n_sample in n_samples:\n",
    "    dummy_circle, dummy_labels = make_circles(n_samples=n_sample, factor=0.5, noise=0.01) # 원형의 분포를 가지는 데이터 생성\n",
    "\n",
    "    # K-means 시간을 측정\n",
    "    kmeans_start = time.time()\n",
    "    circle_kmeans = KMeans(n_clusters=2)\n",
    "    circle_kmeans.fit(dummy_circle)\n",
    "    kmeans_end = time.time()\n",
    "\n",
    "    # DBSCAN 시간을 측정\n",
    "    dbscan_start = time.time()\n",
    "    epsilon, minPts = 0.2, 3\n",
    "    circle_dbscan = DBSCAN(eps=epsilon, min_samples=minPts)\n",
    "    circle_dbscan.fit(dummy_circle)\n",
    "    dbscan_end = time.time()\n",
    "\n",
    "    x.append(n_sample)\n",
    "    kmeans_time.append(kmeans_end-kmeans_start)\n",
    "    dbscan_time.append(dbscan_end-dbscan_start)\n",
    "    print(\"# of samples: {} / Elapsed time of K-means: {:.5f}s / DBSCAN: {:.5f}s\".format(n_sample, kmeans_end-kmeans_start, dbscan_end-dbscan_start))\n",
    "\n",
    "# K-means와 DBSCAN의 소요 시간 그래프화\n",
    "fig = plt.figure()\n",
    "ax = fig.add_subplot(1, 1, 1)\n",
    "ax.scatter(x, kmeans_time, c='red', marker='x', label='K-means elapsed time')\n",
    "ax.scatter(x, dbscan_time, c='green', label='DBSCAN elapsed time')\n",
    "ax.set_xlabel('# of samples')\n",
    "ax.set_ylabel('time(s)')\n",
    "ax.legend()\n",
    "ax.grid()"
   ]
  },
  {
   "cell_type": "markdown",
   "id": "bb6cbc35",
   "metadata": {},
   "source": [
    "# 차원 축소(1) PCA"
   ]
  },
  {
   "cell_type": "code",
   "execution_count": 23,
   "id": "520b54ac",
   "metadata": {},
   "outputs": [
    {
     "name": "stdout",
     "output_type": "stream",
     "text": [
      "전체 검사자 수: 569\n",
      "Train dataset에 사용되는 검사자 수: 512\n",
      "Test dataset에 사용되는 검사자 수: 57\n"
     ]
    },
    {
     "data": {
      "text/html": [
       "<div>\n",
       "<style scoped>\n",
       "    .dataframe tbody tr th:only-of-type {\n",
       "        vertical-align: middle;\n",
       "    }\n",
       "\n",
       "    .dataframe tbody tr th {\n",
       "        vertical-align: top;\n",
       "    }\n",
       "\n",
       "    .dataframe thead th {\n",
       "        text-align: right;\n",
       "    }\n",
       "</style>\n",
       "<table border=\"1\" class=\"dataframe\">\n",
       "  <thead>\n",
       "    <tr style=\"text-align: right;\">\n",
       "      <th></th>\n",
       "      <th>mean radius</th>\n",
       "      <th>mean texture</th>\n",
       "      <th>mean perimeter</th>\n",
       "      <th>mean area</th>\n",
       "      <th>mean smoothness</th>\n",
       "      <th>mean compactness</th>\n",
       "      <th>mean concavity</th>\n",
       "      <th>mean concave points</th>\n",
       "      <th>mean symmetry</th>\n",
       "      <th>mean fractal dimension</th>\n",
       "      <th>...</th>\n",
       "      <th>worst radius</th>\n",
       "      <th>worst texture</th>\n",
       "      <th>worst perimeter</th>\n",
       "      <th>worst area</th>\n",
       "      <th>worst smoothness</th>\n",
       "      <th>worst compactness</th>\n",
       "      <th>worst concavity</th>\n",
       "      <th>worst concave points</th>\n",
       "      <th>worst symmetry</th>\n",
       "      <th>worst fractal dimension</th>\n",
       "    </tr>\n",
       "  </thead>\n",
       "  <tbody>\n",
       "    <tr>\n",
       "      <th>0</th>\n",
       "      <td>17.99</td>\n",
       "      <td>10.38</td>\n",
       "      <td>122.80</td>\n",
       "      <td>1001.0</td>\n",
       "      <td>0.11840</td>\n",
       "      <td>0.27760</td>\n",
       "      <td>0.3001</td>\n",
       "      <td>0.14710</td>\n",
       "      <td>0.2419</td>\n",
       "      <td>0.07871</td>\n",
       "      <td>...</td>\n",
       "      <td>25.38</td>\n",
       "      <td>17.33</td>\n",
       "      <td>184.60</td>\n",
       "      <td>2019.0</td>\n",
       "      <td>0.1622</td>\n",
       "      <td>0.6656</td>\n",
       "      <td>0.7119</td>\n",
       "      <td>0.2654</td>\n",
       "      <td>0.4601</td>\n",
       "      <td>0.11890</td>\n",
       "    </tr>\n",
       "    <tr>\n",
       "      <th>1</th>\n",
       "      <td>20.57</td>\n",
       "      <td>17.77</td>\n",
       "      <td>132.90</td>\n",
       "      <td>1326.0</td>\n",
       "      <td>0.08474</td>\n",
       "      <td>0.07864</td>\n",
       "      <td>0.0869</td>\n",
       "      <td>0.07017</td>\n",
       "      <td>0.1812</td>\n",
       "      <td>0.05667</td>\n",
       "      <td>...</td>\n",
       "      <td>24.99</td>\n",
       "      <td>23.41</td>\n",
       "      <td>158.80</td>\n",
       "      <td>1956.0</td>\n",
       "      <td>0.1238</td>\n",
       "      <td>0.1866</td>\n",
       "      <td>0.2416</td>\n",
       "      <td>0.1860</td>\n",
       "      <td>0.2750</td>\n",
       "      <td>0.08902</td>\n",
       "    </tr>\n",
       "    <tr>\n",
       "      <th>2</th>\n",
       "      <td>19.69</td>\n",
       "      <td>21.25</td>\n",
       "      <td>130.00</td>\n",
       "      <td>1203.0</td>\n",
       "      <td>0.10960</td>\n",
       "      <td>0.15990</td>\n",
       "      <td>0.1974</td>\n",
       "      <td>0.12790</td>\n",
       "      <td>0.2069</td>\n",
       "      <td>0.05999</td>\n",
       "      <td>...</td>\n",
       "      <td>23.57</td>\n",
       "      <td>25.53</td>\n",
       "      <td>152.50</td>\n",
       "      <td>1709.0</td>\n",
       "      <td>0.1444</td>\n",
       "      <td>0.4245</td>\n",
       "      <td>0.4504</td>\n",
       "      <td>0.2430</td>\n",
       "      <td>0.3613</td>\n",
       "      <td>0.08758</td>\n",
       "    </tr>\n",
       "    <tr>\n",
       "      <th>3</th>\n",
       "      <td>11.42</td>\n",
       "      <td>20.38</td>\n",
       "      <td>77.58</td>\n",
       "      <td>386.1</td>\n",
       "      <td>0.14250</td>\n",
       "      <td>0.28390</td>\n",
       "      <td>0.2414</td>\n",
       "      <td>0.10520</td>\n",
       "      <td>0.2597</td>\n",
       "      <td>0.09744</td>\n",
       "      <td>...</td>\n",
       "      <td>14.91</td>\n",
       "      <td>26.50</td>\n",
       "      <td>98.87</td>\n",
       "      <td>567.7</td>\n",
       "      <td>0.2098</td>\n",
       "      <td>0.8663</td>\n",
       "      <td>0.6869</td>\n",
       "      <td>0.2575</td>\n",
       "      <td>0.6638</td>\n",
       "      <td>0.17300</td>\n",
       "    </tr>\n",
       "    <tr>\n",
       "      <th>4</th>\n",
       "      <td>20.29</td>\n",
       "      <td>14.34</td>\n",
       "      <td>135.10</td>\n",
       "      <td>1297.0</td>\n",
       "      <td>0.10030</td>\n",
       "      <td>0.13280</td>\n",
       "      <td>0.1980</td>\n",
       "      <td>0.10430</td>\n",
       "      <td>0.1809</td>\n",
       "      <td>0.05883</td>\n",
       "      <td>...</td>\n",
       "      <td>22.54</td>\n",
       "      <td>16.67</td>\n",
       "      <td>152.20</td>\n",
       "      <td>1575.0</td>\n",
       "      <td>0.1374</td>\n",
       "      <td>0.2050</td>\n",
       "      <td>0.4000</td>\n",
       "      <td>0.1625</td>\n",
       "      <td>0.2364</td>\n",
       "      <td>0.07678</td>\n",
       "    </tr>\n",
       "  </tbody>\n",
       "</table>\n",
       "<p>5 rows × 30 columns</p>\n",
       "</div>"
      ],
      "text/plain": [
       "   mean radius  mean texture  mean perimeter  mean area  mean smoothness  \\\n",
       "0        17.99         10.38          122.80     1001.0          0.11840   \n",
       "1        20.57         17.77          132.90     1326.0          0.08474   \n",
       "2        19.69         21.25          130.00     1203.0          0.10960   \n",
       "3        11.42         20.38           77.58      386.1          0.14250   \n",
       "4        20.29         14.34          135.10     1297.0          0.10030   \n",
       "\n",
       "   mean compactness  mean concavity  mean concave points  mean symmetry  \\\n",
       "0           0.27760          0.3001              0.14710         0.2419   \n",
       "1           0.07864          0.0869              0.07017         0.1812   \n",
       "2           0.15990          0.1974              0.12790         0.2069   \n",
       "3           0.28390          0.2414              0.10520         0.2597   \n",
       "4           0.13280          0.1980              0.10430         0.1809   \n",
       "\n",
       "   mean fractal dimension  ...  worst radius  worst texture  worst perimeter  \\\n",
       "0                 0.07871  ...         25.38          17.33           184.60   \n",
       "1                 0.05667  ...         24.99          23.41           158.80   \n",
       "2                 0.05999  ...         23.57          25.53           152.50   \n",
       "3                 0.09744  ...         14.91          26.50            98.87   \n",
       "4                 0.05883  ...         22.54          16.67           152.20   \n",
       "\n",
       "   worst area  worst smoothness  worst compactness  worst concavity  \\\n",
       "0      2019.0            0.1622             0.6656           0.7119   \n",
       "1      1956.0            0.1238             0.1866           0.2416   \n",
       "2      1709.0            0.1444             0.4245           0.4504   \n",
       "3       567.7            0.2098             0.8663           0.6869   \n",
       "4      1575.0            0.1374             0.2050           0.4000   \n",
       "\n",
       "   worst concave points  worst symmetry  worst fractal dimension  \n",
       "0                0.2654          0.4601                  0.11890  \n",
       "1                0.1860          0.2750                  0.08902  \n",
       "2                0.2430          0.3613                  0.08758  \n",
       "3                0.2575          0.6638                  0.17300  \n",
       "4                0.1625          0.2364                  0.07678  \n",
       "\n",
       "[5 rows x 30 columns]"
      ]
     },
     "execution_count": 23,
     "metadata": {},
     "output_type": "execute_result"
    }
   ],
   "source": [
    "# 차원 축소 예제: 유방암 데이터셋\n",
    "import pandas as pd\n",
    "import numpy as np\n",
    "from sklearn.datasets import load_breast_cancer\n",
    "from sklearn.model_selection import train_test_split\n",
    "\n",
    "# 데이터 로드\n",
    "cancer=load_breast_cancer()\n",
    "\n",
    "# y=0(Malignant:악성 종양), y=1(Benign:양성 종양)\n",
    "cancer_X, cancer_y= cancer.data, cancer['target']\n",
    "train_X, test_X, train_y, test_y = train_test_split(cancer_X, cancer_y, test_size=0.1, random_state=10) # train 데이터셋과 test 데이터셋으로 나눔\n",
    "print(f\"전체 검사자 수: {len(cancer_X)}\")\n",
    "print(f\"Train dataset에 사용되는 검사자 수: {len(train_X)}\")\n",
    "print(f\"Test dataset에 사용되는 검사자 수: {len(test_X)}\")\n",
    "cancer_df = pd.DataFrame(cancer_X, columns=cancer['feature_names'])\n",
    "cancer_df.head()"
   ]
  },
  {
   "cell_type": "code",
   "execution_count": 28,
   "id": "21dbca87",
   "metadata": {},
   "outputs": [],
   "source": [
    "from sklearn.preprocessing import StandardScaler\n",
    "from sklearn.decomposition import PCA\n",
    "from sklearn import svm\n",
    "from sklearn.metrics import accuracy_score\n",
    "from collections import Counter\n",
    "\n",
    "# color dictionary\n",
    "color_dict = {0: 'red', 1: 'blue', 2:'red', 3:'blue'}\n",
    "target_dict = {0: 'malignant_train', 1: 'benign_train', 2: 'malignant_test', 3:'benign_test'}\n",
    "\n",
    "#Train data에 PCA 알고리즘 적용\n",
    "train_X_ = StandardScaler().fit_transform(train_X) # 불러온 데이터에 대한 정규화 -> 각 column의 range of value가 전부 다르기 때문에 정규화를 진행해 주어야 합니다.\n",
    "train_df = pd.DataFrame(train_X_, columns=cancer['feature_names'])\n",
    "pca = PCA(n_components=2) # 주성분의 수를 2개, 즉 기저가 되는 방향벡터를 2개로 하는 PCA 알고리즘 수행\n",
    "pc = pca.fit_transform(train_df)\n"
   ]
  },
  {
   "cell_type": "markdown",
   "id": "21b00a90",
   "metadata": {},
   "source": [
    "**!CAUTION: 원래 scaling과 pca 모두 test_X는 train에서 fit_transform한 것을 transform해야한다.**"
   ]
  },
  {
   "cell_type": "code",
   "execution_count": 29,
   "id": "320fe35c",
   "metadata": {},
   "outputs": [],
   "source": [
    "#Test data에 PCA 알고리즘 적용\n",
    "test_X_ = StandardScaler().fit_transform(test_X) # normalization\n",
    "test_df = pd.DataFrame(test_X_, columns=cancer['feature_names'])\n",
    "pca_test = PCA(n_components=2)\n",
    "pc_test = pca_test.fit_transform(test_df)"
   ]
  },
  {
   "cell_type": "code",
   "execution_count": 30,
   "id": "c63bc0da",
   "metadata": {},
   "outputs": [
    {
     "data": {
      "text/plain": [
       "SVC(C=0.8, gamma=0.5)"
      ]
     },
     "execution_count": 30,
     "metadata": {},
     "output_type": "execute_result"
    }
   ],
   "source": [
    "# 훈련한 classifier의 decision boundary를 그리는 함수\n",
    "def plot_decision_boundary(X, clf, ax): \n",
    "    h = .02  # step size in the mesh\n",
    "    # create a mesh to plot in\n",
    "    x_min, x_max = X[:, 0].min() - 1, X[:, 0].max() + 1\n",
    "    y_min, y_max = X[:, 1].min() - 1, X[:, 1].max() + 1\n",
    "    xx, yy = np.meshgrid(np.arange(x_min, x_max, h), np.arange(y_min, y_max, h))\n",
    "    Z = clf.predict(np.c_[xx.ravel(), yy.ravel()])\n",
    "    Z = Z.reshape(xx.shape)\n",
    "    ax.contour(xx, yy, Z, cmap='Blues')\n",
    "\n",
    "# PCA를 적용한 train data의 classifier 훈련: classfier로 Support Vector Machine(SVM) 사용\n",
    "clf = svm.SVC(kernel = 'rbf', gamma=0.5, C=0.8) # 여기서는 classifier로 SVM을 사용한다는 정도만 알아둡시다!\n",
    "clf.fit(pc, train_y) # train data로 classifier 훈련\n",
    "\n",
    "# PCA를 적용하지 않은 original data의 SVM 훈련\n",
    "clf_orig = svm.SVC(kernel = 'rbf', gamma=0.5, C=0.8) # 여기서는 classifier로 SVM을 사용한다는 정도만 알아둡시다!\n",
    "clf_orig.fit(train_df, train_y)"
   ]
  },
  {
   "cell_type": "code",
   "execution_count": 31,
   "id": "68b5762e",
   "metadata": {},
   "outputs": [
    {
     "name": "stdout",
     "output_type": "stream",
     "text": [
      "PCA 분석을 사용한 Test dataset accuracy: 54명/57명 => 0.947\n",
      "PCA를 적용하지 않은 Test dataset accuracy: 43명/57명 => 0.754\n"
     ]
    },
    {
     "data": {
      "image/png": "[encoded data removed]",
      "text/plain": [
       "<Figure size 432x288 with 1 Axes>"
      ]
     },
     "metadata": {
      "needs_background": "light"
     },
     "output_type": "display_data"
    }
   ],
   "source": [
    "# 캔버스 도식\n",
    "\n",
    "fig = plt.figure()\n",
    "ax = fig.add_subplot(1, 1, 1)\n",
    "\n",
    "# malignant와 benign의 SVM decision boundary 그리기\n",
    "plot_decision_boundary(pc, clf, ax)\n",
    "\n",
    "#Train data 도식\n",
    "for cluster in range(2):\n",
    "    sub_cancer_points = pc[train_y == cluster]\n",
    "    ax.scatter(sub_cancer_points[:, 0], sub_cancer_points[:, 1], edgecolor=color_dict[cluster], c='none', label=target_dict[cluster])\n",
    "#Test data 도식\n",
    "for cluster in range(2):\n",
    "    sub_cancer_points = pc_test[test_y == cluster]\n",
    "    ax.scatter(sub_cancer_points[:, 0], sub_cancer_points[:, 1], marker= 'x', c=color_dict[cluster+2], label=target_dict[cluster+2])\n",
    "ax.set_xlabel('PC1')\n",
    "ax.set_ylabel('PC2')\n",
    "ax.set_title('PCA-Breast cancer dataset')\n",
    "ax.legend()\n",
    "ax.grid()\n",
    "\n",
    "# Scoring\n",
    "pca_test_accuracy_dict = Counter(clf.predict(pc_test) == test_y)\n",
    "orig_test_accuracy_dict = Counter(clf_orig.predict(test_df) == test_y)\n",
    "\n",
    "print(\"PCA 분석을 사용한 Test dataset accuracy: {}명/{}명 => {:.3f}\".format(pca_test_accuracy_dict[True], sum(pca_test_accuracy_dict.values()), clf.score(pc_test, test_y)))\n",
    "print(\"PCA를 적용하지 않은 Test dataset accuracy: {}명/{}명 => {:.3f}\".format(orig_test_accuracy_dict[True], sum(orig_test_accuracy_dict.values()), clf_orig.score(test_df, test_y)))"
   ]
  },
  {
   "cell_type": "code",
   "execution_count": 32,
   "id": "fa65e9b4",
   "metadata": {},
   "outputs": [
    {
     "name": "stdout",
     "output_type": "stream",
     "text": [
      "PCA 분석을 사용한 Test dataset accuracy: 50명/57명 => 0.877\n",
      "PCA를 적용하지 않은 Test dataset accuracy: 43명/57명 => 0.754\n"
     ]
    }
   ],
   "source": [
    "# Q. 위 코드를 적절히 수정하여 PCA의 주성분을 10으로 만든 뒤 이 코드 블럭을 실행하여 성능을 비교해보세요.\n",
    "\n",
    "pca = PCA(n_components=10) # 주성분의 수를 2개, 즉 기저가 되는 방향벡터를 2개로 하는 PCA 알고리즘 수행\n",
    "pc = pca.fit_transform(train_df)\n",
    "pca_test = PCA(n_components=10)\n",
    "pc_test = pca_test.fit_transform(test_df)\n",
    "\n",
    "# PCA를 적용한 train data의 classifier 훈련: classfier로 Support Vector Machine(SVM) 사용\n",
    "clf = svm.SVC(kernel = 'rbf', gamma=0.5, C=0.8) # 여기서는 classifier로 SVM을 사용한다는 정도만 알아둡시다!\n",
    "clf.fit(pc, train_y) # train data로 classifier 훈련\n",
    "\n",
    "# PCA를 적용하지 않은 original data의 SVM 훈련\n",
    "clf_orig = svm.SVC(kernel = 'rbf', gamma=0.5, C=0.8) # 여기서는 classifier로 SVM을 사용한다는 정도만 알아둡시다!\n",
    "clf_orig.fit(train_df, train_y)\n",
    "\n",
    "# Scoring\n",
    "pca_test_accuracy_dict = Counter(clf.predict(pc_test) == test_y)\n",
    "orig_test_accuracy_dict = Counter(clf_orig.predict(test_df) == test_y)\n",
    "\n",
    "print(\"PCA 분석을 사용한 Test dataset accuracy: {}명/{}명 => {:.3f}\".format(pca_test_accuracy_dict[True], sum(pca_test_accuracy_dict.values()), clf.score(pc_test, test_y)))\n",
    "print(\"PCA를 적용하지 않은 Test dataset accuracy: {}명/{}명 => {:.3f}\".format(orig_test_accuracy_dict[True], sum(orig_test_accuracy_dict.values()), clf_orig.score(test_df, test_y)))"
   ]
  },
  {
   "cell_type": "markdown",
   "id": "58fa4227",
   "metadata": {},
   "source": [
    "# 차원 축소(2) T-SNE(T-Stochastic Neighbor Embedding)"
   ]
  },
  {
   "cell_type": "markdown",
   "id": "b1cb1fe3",
   "metadata": {},
   "source": [
    "* 차원축소를 하는 목적에 따라 데이터의 어떤 정보를 보존할 것이냐에 따라 적합한 알고리즘이 따로 있습니다.\n",
    "* 예를 들어, PCA는 주로 선형적인 데이터의 분포(키와 몸무게 등)를 가지고 있을 때, 정보가 가장 잘 보존됩니다.\n",
    "* 방사형적, 비선형적 데이터에서는 많은 정보량을 담기 위한 주성분(Principal Component)으로 잡을 선형적인 축을 찾기 어렵습니다.\n",
    "* T-SNE는 기존 차원의 공간에서 가까운 점들은, 차원축소된 공간에서도 여전히 가깝게 유지되는 것을 목표로 하고 있습니다.\n",
    "* PCA는 데이터가 가진 고유한 물리적 정보량을 보존하는데 주력하지만, T-SNE는 고유한 물리적 정보량보다는 데이터들 간의 상대적 거리를 보존하는데 주력합니다."
   ]
  },
  {
   "cell_type": "code",
   "execution_count": 1,
   "id": "7becc9de",
   "metadata": {},
   "outputs": [
    {
     "name": "stdout",
     "output_type": "stream",
     "text": [
      "ln: failed to create symbolic link '/aiffel/aiffel/unsupervised/data/mnist_784.arff': File exists\r\n"
     ]
    }
   ],
   "source": [
    "!mkdir -p ~/aiffel/unsupervised/data\n",
    "!ln -s ~/data/mnist_784.arff ~/aiffel/unsupervised/data"
   ]
  },
  {
   "cell_type": "code",
   "execution_count": null,
   "id": "664ea594",
   "metadata": {},
   "outputs": [],
   "source": [
    "from scipy.io import arff\n",
    "import pandas as pd\n",
    "import os\n",
    "\n",
    "# 784 pixel로 이뤄진 mnist 이미지 데이터 호출\n",
    "path = os.getenv('HOME')+'/aiffel/unsupervised/data/mnist_784.arff'\n",
    "mnist = arff.loadarff(path)"
   ]
  },
  {
   "cell_type": "code",
   "execution_count": 1,
   "id": "a87ac18a",
   "metadata": {},
   "outputs": [
    {
     "ename": "NameError",
     "evalue": "name 'pd' is not defined",
     "output_type": "error",
     "traceback": [
      "\u001b[0;31m---------------------------------------------------------------------------\u001b[0m",
      "\u001b[0;31mNameError\u001b[0m                                 Traceback (most recent call last)",
      "\u001b[0;32m/tmp/ipykernel_473/172087815.py\u001b[0m in \u001b[0;36m<module>\u001b[0;34m\u001b[0m\n\u001b[0;32m----> 1\u001b[0;31m \u001b[0mdf\u001b[0m \u001b[0;34m=\u001b[0m \u001b[0mpd\u001b[0m\u001b[0;34m.\u001b[0m\u001b[0mDataFrame\u001b[0m\u001b[0;34m(\u001b[0m\u001b[0mmnist\u001b[0m\u001b[0;34m[\u001b[0m\u001b[0;36m0\u001b[0m\u001b[0;34m]\u001b[0m\u001b[0;34m)\u001b[0m\u001b[0;34m\u001b[0m\u001b[0;34m\u001b[0m\u001b[0m\n\u001b[0m\u001b[1;32m      2\u001b[0m \u001b[0;34m\u001b[0m\u001b[0m\n\u001b[1;32m      3\u001b[0m \u001b[0mdf\u001b[0m\u001b[0;34m[\u001b[0m\u001b[0;34m'label'\u001b[0m\u001b[0;34m]\u001b[0m \u001b[0;34m=\u001b[0m \u001b[0mdf\u001b[0m\u001b[0;34m[\u001b[0m\u001b[0;34m'class'\u001b[0m\u001b[0;34m]\u001b[0m\u001b[0;34m.\u001b[0m\u001b[0mapply\u001b[0m\u001b[0;34m(\u001b[0m\u001b[0;32mlambda\u001b[0m \u001b[0mi\u001b[0m \u001b[0;34m:\u001b[0m \u001b[0mstr\u001b[0m\u001b[0;34m(\u001b[0m\u001b[0mi\u001b[0m\u001b[0;34m)\u001b[0m\u001b[0;34m[\u001b[0m\u001b[0;36m2\u001b[0m\u001b[0;34m]\u001b[0m\u001b[0;34m)\u001b[0m\u001b[0;34m\u001b[0m\u001b[0;34m\u001b[0m\u001b[0m\n\u001b[1;32m      4\u001b[0m \u001b[0;34m\u001b[0m\u001b[0m\n\u001b[1;32m      5\u001b[0m \u001b[0mn_image\u001b[0m \u001b[0;34m=\u001b[0m \u001b[0mmnist\u001b[0m\u001b[0;34m[\u001b[0m\u001b[0;36m0\u001b[0m\u001b[0;34m]\u001b[0m\u001b[0;34m.\u001b[0m\u001b[0mshape\u001b[0m\u001b[0;34m[\u001b[0m\u001b[0;36m0\u001b[0m\u001b[0;34m]\u001b[0m\u001b[0;34m\u001b[0m\u001b[0;34m\u001b[0m\u001b[0m\n",
      "\u001b[0;31mNameError\u001b[0m: name 'pd' is not defined"
     ]
    }
   ],
   "source": [
    "df = pd.DataFrame(mnist[0])\n",
    "\n",
    "df['label'] = df['class'].apply(lambda i : str(i)[2])\n",
    "\n",
    "n_image = mnist[0].shape[0]\n",
    "pixel_columns = list(df.columns[:-2])"
   ]
  },
  {
   "cell_type": "code",
   "execution_count": null,
   "id": "7f261a09",
   "metadata": {},
   "outputs": [],
   "source": [
    "import numpy as np\n",
    "\n",
    "# 결과가 재생산 가능하도록 랜덤 시드를 지정합니다.\n",
    "np.random.seed(30)\n",
    "\n",
    "# 이미지 데이터의 순서를 랜덤으로 뒤바꾼(permutation) 배열을 담습니다.\n",
    "rndperm = np.random.permutation(n_image)\n",
    "\n",
    "# 랜덤으로 섞은 이미지 중 10,000개를 뽑고, df_subset에 담습니다.\n",
    "n_image_sample = 10000\n",
    "random_idx = rndperm[:n_image_sample]\n",
    "df_subset = df.loc[random_idx,:].copy()\n",
    "df_subset.shape"
   ]
  },
  {
   "cell_type": "code",
   "execution_count": null,
   "id": "6ffadc99",
   "metadata": {},
   "outputs": [],
   "source": [
    "%matplotlib inline\n",
    "import seaborn as sns\n",
    "import matplotlib.pyplot as plt\n",
    "\n",
    "plt.gray()\n",
    "fig = plt.figure( figsize=(10,6) )\n",
    "n_img_sample = 15\n",
    "width,height = 28,28\n",
    "\n",
    "# 15개 샘플을 시각화해 봅니다. \n",
    "for i in range(0,n_img_sample):\n",
    "    row = df_subset.iloc[i]\n",
    "    ax = fig.add_subplot(3,5,i+1, title=f\"Digit: {row['label']}\")\n",
    "    ax.matshow(row[pixel_columns]\n",
    "               .values.reshape((width,height))\n",
    "               .astype(float))\n",
    "\n",
    "plt.show()"
   ]
  },
  {
   "cell_type": "markdown",
   "id": "502f9715",
   "metadata": {},
   "source": [
    "* PCA 를 이용한 MNIST 차원축소"
   ]
  },
  {
   "cell_type": "code",
   "execution_count": null,
   "id": "59793720",
   "metadata": {},
   "outputs": [],
   "source": [
    "from sklearn.decomposition import PCA\n",
    "\n",
    "print(f\"df_subset의 shape: {df_subset.shape}\")\n",
    "\n",
    "n_dimension = 2 # 축소시킬 목표 차원의 수\n",
    "pca = PCA(n_components=n_dimension)\n",
    "\n",
    "pca_result = pca.fit_transform(df_subset[pixel_columns].values) # 차원을 축소한 결과\n",
    "df_subset['pca-one'] = pca_result[:,0] # 축소한 결과의 첫 번째 차원 값\n",
    "df_subset['pca-two'] = pca_result[:,1] # 축소한 결과의 두 번째 차원 값\n",
    "\n",
    "print(f\"pca_result의 shape: {pca_result.shape}\")"
   ]
  },
  {
   "cell_type": "code",
   "execution_count": null,
   "id": "122345ce",
   "metadata": {},
   "outputs": [],
   "source": [
    "print(f\"pca-1: {round(pca.explained_variance_ratio_[0],3)*100}%\")\n",
    "print(f\"pca-2: {round(pca.explained_variance_ratio_[1],3)*100}%\")"
   ]
  },
  {
   "cell_type": "code",
   "execution_count": null,
   "id": "b36e38c2",
   "metadata": {},
   "outputs": [],
   "source": [
    "plt.figure(figsize=(10,6))\n",
    "sns.scatterplot(\n",
    "    x=\"pca-one\", y=\"pca-two\",\n",
    "    hue=\"label\",\n",
    "    palette=sns.color_palette(\"hls\", 10),\n",
    "    data=df_subset,   # 2개의 PC축만 남은 데이터프레임 df_subset 을 시각화해 보자.\n",
    "    legend=\"full\",\n",
    "    alpha=0.4\n",
    ")"
   ]
  },
  {
   "cell_type": "markdown",
   "id": "3bc5c6c7",
   "metadata": {},
   "source": [
    "* T-SNE 를 이용한 MNIST 차원축소"
   ]
  },
  {
   "cell_type": "code",
   "execution_count": null,
   "id": "ddc7ce31",
   "metadata": {},
   "outputs": [],
   "source": [
    "from sklearn.manifold import TSNE\n",
    "\n",
    "print(f\"df_subset의 shape: {df_subset.shape}\")\n",
    "\n",
    "data_subset = df_subset[pixel_columns].values\n",
    "n_dimension = 2\n",
    "tsne = TSNE(n_components=n_dimension)\n",
    "tsne_results = tsne.fit_transform(data_subset)\n",
    "\n",
    "print(f\"tsne_results의 shape: {tsne_results.shape}\")"
   ]
  },
  {
   "cell_type": "code",
   "execution_count": null,
   "id": "4a3c051b",
   "metadata": {},
   "outputs": [],
   "source": [
    "# tsne 결과를 차원별로 추가합니다.\n",
    "df_subset['tsne-2d-one'] = tsne_results[:,0]\n",
    "df_subset['tsne-2d-two'] = tsne_results[:,1]\n",
    "\n",
    "# 시각화해 봅니다.\n",
    "plt.figure(figsize=(10,6))\n",
    "sns.scatterplot(\n",
    "    x=\"tsne-2d-one\", y=\"tsne-2d-two\",\n",
    "    hue=\"label\",\n",
    "    palette=sns.color_palette(\"hls\", 10),\n",
    "    data=df_subset,\n",
    "    legend=\"full\",\n",
    "    alpha=0.3\n",
    ")"
   ]
  },
  {
   "cell_type": "code",
   "execution_count": null,
   "id": "a126c256",
   "metadata": {},
   "outputs": [],
   "source": []
  }
 ],
 "metadata": {
  "kernelspec": {
   "display_name": "Python 3 (ipykernel)",
   "language": "python",
   "name": "python3"
  },
  "language_info": {
   "codemirror_mode": {
    "name": "ipython",
    "version": 3
   },
   "file_extension": ".py",
   "mimetype": "text/x-python",
   "name": "python",
   "nbconvert_exporter": "python",
   "pygments_lexer": "ipython3",
   "version": "3.9.7"
  }
 },
 "nbformat": 4,
 "nbformat_minor": 5
}
