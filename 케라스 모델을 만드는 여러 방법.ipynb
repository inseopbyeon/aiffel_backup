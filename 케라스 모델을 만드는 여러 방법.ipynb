{
 "cells": [
  {
   "cell_type": "markdown",
   "id": "e94e4f7a",
   "metadata": {},
   "source": [
    "# 케라스에서 모델을 만드는 API는 세 가지\n",
    "* Sequential모델: 단순히 층을 쌓을 수만 있습니다.\n",
    "* 함수형 API: 그래프 같은 모델구조, 사용성과 유연성 사이의 적절한 중간지점에 해당\n",
    "* Model subclssing: 모든 것을 밑바닥부터 직접 만들 수 있는 저수준 방법, 상세한 내용을 완전히 제어하고 싶은 경우에 적합"
   ]
  },
  {
   "cell_type": "markdown",
   "id": "2584e479",
   "metadata": {},
   "source": [
    "## Sequential API"
   ]
  },
  {
   "cell_type": "code",
   "execution_count": 3,
   "id": "edf5313c",
   "metadata": {},
   "outputs": [],
   "source": [
    "from tensorflow import keras\n",
    "from tensorflow.keras import layers\n",
    "\n",
    "model = keras.Sequential([\n",
    "    layers.Dense(64,activation='relu'),\n",
    "    layers.Dense(10,activation='softmax')\n",
    "])  "
   ]
  },
  {
   "cell_type": "code",
   "execution_count": 5,
   "id": "32d141de",
   "metadata": {},
   "outputs": [],
   "source": [
    "# 위와 같다.\n",
    "model = keras.Sequential()\n",
    "model.add(layers.Dense(64,activation='relu'))\n",
    "model.add(layers.Dense(10,activation='softmax'))"
   ]
  },
  {
   "cell_type": "code",
   "execution_count": 6,
   "id": "bbf2e662",
   "metadata": {},
   "outputs": [
    {
     "ename": "ValueError",
     "evalue": "Weights for model sequential_1 have not yet been created. Weights are created when the Model is first called on inputs or `build()` is called with an `input_shape`.",
     "output_type": "error",
     "traceback": [
      "\u001b[0;31m---------------------------------------------------------------------------\u001b[0m",
      "\u001b[0;31mValueError\u001b[0m                                Traceback (most recent call last)",
      "\u001b[0;32m/tmp/ipykernel_31/2402420200.py\u001b[0m in \u001b[0;36m<module>\u001b[0;34m\u001b[0m\n\u001b[0;32m----> 1\u001b[0;31m \u001b[0mmodel\u001b[0m\u001b[0;34m.\u001b[0m\u001b[0mweights\u001b[0m\u001b[0;34m\u001b[0m\u001b[0;34m\u001b[0m\u001b[0m\n\u001b[0m",
      "\u001b[0;32m/opt/conda/lib/python3.9/site-packages/keras/engine/training.py\u001b[0m in \u001b[0;36mweights\u001b[0;34m(self)\u001b[0m\n\u001b[1;32m   2488\u001b[0m       \u001b[0mA\u001b[0m \u001b[0mlist\u001b[0m \u001b[0mof\u001b[0m \u001b[0mvariables\u001b[0m\u001b[0;34m.\u001b[0m\u001b[0;34m\u001b[0m\u001b[0;34m\u001b[0m\u001b[0m\n\u001b[1;32m   2489\u001b[0m     \"\"\"\n\u001b[0;32m-> 2490\u001b[0;31m     \u001b[0;32mreturn\u001b[0m \u001b[0mself\u001b[0m\u001b[0;34m.\u001b[0m\u001b[0m_dedup_weights\u001b[0m\u001b[0;34m(\u001b[0m\u001b[0mself\u001b[0m\u001b[0;34m.\u001b[0m\u001b[0m_undeduplicated_weights\u001b[0m\u001b[0;34m)\u001b[0m\u001b[0;34m\u001b[0m\u001b[0;34m\u001b[0m\u001b[0m\n\u001b[0m\u001b[1;32m   2491\u001b[0m \u001b[0;34m\u001b[0m\u001b[0m\n\u001b[1;32m   2492\u001b[0m   \u001b[0;34m@\u001b[0m\u001b[0mproperty\u001b[0m\u001b[0;34m\u001b[0m\u001b[0;34m\u001b[0m\u001b[0m\n",
      "\u001b[0;32m/opt/conda/lib/python3.9/site-packages/keras/engine/training.py\u001b[0m in \u001b[0;36m_undeduplicated_weights\u001b[0;34m(self)\u001b[0m\n\u001b[1;32m   2493\u001b[0m   \u001b[0;32mdef\u001b[0m \u001b[0m_undeduplicated_weights\u001b[0m\u001b[0;34m(\u001b[0m\u001b[0mself\u001b[0m\u001b[0;34m)\u001b[0m\u001b[0;34m:\u001b[0m\u001b[0;34m\u001b[0m\u001b[0;34m\u001b[0m\u001b[0m\n\u001b[1;32m   2494\u001b[0m     \u001b[0;34m\"\"\"Returns the undeduplicated list of all layer variables/weights.\"\"\"\u001b[0m\u001b[0;34m\u001b[0m\u001b[0;34m\u001b[0m\u001b[0m\n\u001b[0;32m-> 2495\u001b[0;31m     \u001b[0mself\u001b[0m\u001b[0;34m.\u001b[0m\u001b[0m_assert_weights_created\u001b[0m\u001b[0;34m(\u001b[0m\u001b[0;34m)\u001b[0m\u001b[0;34m\u001b[0m\u001b[0;34m\u001b[0m\u001b[0m\n\u001b[0m\u001b[1;32m   2496\u001b[0m     \u001b[0mweights\u001b[0m \u001b[0;34m=\u001b[0m \u001b[0;34m[\u001b[0m\u001b[0;34m]\u001b[0m\u001b[0;34m\u001b[0m\u001b[0;34m\u001b[0m\u001b[0m\n\u001b[1;32m   2497\u001b[0m     \u001b[0;32mfor\u001b[0m \u001b[0mlayer\u001b[0m \u001b[0;32min\u001b[0m \u001b[0mself\u001b[0m\u001b[0;34m.\u001b[0m\u001b[0m_self_tracked_trackables\u001b[0m\u001b[0;34m:\u001b[0m\u001b[0;34m\u001b[0m\u001b[0;34m\u001b[0m\u001b[0m\n",
      "\u001b[0;32m/opt/conda/lib/python3.9/site-packages/keras/engine/sequential.py\u001b[0m in \u001b[0;36m_assert_weights_created\u001b[0;34m(self)\u001b[0m\n\u001b[1;32m    465\u001b[0m     \u001b[0;31m# When the graph has not been initialized, use the Model's implementation to\u001b[0m\u001b[0;34m\u001b[0m\u001b[0;34m\u001b[0m\u001b[0m\n\u001b[1;32m    466\u001b[0m     \u001b[0;31m# to check if the weights has been created.\u001b[0m\u001b[0;34m\u001b[0m\u001b[0;34m\u001b[0m\u001b[0m\n\u001b[0;32m--> 467\u001b[0;31m     \u001b[0msuper\u001b[0m\u001b[0;34m(\u001b[0m\u001b[0mfunctional\u001b[0m\u001b[0;34m.\u001b[0m\u001b[0mFunctional\u001b[0m\u001b[0;34m,\u001b[0m \u001b[0mself\u001b[0m\u001b[0;34m)\u001b[0m\u001b[0;34m.\u001b[0m\u001b[0m_assert_weights_created\u001b[0m\u001b[0;34m(\u001b[0m\u001b[0;34m)\u001b[0m  \u001b[0;31m# pylint: disable=bad-super-call\u001b[0m\u001b[0;34m\u001b[0m\u001b[0;34m\u001b[0m\u001b[0m\n\u001b[0m\u001b[1;32m    468\u001b[0m \u001b[0;34m\u001b[0m\u001b[0m\n\u001b[1;32m    469\u001b[0m \u001b[0;34m\u001b[0m\u001b[0m\n",
      "\u001b[0;32m/opt/conda/lib/python3.9/site-packages/keras/engine/training.py\u001b[0m in \u001b[0;36m_assert_weights_created\u001b[0;34m(self)\u001b[0m\n\u001b[1;32m   2669\u001b[0m       \u001b[0;31m# been invoked yet, this will cover both sequential and subclass model.\u001b[0m\u001b[0;34m\u001b[0m\u001b[0;34m\u001b[0m\u001b[0m\n\u001b[1;32m   2670\u001b[0m       \u001b[0;31m# Also make sure to exclude Model class itself which has build() defined.\u001b[0m\u001b[0;34m\u001b[0m\u001b[0;34m\u001b[0m\u001b[0m\n\u001b[0;32m-> 2671\u001b[0;31m       raise ValueError('Weights for model %s have not yet been created. '\n\u001b[0m\u001b[1;32m   2672\u001b[0m                        \u001b[0;34m'Weights are created when the Model is first called on '\u001b[0m\u001b[0;34m\u001b[0m\u001b[0;34m\u001b[0m\u001b[0m\n\u001b[1;32m   2673\u001b[0m                        \u001b[0;34m'inputs or `build()` is called with an `input_shape`.'\u001b[0m \u001b[0;34m%\u001b[0m\u001b[0;34m\u001b[0m\u001b[0;34m\u001b[0m\u001b[0m\n",
      "\u001b[0;31mValueError\u001b[0m: Weights for model sequential_1 have not yet been created. Weights are created when the Model is first called on inputs or `build()` is called with an `input_shape`."
     ]
    }
   ],
   "source": [
    "model.weights"
   ]
  },
  {
   "cell_type": "code",
   "execution_count": 8,
   "id": "f3250a9c",
   "metadata": {},
   "outputs": [
    {
     "data": {
      "text/plain": [
       "[<tf.Variable 'dense_2/kernel:0' shape=(3, 64) dtype=float32, numpy=\n",
       " array([[-0.2529608 ,  0.25905037, -0.2986754 ,  0.03286684, -0.07407896,\n",
       "         -0.01050818,  0.27185637,  0.09328178, -0.2798804 ,  0.13479897,\n",
       "          0.02834463,  0.14330238, -0.02099669,  0.20221823, -0.06275883,\n",
       "         -0.01592839,  0.1330457 , -0.27652657, -0.23763332,  0.2769478 ,\n",
       "          0.273601  , -0.22983631, -0.20307462,  0.17600185, -0.03933242,\n",
       "         -0.14033782, -0.08673514,  0.21838933, -0.26416308, -0.01474103,\n",
       "          0.26678532, -0.04544476,  0.16788891,  0.00604305,  0.23135126,\n",
       "          0.19127733, -0.11116986,  0.09517092, -0.08916181, -0.07347544,\n",
       "          0.22755527,  0.1551798 ,  0.14357242,  0.19502792, -0.10841277,\n",
       "          0.29816055,  0.1948193 ,  0.16767344, -0.274452  ,  0.20953828,\n",
       "         -0.0593881 ,  0.27339727,  0.23970693,  0.28400123, -0.2449836 ,\n",
       "         -0.12367371,  0.08600026, -0.14728329, -0.14819789,  0.03938201,\n",
       "         -0.23094328,  0.22955644, -0.17005125,  0.23133802],\n",
       "        [-0.08933726, -0.01136243,  0.27747303, -0.0911193 , -0.13168217,\n",
       "          0.1691786 , -0.25790718, -0.04148847,  0.26015258,  0.07009777,\n",
       "          0.02853554,  0.14615342, -0.21567294, -0.03001401,  0.14280966,\n",
       "         -0.2943745 ,  0.04655328, -0.13048889,  0.00974265,  0.11464247,\n",
       "         -0.23183163,  0.2393924 , -0.16068447,  0.1844132 , -0.08043346,\n",
       "          0.22922105, -0.06224385,  0.1248349 , -0.16285351,  0.16494027,\n",
       "          0.04316756, -0.1116979 , -0.18007806,  0.23813182,  0.1750505 ,\n",
       "         -0.00942227,  0.02028635, -0.26983696,  0.02193034, -0.2372882 ,\n",
       "         -0.0114584 , -0.10095468, -0.02176189, -0.27824134,  0.02709982,\n",
       "          0.27484894, -0.10950154,  0.22514349, -0.27482924, -0.27743098,\n",
       "         -0.13843699,  0.21037263, -0.02261293, -0.08861223,  0.18169901,\n",
       "          0.25432092,  0.284895  , -0.10990515,  0.22828043,  0.10794231,\n",
       "         -0.02457505,  0.07545888, -0.10058881, -0.2826873 ],\n",
       "        [-0.27125537, -0.2538323 , -0.2349662 , -0.01964217, -0.26260912,\n",
       "         -0.18282422,  0.26553154,  0.07624215, -0.2592517 ,  0.28257233,\n",
       "         -0.06620078,  0.02545926, -0.28746164, -0.14363657, -0.22133413,\n",
       "         -0.20888586, -0.29648617, -0.22144386,  0.28767997,  0.17880136,\n",
       "          0.0855183 ,  0.12310913, -0.14736384,  0.15796727, -0.2674925 ,\n",
       "          0.26127672, -0.0512296 , -0.24910991, -0.27653757, -0.12446538,\n",
       "         -0.04703665, -0.2912464 , -0.00626108, -0.11056119,  0.2437458 ,\n",
       "         -0.16528837, -0.0305706 , -0.29449657, -0.15583107, -0.007664  ,\n",
       "         -0.08361804, -0.22459978,  0.13083363,  0.15048409,  0.13574347,\n",
       "         -0.21066827,  0.18610519,  0.25786525,  0.26799023,  0.20038524,\n",
       "         -0.28457713,  0.02644956,  0.11602598, -0.18865517, -0.05006863,\n",
       "          0.10428032, -0.26362547,  0.07873809, -0.03894335,  0.20633864,\n",
       "          0.21702981, -0.23291989, -0.25548995,  0.29440826]],\n",
       "       dtype=float32)>,\n",
       " <tf.Variable 'dense_2/bias:0' shape=(64,) dtype=float32, numpy=\n",
       " array([0., 0., 0., 0., 0., 0., 0., 0., 0., 0., 0., 0., 0., 0., 0., 0., 0.,\n",
       "        0., 0., 0., 0., 0., 0., 0., 0., 0., 0., 0., 0., 0., 0., 0., 0., 0.,\n",
       "        0., 0., 0., 0., 0., 0., 0., 0., 0., 0., 0., 0., 0., 0., 0., 0., 0.,\n",
       "        0., 0., 0., 0., 0., 0., 0., 0., 0., 0., 0., 0., 0.], dtype=float32)>,\n",
       " <tf.Variable 'dense_3/kernel:0' shape=(64, 10) dtype=float32, numpy=\n",
       " array([[ 1.03611052e-02,  2.07397044e-01,  1.67204797e-01,\n",
       "         -2.00275749e-01, -2.19003201e-01,  2.02803105e-01,\n",
       "         -2.14195788e-01, -6.44832104e-02,  2.52212435e-01,\n",
       "          2.07123846e-01],\n",
       "        [ 1.31139606e-01,  1.09419674e-01,  4.62104678e-02,\n",
       "         -1.94405586e-01,  2.40207344e-01,  2.63810486e-01,\n",
       "         -3.94131392e-02,  3.86208296e-03,  5.52439094e-02,\n",
       "         -1.63774431e-01],\n",
       "        [ 2.12182194e-01,  1.89502686e-01,  2.64954239e-01,\n",
       "         -2.37308472e-01,  4.24382687e-02, -1.33314729e-03,\n",
       "          1.52735591e-01,  1.64087325e-01,  1.69161171e-01,\n",
       "         -1.14476651e-01],\n",
       "        [ 2.39186138e-01,  3.94506156e-02,  7.89560080e-02,\n",
       "          1.96270347e-01, -6.26949370e-02,  9.68644619e-02,\n",
       "         -3.71238440e-02,  1.48004889e-01,  2.20553249e-01,\n",
       "         -1.31702483e-01],\n",
       "        [ 1.25961304e-02,  2.27237552e-01,  1.58132583e-01,\n",
       "         -1.54671803e-01,  2.72536188e-01, -2.27513105e-01,\n",
       "          2.81155854e-01,  1.67504042e-01,  3.57639790e-03,\n",
       "          2.50423580e-01],\n",
       "        [-6.45341277e-02,  1.13496870e-01, -2.15926886e-01,\n",
       "         -1.66326463e-01,  2.27833658e-01,  1.87531739e-01,\n",
       "          1.97552919e-01,  1.90130681e-01, -2.79828966e-01,\n",
       "          2.77231663e-01],\n",
       "        [-2.45651916e-01,  5.40301800e-02,  2.20421940e-01,\n",
       "         -8.24786276e-02,  1.18441522e-01,  1.62443131e-01,\n",
       "         -1.58858255e-01,  2.76665181e-01, -7.15336949e-02,\n",
       "         -3.90465409e-02],\n",
       "        [-1.46903530e-01, -1.55919880e-01,  2.40889579e-01,\n",
       "         -1.71884939e-01, -1.39206260e-01,  5.53325713e-02,\n",
       "          1.09341532e-01, -1.68430954e-01,  1.37448013e-01,\n",
       "         -1.17454410e-01],\n",
       "        [ 2.27264851e-01, -1.16127178e-01,  3.22479904e-02,\n",
       "         -1.42077222e-01, -8.04364681e-05, -5.57936877e-02,\n",
       "          5.27611375e-02, -1.10632032e-01,  1.76062554e-01,\n",
       "         -1.39018685e-01],\n",
       "        [ 7.49544203e-02,  3.14140320e-02, -8.47801417e-02,\n",
       "         -1.80295378e-01,  1.12907857e-01, -1.80779755e-01,\n",
       "          1.26485288e-01,  7.97321796e-02, -1.56557962e-01,\n",
       "         -1.20626688e-02],\n",
       "        [-2.00727612e-01, -2.23976970e-01, -4.97816950e-02,\n",
       "          1.82732791e-01, -2.41362482e-01, -9.21778083e-02,\n",
       "          2.44725317e-01, -2.57580638e-01, -1.89979076e-01,\n",
       "         -2.95472145e-03],\n",
       "        [-2.01148659e-01, -1.35158896e-02, -5.02756536e-02,\n",
       "         -2.15403795e-01, -2.07336396e-01,  2.24126786e-01,\n",
       "         -8.35549533e-02,  2.24116713e-01,  1.55810714e-01,\n",
       "         -5.15900552e-02],\n",
       "        [-1.54236630e-01, -1.32860065e-01,  1.45091832e-01,\n",
       "         -6.43088669e-02,  2.06467420e-01,  6.80894852e-02,\n",
       "          2.76106328e-01,  1.92104876e-01, -1.76401734e-01,\n",
       "         -2.03709781e-01],\n",
       "        [ 2.38772362e-01,  2.26513237e-01, -1.66369423e-01,\n",
       "          5.65923154e-02,  1.76721632e-01,  2.19383210e-01,\n",
       "         -2.57880509e-01,  1.76855564e-01, -2.48959541e-01,\n",
       "         -1.93436190e-01],\n",
       "        [-2.08570361e-01,  3.46891284e-02, -2.83536196e-01,\n",
       "         -1.19929567e-01,  2.77903229e-01,  8.79465640e-02,\n",
       "         -9.69952196e-02, -7.69311190e-03, -2.79509217e-01,\n",
       "          1.17358208e-01],\n",
       "        [-1.44554079e-02,  1.69051439e-01,  2.24976391e-01,\n",
       "          2.62324810e-02,  1.87575042e-01,  2.61711210e-01,\n",
       "          1.23608470e-01, -2.05963850e-02,  1.76644444e-01,\n",
       "          2.00012326e-01],\n",
       "        [-2.47864068e-01,  2.12421358e-01,  6.74338639e-02,\n",
       "          2.22516626e-01, -2.60972917e-01,  6.98347688e-02,\n",
       "         -1.48424789e-01, -1.14245117e-02,  1.01852149e-01,\n",
       "          3.05242240e-02],\n",
       "        [-2.11376071e-01,  2.55721599e-01,  2.32370824e-01,\n",
       "         -9.01423544e-02,  2.31296092e-01, -3.25760245e-02,\n",
       "         -1.45864218e-01,  1.05489552e-01, -1.71137810e-01,\n",
       "          1.84015900e-01],\n",
       "        [-6.16335720e-02,  1.43049657e-01, -6.27741069e-02,\n",
       "          2.66422898e-01, -6.56163394e-02, -2.78461814e-01,\n",
       "         -1.47390634e-01, -3.43842506e-02, -1.02382824e-01,\n",
       "          8.45330954e-02],\n",
       "        [-1.25364155e-01,  1.16564453e-01, -6.00236505e-02,\n",
       "          7.27470815e-02,  2.12756604e-01, -1.67130530e-01,\n",
       "          2.50667840e-01, -2.73867637e-01,  6.84075356e-02,\n",
       "          1.88201368e-02],\n",
       "        [ 1.63280755e-01, -1.84663504e-01,  2.69595951e-01,\n",
       "         -2.80770928e-01,  2.55967170e-01, -2.40255207e-01,\n",
       "         -2.49988943e-01, -2.60320008e-02,  2.08538800e-01,\n",
       "          1.27849787e-01],\n",
       "        [ 1.69105828e-01, -1.45563126e-01, -7.70303607e-03,\n",
       "          2.83727676e-01, -1.15919158e-01,  1.26751333e-01,\n",
       "          2.53456503e-01,  1.96562558e-01,  2.50046283e-01,\n",
       "         -1.12671554e-01],\n",
       "        [-2.74866343e-01,  2.28591770e-01, -9.26387757e-02,\n",
       "          7.00176060e-02,  2.66028911e-01,  2.45703667e-01,\n",
       "         -2.48912215e-01, -1.77987903e-01,  8.34842026e-02,\n",
       "         -2.38236114e-01],\n",
       "        [ 3.43922079e-02, -1.29593313e-02,  1.83217734e-01,\n",
       "          2.22837895e-01,  2.36355931e-01, -2.42248908e-01,\n",
       "         -2.13573307e-01, -2.67312199e-01, -2.23214298e-01,\n",
       "          2.30479240e-02],\n",
       "        [ 2.17199415e-01, -6.04598969e-02, -2.82636315e-01,\n",
       "          9.42348540e-02, -1.89249337e-01,  1.87184155e-01,\n",
       "          1.02688253e-01,  2.13800043e-01,  4.13221717e-02,\n",
       "         -1.06495887e-01],\n",
       "        [-5.70081472e-02,  1.87230051e-01,  1.04230076e-01,\n",
       "         -1.86830580e-01, -2.77188897e-01,  1.50715560e-01,\n",
       "          1.66877359e-01,  2.38877624e-01,  1.92401707e-02,\n",
       "          1.49547666e-01],\n",
       "        [ 2.14214385e-01,  4.96412218e-02, -4.77693975e-02,\n",
       "         -3.49050760e-03, -1.99835956e-01, -1.56183153e-01,\n",
       "          2.16870308e-02,  1.40422374e-01,  2.44187146e-01,\n",
       "         -2.76391059e-01],\n",
       "        [-3.16178799e-03,  1.82369918e-01,  2.29362756e-01,\n",
       "         -7.66706467e-03, -1.28991872e-01,  2.82593936e-01,\n",
       "          1.23633057e-01,  6.84720278e-02, -2.52897084e-01,\n",
       "         -1.58515811e-01],\n",
       "        [-8.49912018e-02, -2.66869694e-01, -1.20150894e-01,\n",
       "          2.06753254e-01, -4.51278389e-02, -2.11959243e-01,\n",
       "         -8.90067816e-02,  1.70025647e-01,  9.99157429e-02,\n",
       "         -2.67441571e-01],\n",
       "        [ 2.14114994e-01, -1.97539747e-01,  2.79254705e-01,\n",
       "          9.11299288e-02, -9.48507339e-02,  1.81400061e-01,\n",
       "          1.22812212e-01,  1.68454647e-02, -8.08336884e-02,\n",
       "          2.53772944e-01],\n",
       "        [ 1.01328224e-01,  4.55572307e-02,  2.52991915e-02,\n",
       "         -4.16669101e-02, -2.00092196e-02, -1.35386005e-01,\n",
       "         -1.86336890e-01, -1.07104242e-01,  1.21935010e-01,\n",
       "          2.48552173e-01],\n",
       "        [-1.10686466e-01,  3.80776227e-02,  1.62402064e-01,\n",
       "         -1.80012763e-01, -1.28742650e-01,  1.70931846e-01,\n",
       "         -1.60952806e-02,  5.80361784e-02,  9.63807106e-03,\n",
       "          1.28232211e-01],\n",
       "        [-1.03726819e-01,  1.00669563e-01, -2.55909413e-01,\n",
       "          3.68257463e-02,  5.02461195e-02, -1.67230368e-02,\n",
       "          5.50201535e-03,  2.09833562e-01,  1.38184398e-01,\n",
       "          2.04835981e-01],\n",
       "        [-1.05541646e-02,  1.59287512e-01, -4.33023572e-02,\n",
       "          1.04509592e-01,  8.19049776e-02,  3.18711996e-03,\n",
       "         -1.97911978e-01, -8.04286599e-02, -1.48348138e-01,\n",
       "          1.97057933e-01],\n",
       "        [-2.75850296e-02, -1.73453033e-01,  2.76606232e-01,\n",
       "          5.55369854e-02,  2.33984977e-01, -6.43093437e-02,\n",
       "          2.32627004e-01, -3.90152335e-02,  1.28305465e-01,\n",
       "         -1.65085196e-02],\n",
       "        [-6.50351495e-02, -1.14393890e-01,  2.75162905e-01,\n",
       "          1.10136360e-01, -2.57907450e-01,  1.19849801e-01,\n",
       "          2.33925253e-01, -1.69110388e-01, -5.96460700e-03,\n",
       "         -2.26029396e-01],\n",
       "        [ 2.76133806e-01,  1.50722086e-01, -2.82091171e-01,\n",
       "          1.04700476e-01, -1.88865632e-01,  1.02712810e-02,\n",
       "          1.30827725e-02,  8.98112655e-02, -1.40523583e-01,\n",
       "          2.34673828e-01],\n",
       "        [ 1.73487872e-01, -1.81862459e-01, -7.79437721e-02,\n",
       "          1.94688529e-01,  1.83362663e-01,  2.14957356e-01,\n",
       "          2.08201259e-01, -1.12044811e-02, -6.45430833e-02,\n",
       "          1.22517943e-02],\n",
       "        [-6.26990199e-02, -1.21271610e-03,  5.09277880e-02,\n",
       "          1.36299521e-01, -1.74344212e-01,  9.59042311e-02,\n",
       "          1.02190554e-01,  1.99441999e-01,  8.64031017e-02,\n",
       "          7.02230930e-02],\n",
       "        [ 1.67036444e-01,  4.09153104e-02,  2.47741848e-01,\n",
       "          4.50216532e-02, -1.43768340e-01, -8.99144560e-02,\n",
       "         -1.10239089e-02, -1.45746768e-01,  6.70608282e-02,\n",
       "          1.76319033e-01],\n",
       "        [-1.70017183e-01,  1.30012602e-01,  2.37050325e-01,\n",
       "          6.07775450e-02, -7.25906640e-02, -2.20684558e-01,\n",
       "         -1.07767850e-01, -1.49842799e-02,  4.53780591e-02,\n",
       "         -1.46213174e-03],\n",
       "        [-1.64647624e-01,  1.12922996e-01, -8.94466043e-03,\n",
       "          2.83637136e-01, -1.85309380e-01, -6.89031929e-02,\n",
       "          1.37667775e-01,  1.92294896e-01,  2.45999485e-01,\n",
       "          2.47134566e-02],\n",
       "        [-1.30417079e-01,  2.84060568e-01,  7.78213143e-03,\n",
       "         -2.72581071e-01, -1.40022561e-01,  4.04483080e-02,\n",
       "          1.67443365e-01, -2.56951153e-01, -1.86184138e-01,\n",
       "          4.76167202e-02],\n",
       "        [ 1.28901660e-01, -5.13743758e-02,  1.25636190e-01,\n",
       "         -7.85910338e-02, -1.35267481e-01, -2.62757659e-01,\n",
       "          2.37417519e-02, -1.84600979e-01,  7.92455673e-03,\n",
       "         -2.44926110e-01],\n",
       "        [ 6.00897670e-02, -7.44132102e-02, -3.73098701e-02,\n",
       "         -7.02674240e-02,  2.63718575e-01,  1.91411048e-01,\n",
       "         -1.53842807e-01,  2.46268362e-01,  2.49849647e-01,\n",
       "          1.80521518e-01],\n",
       "        [ 7.48677254e-02,  1.45925164e-01,  1.32103771e-01,\n",
       "         -5.30866086e-02, -1.39648020e-01,  2.02045798e-01,\n",
       "          1.95945770e-01, -1.87123120e-01,  2.56757110e-01,\n",
       "          7.52039254e-02],\n",
       "        [-1.13229454e-02,  2.24238932e-02, -2.03772977e-01,\n",
       "         -2.52458543e-01,  1.87206268e-01,  1.37389898e-02,\n",
       "         -2.78123856e-01, -1.81313708e-01,  2.52049297e-01,\n",
       "         -2.25963205e-01],\n",
       "        [ 1.78331822e-01,  6.47008717e-02, -1.05302602e-01,\n",
       "         -1.70904696e-01, -2.63828993e-01, -2.72396863e-01,\n",
       "         -9.19249952e-02,  1.91843301e-01,  6.73308969e-03,\n",
       "          2.46034861e-02],\n",
       "        [-2.05903947e-01,  1.81001633e-01, -1.72651738e-01,\n",
       "          5.20187616e-03,  4.75804508e-02,  1.01036996e-01,\n",
       "         -1.80270463e-01,  2.83211738e-01,  5.46363890e-02,\n",
       "         -1.90703586e-01],\n",
       "        [ 5.83461821e-02, -2.29992211e-01, -2.49056280e-01,\n",
       "         -2.54581630e-01, -1.67765558e-01,  2.25341350e-01,\n",
       "          2.62874335e-01, -9.13450122e-02,  1.81854844e-01,\n",
       "         -9.00881886e-02],\n",
       "        [-1.28893569e-01, -1.26982093e-01, -2.28383914e-01,\n",
       "          3.37532163e-02,  2.38990813e-01, -2.31418148e-01,\n",
       "          2.63630152e-02,  1.01320714e-01,  4.77571189e-02,\n",
       "          1.53415024e-01],\n",
       "        [ 2.75268406e-01, -1.74410880e-01, -2.21979052e-01,\n",
       "         -1.02755532e-01,  1.78927332e-01, -2.02615947e-01,\n",
       "         -2.96069682e-02, -2.77330846e-01, -4.53687012e-02,\n",
       "          1.21562243e-01],\n",
       "        [-1.90826654e-02,  1.90611720e-01,  1.92082942e-01,\n",
       "         -2.01267183e-01, -1.15854666e-01,  5.43971956e-02,\n",
       "          2.34103650e-01, -1.67440027e-01, -2.18955487e-01,\n",
       "          3.38610411e-02],\n",
       "        [ 6.43291771e-02, -2.07381889e-01,  7.56715238e-02,\n",
       "         -2.17834353e-01, -5.07067591e-02, -7.40657449e-02,\n",
       "          2.80714005e-01, -1.01212144e-01,  1.08878255e-01,\n",
       "         -2.68125027e-01],\n",
       "        [ 7.34966993e-03,  1.96534157e-01,  2.44302124e-01,\n",
       "          2.73794502e-01,  2.54689902e-01,  3.34559381e-02,\n",
       "          1.31555855e-01, -1.39313862e-01, -1.38947263e-01,\n",
       "         -1.44492984e-02],\n",
       "        [ 1.68535292e-01, -2.37276375e-01,  2.41698056e-01,\n",
       "         -9.26247239e-02, -2.66557932e-01,  1.47210658e-01,\n",
       "          9.63796079e-02,  1.07092619e-01,  2.81891912e-01,\n",
       "          2.94434130e-02],\n",
       "        [ 1.58403039e-01,  2.02531278e-01,  1.82061493e-02,\n",
       "         -1.30852237e-01, -1.91307455e-01, -2.21238583e-01,\n",
       "         -2.28103533e-01,  1.90526247e-01,  7.20560551e-03,\n",
       "          1.64748698e-01],\n",
       "        [-5.09229749e-02, -5.98990619e-02,  1.98808670e-01,\n",
       "         -2.14040577e-02, -5.73482662e-02,  8.49764049e-02,\n",
       "          2.08213955e-01,  3.36291790e-02, -2.44443476e-01,\n",
       "          1.09848797e-01],\n",
       "        [ 1.92433476e-01, -8.06566328e-02, -2.83379436e-01,\n",
       "          1.96961194e-01, -2.25423485e-01,  2.22573608e-01,\n",
       "          2.42822021e-01, -3.90878767e-02, -1.67436838e-01,\n",
       "         -3.99281383e-02],\n",
       "        [-1.99756026e-02,  2.61476606e-01, -7.28667676e-02,\n",
       "          1.72083229e-01,  8.21897686e-02, -2.19951868e-02,\n",
       "         -1.30127668e-02, -2.53755480e-01,  6.04351759e-02,\n",
       "         -9.38047022e-02],\n",
       "        [-2.50220180e-01,  1.57347918e-02, -6.37136847e-02,\n",
       "          1.38202190e-01,  7.50274062e-02, -2.53235668e-01,\n",
       "          1.15597963e-01, -2.73784399e-02, -1.47504210e-01,\n",
       "         -2.42530227e-01],\n",
       "        [-1.54528618e-01,  1.32979959e-01,  2.25070566e-01,\n",
       "         -2.24701211e-01,  2.84450382e-01, -2.64017999e-01,\n",
       "          2.18774468e-01,  1.96866691e-02, -6.88958168e-03,\n",
       "         -2.37989277e-01],\n",
       "        [ 2.00809062e-01,  5.06222248e-03, -1.49360836e-01,\n",
       "         -1.87354743e-01, -1.35066181e-01,  2.49018818e-01,\n",
       "         -1.45436585e-01, -2.78501391e-01, -2.72122532e-01,\n",
       "          6.29669130e-02],\n",
       "        [-6.67515248e-02,  2.70659328e-02, -8.48022699e-02,\n",
       "         -1.93570346e-01,  1.32767797e-01, -1.15722150e-01,\n",
       "         -2.64624178e-01, -1.21028483e-01,  2.09904313e-01,\n",
       "         -2.04376444e-01]], dtype=float32)>,\n",
       " <tf.Variable 'dense_3/bias:0' shape=(10,) dtype=float32, numpy=array([0., 0., 0., 0., 0., 0., 0., 0., 0., 0.], dtype=float32)>]"
      ]
     },
     "execution_count": 8,
     "metadata": {},
     "output_type": "execute_result"
    }
   ],
   "source": [
    "model.build(input_shape=(None,3))\n",
    "model.weights"
   ]
  },
  {
   "cell_type": "code",
   "execution_count": 9,
   "id": "36a6da9a",
   "metadata": {},
   "outputs": [
    {
     "name": "stdout",
     "output_type": "stream",
     "text": [
      "Model: \"sequential_1\"\n",
      "_________________________________________________________________\n",
      "Layer (type)                 Output Shape              Param #   \n",
      "=================================================================\n",
      "dense_2 (Dense)              (None, 64)                256       \n",
      "_________________________________________________________________\n",
      "dense_3 (Dense)              (None, 10)                650       \n",
      "=================================================================\n",
      "Total params: 906\n",
      "Trainable params: 906\n",
      "Non-trainable params: 0\n",
      "_________________________________________________________________\n"
     ]
    }
   ],
   "source": [
    "# debugging을 위해 사용\n",
    "model.summary()"
   ]
  },
  {
   "cell_type": "code",
   "execution_count": 10,
   "id": "4e181e0f",
   "metadata": {},
   "outputs": [
    {
     "name": "stdout",
     "output_type": "stream",
     "text": [
      "Model: \"my_example_model\"\n",
      "_________________________________________________________________\n",
      "Layer (type)                 Output Shape              Param #   \n",
      "=================================================================\n",
      "my_first_layer (Dense)       (None, 64)                256       \n",
      "_________________________________________________________________\n",
      "my_last_layer (Dense)        (None, 10)                650       \n",
      "=================================================================\n",
      "Total params: 906\n",
      "Trainable params: 906\n",
      "Non-trainable params: 0\n",
      "_________________________________________________________________\n"
     ]
    }
   ],
   "source": [
    "model = keras.Sequential(name=\"my_example_model\")\n",
    "model.add(layers.Dense(64, activation=\"relu\", name=\"my_first_layer\"))\n",
    "model.add(layers.Dense(10, activation=\"softmax\", name=\"my_last_layer\"))\n",
    "model.build((None, 3))\n",
    "model.summary()"
   ]
  },
  {
   "cell_type": "code",
   "execution_count": 12,
   "id": "bffebf4c",
   "metadata": {},
   "outputs": [],
   "source": [
    "# 모델의 입력크기를 미리 지정하기\n",
    "model = keras.Sequential()\n",
    "model.add(keras.Input(shape=(3,)))\n",
    "model.add(layers.Dense(64, activation=\"relu\"))"
   ]
  },
  {
   "cell_type": "code",
   "execution_count": 13,
   "id": "4dfb873d",
   "metadata": {},
   "outputs": [
    {
     "name": "stdout",
     "output_type": "stream",
     "text": [
      "Model: \"sequential_3\"\n",
      "_________________________________________________________________\n",
      "Layer (type)                 Output Shape              Param #   \n",
      "=================================================================\n",
      "dense_5 (Dense)              (None, 64)                256       \n",
      "=================================================================\n",
      "Total params: 256\n",
      "Trainable params: 256\n",
      "Non-trainable params: 0\n",
      "_________________________________________________________________\n"
     ]
    }
   ],
   "source": [
    "model.summary()"
   ]
  },
  {
   "cell_type": "code",
   "execution_count": 14,
   "id": "6a23fba7",
   "metadata": {},
   "outputs": [
    {
     "name": "stdout",
     "output_type": "stream",
     "text": [
      "Model: \"sequential_3\"\n",
      "_________________________________________________________________\n",
      "Layer (type)                 Output Shape              Param #   \n",
      "=================================================================\n",
      "dense_5 (Dense)              (None, 64)                256       \n",
      "_________________________________________________________________\n",
      "dense_6 (Dense)              (None, 10)                650       \n",
      "=================================================================\n",
      "Total params: 906\n",
      "Trainable params: 906\n",
      "Non-trainable params: 0\n",
      "_________________________________________________________________\n"
     ]
    }
   ],
   "source": [
    "model.add(layers.Dense(10, activation=\"softmax\"))\n",
    "model.summary()"
   ]
  },
  {
   "cell_type": "markdown",
   "id": "e5a268a4",
   "metadata": {},
   "source": [
    "## Functional API"
   ]
  },
  {
   "cell_type": "markdown",
   "id": "a8a1a3c9",
   "metadata": {},
   "source": [
    "* 다중 입력(eg:이미지,이미지 메타데이터), 다중출력 또는 비선형적 구조를 가진 모델 생성"
   ]
  },
  {
   "cell_type": "code",
   "execution_count": 17,
   "id": "189a9844",
   "metadata": {},
   "outputs": [],
   "source": [
    "inputs = keras.Input(shape=(3,), name=\"my_input\") # symbolic tensor\n",
    "features = layers.Dense(64, activation=\"relu\")(inputs)\n",
    "outputs = layers.Dense(10, activation=\"softmax\")(features)\n",
    "model = keras.Model(inputs=inputs, outputs=outputs)"
   ]
  },
  {
   "cell_type": "code",
   "execution_count": 21,
   "id": "771f651f",
   "metadata": {},
   "outputs": [
    {
     "data": {
      "text/plain": [
       "TensorShape([None, 3])"
      ]
     },
     "execution_count": 21,
     "metadata": {},
     "output_type": "execute_result"
    }
   ],
   "source": [
    "inputs.shape"
   ]
  },
  {
   "cell_type": "code",
   "execution_count": 20,
   "id": "e588a0eb",
   "metadata": {},
   "outputs": [
    {
     "data": {
      "text/plain": [
       "tf.float32"
      ]
     },
     "execution_count": 20,
     "metadata": {},
     "output_type": "execute_result"
    }
   ],
   "source": [
    "inputs.dtype"
   ]
  },
  {
   "cell_type": "code",
   "execution_count": 22,
   "id": "d2ef2fa9",
   "metadata": {},
   "outputs": [
    {
     "data": {
      "text/plain": [
       "TensorShape([None, 64])"
      ]
     },
     "execution_count": 22,
     "metadata": {},
     "output_type": "execute_result"
    }
   ],
   "source": [
    "features.shape"
   ]
  },
  {
   "cell_type": "code",
   "execution_count": 23,
   "id": "4560c3dd",
   "metadata": {},
   "outputs": [
    {
     "name": "stdout",
     "output_type": "stream",
     "text": [
      "Model: \"model_1\"\n",
      "_________________________________________________________________\n",
      "Layer (type)                 Output Shape              Param #   \n",
      "=================================================================\n",
      "my_input (InputLayer)        [(None, 3)]               0         \n",
      "_________________________________________________________________\n",
      "dense_9 (Dense)              (None, 64)                256       \n",
      "_________________________________________________________________\n",
      "dense_10 (Dense)             (None, 10)                650       \n",
      "=================================================================\n",
      "Total params: 906\n",
      "Trainable params: 906\n",
      "Non-trainable params: 0\n",
      "_________________________________________________________________\n"
     ]
    }
   ],
   "source": [
    "model.summary()"
   ]
  },
  {
   "cell_type": "markdown",
   "id": "417d6f73",
   "metadata": {},
   "source": [
    "* 다중 입력, 다중 출력 함수형 모델"
   ]
  },
  {
   "cell_type": "code",
   "execution_count": 24,
   "id": "c97552d5",
   "metadata": {},
   "outputs": [],
   "source": [
    "vocabulary_size = 10000\n",
    "num_tags = 100\n",
    "num_departments = 4\n",
    "\n",
    "title = keras.Input(shape=(vocabulary_size,), name=\"title\")\n",
    "text_body = keras.Input(shape=(vocabulary_size,), name=\"text_body\")\n",
    "tags = keras.Input(shape=(num_tags,), name=\"tags\")\n",
    "\n",
    "features = layers.Concatenate()([title, text_body, tags])\n",
    "features = layers.Dense(64, activation=\"relu\")(features)\n",
    "\n",
    "priority = layers.Dense(1, activation=\"sigmoid\", name=\"priority\")(features)\n",
    "department = layers.Dense(\n",
    "    num_departments, activation=\"softmax\", name=\"department\")(features)\n",
    "\n",
    "model = keras.Model(inputs=[title, text_body, tags], outputs=[priority, department])"
   ]
  },
  {
   "cell_type": "code",
   "execution_count": 25,
   "id": "f591eee9",
   "metadata": {},
   "outputs": [
    {
     "name": "stdout",
     "output_type": "stream",
     "text": [
      "40/40 [==============================] - 3s 32ms/step - loss: 31.1696 - priority_loss: 0.3247 - department_loss: 30.8449 - priority_mean_absolute_error: 0.4902 - department_accuracy: 0.2328 0s - loss: 33.1285 - priority_loss: 0.3271 - department_loss: 32.8014 - priority_mean_absolute_error: 0.4950 - department_accura\n",
      "40/40 [==============================] - 1s 10ms/step - loss: 38.7622 - priority_loss: 0.3305 - department_loss: 38.4317 - priority_mean_absolute_error: 0.4954 - department_accuracy: 0.2414\n"
     ]
    }
   ],
   "source": [
    "import numpy as np\n",
    "\n",
    "num_samples = 1280\n",
    "\n",
    "# dummy_input\n",
    "title_data = np.random.randint(0, 2, size=(num_samples, vocabulary_size))\n",
    "text_body_data = np.random.randint(0, 2, size=(num_samples, vocabulary_size))\n",
    "tags_data = np.random.randint(0, 2, size=(num_samples, num_tags))\n",
    "\n",
    "# dummy_output\n",
    "priority_data = np.random.random(size=(num_samples, 1)) \n",
    "department_data = np.random.randint(0, 2, size=(num_samples, num_departments))\n",
    "\n",
    "model.compile(optimizer=\"rmsprop\",\n",
    "              loss=[\"mean_squared_error\", \"categorical_crossentropy\"],\n",
    "              metrics=[[\"mean_absolute_error\"], [\"accuracy\"]])\n",
    "model.fit([title_data, text_body_data, tags_data],\n",
    "          [priority_data, department_data],\n",
    "          epochs=1)\n",
    "model.evaluate([title_data, text_body_data, tags_data],\n",
    "               [priority_data, department_data])\n",
    "priority_preds, department_preds = model.predict([title_data, text_body_data, tags_data])"
   ]
  },
  {
   "cell_type": "code",
   "execution_count": 26,
   "id": "9864e68c",
   "metadata": {},
   "outputs": [
    {
     "name": "stdout",
     "output_type": "stream",
     "text": [
      "40/40 [==============================] - 2s 27ms/step - loss: 39.0602 - priority_loss: 0.3305 - department_loss: 38.7297 - priority_mean_absolute_error: 0.4954 - department_accuracy: 0.2805\n",
      "40/40 [==============================] - 1s 9ms/step - loss: 67.3929 - priority_loss: 0.3305 - department_loss: 67.0623 - priority_mean_absolute_error: 0.4954 - department_accuracy: 0.2414\n"
     ]
    }
   ],
   "source": [
    "model.compile(optimizer=\"rmsprop\",\n",
    "              loss={\"priority\": \"mean_squared_error\", \"department\": \"categorical_crossentropy\"},\n",
    "              metrics={\"priority\": [\"mean_absolute_error\"], \"department\": [\"accuracy\"]})\n",
    "model.fit({\"title\": title_data, \"text_body\": text_body_data, \"tags\": tags_data},\n",
    "          {\"priority\": priority_data, \"department\": department_data},\n",
    "          epochs=1)\n",
    "model.evaluate({\"title\": title_data, \"text_body\": text_body_data, \"tags\": tags_data},\n",
    "               {\"priority\": priority_data, \"department\": department_data})\n",
    "priority_preds, department_preds = model.predict(\n",
    "    {\"title\": title_data, \"text_body\": text_body_data, \"tags\": tags_data})"
   ]
  },
  {
   "cell_type": "code",
   "execution_count": 27,
   "id": "137475a2",
   "metadata": {},
   "outputs": [
    {
     "data": {
      "image/png": "[encoded data removed]",
      "text/plain": [
       "<IPython.core.display.Image object>"
      ]
     },
     "execution_count": 27,
     "metadata": {},
     "output_type": "execute_result"
    }
   ],
   "source": [
    "keras.utils.plot_model(model, \"ticket_classifier.png\")"
   ]
  },
  {
   "cell_type": "code",
   "execution_count": 28,
   "id": "68c13e0b",
   "metadata": {},
   "outputs": [
    {
     "data": {
      "image/png": "[encoded data removed]",
      "text/plain": [
       "<IPython.core.display.Image object>"
      ]
     },
     "execution_count": 28,
     "metadata": {},
     "output_type": "execute_result"
    }
   ],
   "source": [
    "keras.utils.plot_model(model, \"ticket_classifier_with_shape_info.png\", show_shapes=True)"
   ]
  },
  {
   "cell_type": "code",
   "execution_count": 29,
   "id": "8fb3d908",
   "metadata": {},
   "outputs": [
    {
     "data": {
      "text/plain": [
       "[<keras.engine.input_layer.InputLayer at 0x798610179490>,\n",
       " <keras.engine.input_layer.InputLayer at 0x79868c609460>,\n",
       " <keras.engine.input_layer.InputLayer at 0x7986101f5df0>,\n",
       " <keras.layers.merge.Concatenate at 0x7986101796a0>,\n",
       " <keras.layers.core.Dense at 0x7986101e6bb0>,\n",
       " <keras.layers.core.Dense at 0x7986101f3c40>,\n",
       " <keras.layers.core.Dense at 0x79861018c370>]"
      ]
     },
     "execution_count": 29,
     "metadata": {},
     "output_type": "execute_result"
    }
   ],
   "source": [
    "model.layers"
   ]
  },
  {
   "cell_type": "code",
   "execution_count": 39,
   "id": "49ba4e55",
   "metadata": {},
   "outputs": [
    {
     "data": {
      "text/plain": [
       "[<KerasTensor: shape=(None, 10000) dtype=float32 (created by layer 'title')>,\n",
       " <KerasTensor: shape=(None, 10000) dtype=float32 (created by layer 'text_body')>,\n",
       " <KerasTensor: shape=(None, 100) dtype=float32 (created by layer 'tags')>]"
      ]
     },
     "execution_count": 39,
     "metadata": {},
     "output_type": "execute_result"
    }
   ],
   "source": [
    "model.layers[3].input"
   ]
  },
  {
   "cell_type": "code",
   "execution_count": 31,
   "id": "8ec84423",
   "metadata": {},
   "outputs": [
    {
     "data": {
      "text/plain": [
       "<KerasTensor: shape=(None, 20100) dtype=float32 (created by layer 'concatenate')>"
      ]
     },
     "execution_count": 31,
     "metadata": {},
     "output_type": "execute_result"
    }
   ],
   "source": [
    "model.layers[3].output"
   ]
  },
  {
   "cell_type": "code",
   "execution_count": 41,
   "id": "6b5fb323",
   "metadata": {},
   "outputs": [],
   "source": [
    "features = model.layers[4].output\n",
    "difficulty = layers.Dense(3, activation=\"softmax\", name=\"difficulty\")(features)\n",
    "\n",
    "new_model = keras.Model(\n",
    "    inputs=[title, text_body, tags],\n",
    "    outputs=[priority, department, difficulty])"
   ]
  },
  {
   "cell_type": "code",
   "execution_count": 42,
   "id": "456a8909",
   "metadata": {},
   "outputs": [
    {
     "data": {
      "image/png": "[encoded data removed]",
      "text/plain": [
       "<IPython.core.display.Image object>"
      ]
     },
     "execution_count": 42,
     "metadata": {},
     "output_type": "execute_result"
    }
   ],
   "source": [
    "keras.utils.plot_model(new_model, \"updated_ticket_classifier.png\", show_shapes=True)"
   ]
  },
  {
   "cell_type": "markdown",
   "id": "32d268a4",
   "metadata": {},
   "source": [
    "## Model subclassing"
   ]
  },
  {
   "cell_type": "markdown",
   "id": "d481e61c",
   "metadata": {},
   "source": [
    "* __subclassing이 상속인가요??__\n",
    "*  __init__() 메서드에서 모델이 사용할 층을 정의\n",
    "* call() 메서드에서 앞서 만든 층을 사용하여 모델의 정방향 패스를 정의\n",
    "* subclass의 객체를 만들고 데이터와 함께 호출하여 가중치를 만듭니다."
   ]
  },
  {
   "cell_type": "code",
   "execution_count": 43,
   "id": "e595bc1f",
   "metadata": {},
   "outputs": [],
   "source": [
    "# 고객 이슈 티켓 관리 모델 재구현\n",
    "\n",
    "class CustomerTicketModel(keras.Model):\n",
    "\n",
    "    def __init__(self, num_departments):\n",
    "        super().__init__()\n",
    "        self.concat_layer = layers.Concatenate()\n",
    "        self.mixing_layer = layers.Dense(64, activation=\"relu\")\n",
    "        self.priority_scorer = layers.Dense(1, activation=\"sigmoid\")\n",
    "        self.department_classifier = layers.Dense(\n",
    "            num_departments, activation=\"softmax\")\n",
    "\n",
    "    def call(self, inputs):\n",
    "        title = inputs[\"title\"]\n",
    "        text_body = inputs[\"text_body\"]\n",
    "        tags = inputs[\"tags\"]\n",
    "\n",
    "        features = self.concat_layer([title, text_body, tags])\n",
    "        features = self.mixing_layer(features)\n",
    "        priority = self.priority_scorer(features)\n",
    "        department = self.department_classifier(features)\n",
    "        return priority, department"
   ]
  },
  {
   "cell_type": "markdown",
   "id": "713a057a",
   "metadata": {},
   "source": [
    "* keras.model 클래스에는 fit(), evaluate(), predict() 메서드가 내재됨\n",
    "* keras.layer 클래스에는 ?"
   ]
  },
  {
   "cell_type": "code",
   "execution_count": null,
   "id": "9969032e",
   "metadata": {},
   "outputs": [],
   "source": [
    "# 객체 만들기\n",
    "model = CustomerTicketModel(num_departments=4)\n",
    "\n",
    "priority, department = model(\n",
    "    {\"title\": title_data, \"text_body\": text_body_data, \"tags\": tags_data})"
   ]
  },
  {
   "cell_type": "code",
   "execution_count": null,
   "id": "70b6b720",
   "metadata": {},
   "outputs": [],
   "source": [
    "# compile, fit, evaluate, predict\n",
    "model.compile(optimizer=\"rmsprop\",\n",
    "              loss=[\"mean_squared_error\", \"categorical_crossentropy\"],\n",
    "              metrics=[[\"mean_absolute_error\"], [\"accuracy\"]])\n",
    "model.fit({\"title\": title_data,\n",
    "           \"text_body\": text_body_data,\n",
    "           \"tags\": tags_data},\n",
    "          [priority_data, department_data],\n",
    "          epochs=1)\n",
    "model.evaluate({\"title\": title_data,\n",
    "                \"text_body\": text_body_data,\n",
    "                \"tags\": tags_data},\n",
    "               [priority_data, department_data])\n",
    "priority_preds, department_preds = model.predict({\"title\": title_data,\n",
    "                                                  \"text_body\": text_body_data,\n",
    "                                                  \"tags\": tags_data})"
   ]
  },
  {
   "cell_type": "markdown",
   "id": "18183409",
   "metadata": {},
   "source": [
    "* subclassing에서는 summary(), plot_model()가 안됨, 그래서 층 그래프 노드를 참조할 수 없음\n",
    "* 생성 후 정방행 패스는 말 그대로 '블랙박스'"
   ]
  },
  {
   "cell_type": "markdown",
   "id": "66b2f5fc",
   "metadata": {},
   "source": [
    "## 여러 방식을 혼합하여 사용하기"
   ]
  },
  {
   "cell_type": "code",
   "execution_count": 46,
   "id": "c1a4dd7c",
   "metadata": {},
   "outputs": [],
   "source": [
    "# subclassing포함하는 functional model\n",
    "class Classifier(keras.Model):\n",
    "\n",
    "    def __init__(self, num_classes=2):\n",
    "        super().__init__()\n",
    "        if num_classes == 2:\n",
    "            num_units = 1\n",
    "            activation = \"sigmoid\"\n",
    "        else:\n",
    "            num_units = num_classes\n",
    "            activation = \"softmax\"\n",
    "        self.dense = layers.Dense(num_units, activation=activation)\n",
    "\n",
    "    def call(self, inputs):\n",
    "        return self.dense(inputs)\n",
    "\n",
    "inputs = keras.Input(shape=(3,))\n",
    "features = layers.Dense(64, activation=\"relu\")(inputs)\n",
    "outputs = Classifier(num_classes=10)(features) # 여기서 사용\n",
    "model = keras.Model(inputs=inputs, outputs=outputs)"
   ]
  },
  {
   "cell_type": "code",
   "execution_count": 47,
   "id": "82ce485d",
   "metadata": {},
   "outputs": [],
   "source": [
    "# functional model을 포함하는 subclassing model\n",
    "inputs = keras.Input(shape=(64,))\n",
    "outputs = layers.Dense(1, activation=\"sigmoid\")(inputs)\n",
    "binary_classifier = keras.Model(inputs=inputs, outputs=outputs)\n",
    "\n",
    "class MyModel(keras.Model):\n",
    "\n",
    "    def __init__(self, num_classes=2):\n",
    "        super().__init__()\n",
    "        self.dense = layers.Dense(64, activation=\"relu\")\n",
    "        self.classifier = binary_classifier # 여기서 사용\n",
    "\n",
    "    def call(self, inputs):\n",
    "        features = self.dense(inputs)\n",
    "        return self.classifier(features)\n",
    "\n",
    "model = MyModel()"
   ]
  },
  {
   "cell_type": "markdown",
   "id": "a7615228",
   "metadata": {},
   "source": [
    "# 내장된 훈련루프와 평가 루프 사용하기"
   ]
  },
  {
   "cell_type": "code",
   "execution_count": 46,
   "id": "dcc9ef88",
   "metadata": {},
   "outputs": [
    {
     "name": "stdout",
     "output_type": "stream",
     "text": [
      "Epoch 1/3\n",
      "1563/1563 [==============================] - 11s 7ms/step - loss: 0.2937 - accuracy: 0.9120 - val_loss: 0.1481 - val_accuracy: 0.9579\n",
      "Epoch 2/3\n",
      "1563/1563 [==============================] - 11s 7ms/step - loss: 0.1651 - accuracy: 0.9535 - val_loss: 0.1284 - val_accuracy: 0.9658\n",
      "Epoch 3/3\n",
      "1563/1563 [==============================] - 11s 7ms/step - loss: 0.1384 - accuracy: 0.9622 - val_loss: 0.1108 - val_accuracy: 0.9728\n",
      "313/313 [==============================] - 1s 2ms/step - loss: 0.0973 - accuracy: 0.9734\n"
     ]
    }
   ],
   "source": [
    "# 이 workflow를 customizing 할 수 있는 방법을 배웁니다.\n",
    "from tensorflow import keras\n",
    "from tensorflow.keras import layers\n",
    "from tensorflow.keras.datasets import mnist\n",
    "\n",
    "def get_mnist_model():\n",
    "    inputs = keras.Input(shape=(28 * 28,))\n",
    "    features = layers.Dense(512, activation=\"relu\")(inputs)\n",
    "    features = layers.Dropout(0.5)(features)\n",
    "    outputs = layers.Dense(10, activation=\"softmax\")(features)\n",
    "    model = keras.Model(inputs, outputs)\n",
    "    return model\n",
    "\n",
    "(images, labels), (test_images, test_labels) = mnist.load_data()\n",
    "images = images.reshape((60000, 28 * 28)).astype(\"float32\") / 255\n",
    "test_images = test_images.reshape((10000, 28 * 28)).astype(\"float32\") / 255\n",
    "train_images, val_images = images[10000:], images[:10000]\n",
    "train_labels, val_labels = labels[10000:], labels[:10000]\n",
    "\n",
    "model = get_mnist_model()\n",
    "model.compile(optimizer=\"rmsprop\",\n",
    "              loss=\"sparse_categorical_crossentropy\",\n",
    "              metrics=[\"accuracy\"])\n",
    "model.fit(train_images, train_labels,\n",
    "          epochs=3,\n",
    "          validation_data=(val_images, val_labels))\n",
    "test_metrics = model.evaluate(test_images, test_labels)\n",
    "predictions = model.predict(test_images)"
   ]
  },
  {
   "cell_type": "markdown",
   "id": "27f02ac6",
   "metadata": {},
   "source": [
    "### 사용자 정의 지표 만들기"
   ]
  },
  {
   "cell_type": "code",
   "execution_count": 40,
   "id": "e8edff0e",
   "metadata": {},
   "outputs": [],
   "source": [
    "# Metric 클래스를 상속하여 사용자정의 지표\n",
    "import tensorflow as tf\n",
    "\n",
    "class RootMeanSquaredError(keras.metrics.Metric):\n",
    "\n",
    "    def __init__(self, name=\"rmse\", **kwargs):\n",
    "        super().__init__(name=name, **kwargs)\n",
    "        self.mse_sum = self.add_weight(name=\"mse_sum\", initializer=\"zeros\")\n",
    "        self.total_samples = self.add_weight(\n",
    "            name=\"total_samples\", initializer=\"zeros\", dtype=\"int32\")\n",
    "\n",
    "    def update_state(self, y_true, y_pred, sample_weight=None):\n",
    "        y_true = tf.one_hot(y_true, depth=tf.shape(y_pred)[1])\n",
    "        mse = tf.reduce_sum(tf.square(y_true - y_pred))\n",
    "        self.mse_sum.assign_add(mse)\n",
    "        num_samples = tf.shape(y_pred)[0]\n",
    "        self.total_samples.assign_add(num_samples)\n",
    "\n",
    "    def result(self):\n",
    "        return tf.sqrt(self.mse_sum / tf.cast(self.total_samples, tf.float32))\n",
    "\n",
    "    def reset_state(self):\n",
    "        self.mse_sum.assign(0.)\n",
    "        self.total_samples.assign(0)"
   ]
  },
  {
   "cell_type": "code",
   "execution_count": 41,
   "id": "eb92776f",
   "metadata": {},
   "outputs": [
    {
     "name": "stdout",
     "output_type": "stream",
     "text": [
      "Epoch 1/3\n",
      "1563/1563 [==============================] - 12s 7ms/step - loss: 0.2983 - accuracy: 0.9126 - rmse: 7.1807 - val_loss: 0.1556 - val_accuracy: 0.9569 - val_rmse: 7.3657\n",
      "Epoch 2/3\n",
      "1563/1563 [==============================] - 11s 7ms/step - loss: 0.1650 - accuracy: 0.9532 - rmse: 7.3556 - val_loss: 0.1319 - val_accuracy: 0.9655 - val_rmse: 7.4000\n",
      "Epoch 3/3\n",
      "1563/1563 [==============================] - 11s 7ms/step - loss: 0.1396 - accuracy: 0.9625 - rmse: 7.3876 - val_loss: 0.1165 - val_accuracy: 0.9724 - val_rmse: 7.4166\n",
      "313/313 [==============================] - 1s 2ms/step - loss: 0.1024 - accuracy: 0.9738 - rmse: 7.4322\n"
     ]
    }
   ],
   "source": [
    "# 사용\n",
    "model = get_mnist_model()\n",
    "model.compile(optimizer=\"rmsprop\",\n",
    "              loss=\"sparse_categorical_crossentropy\",\n",
    "              metrics=[\"accuracy\", RootMeanSquaredError()]) # 여기서 사용\n",
    "model.fit(train_images, train_labels,\n",
    "          epochs=3,\n",
    "          validation_data=(val_images, val_labels))\n",
    "test_metrics = model.evaluate(test_images, test_labels)"
   ]
  },
  {
   "cell_type": "markdown",
   "id": "f97395f6",
   "metadata": {},
   "source": [
    "### 콜백 사용하기\n",
    "fit()메서드에 콜백을 전달하여 훈련되는 동안 특정시점에 수행될 행동을 예약합니다."
   ]
  },
  {
   "cell_type": "markdown",
   "id": "2f06496c",
   "metadata": {},
   "source": [
    "* 모델 checkpoint 저장: 어떤 지점에서 모델의 현재 가중치를 저장\n",
    "* early stopping: 검증 손실이 더 이상 향상되지 않을 때 훈련을 중지 + 가장 좋은 모델을 저장\n",
    "* 훈련하는 동안 hyperparameter값을 동적으로 조정: 학습률 등\n",
    "* 훈련과 검증지표를 로그기록, 시각화: 진행표시줄도 콜백의 예\n",
    "\n",
    "> e.g.) keras.callbacks.[ModelCheckpoint/EarlyStopping/LearningRateScheduler/ReduceLROnPlateau/CSVLogger] 등"
   ]
  },
  {
   "cell_type": "code",
   "execution_count": 47,
   "id": "b0e205b3",
   "metadata": {},
   "outputs": [
    {
     "name": "stdout",
     "output_type": "stream",
     "text": [
      "Epoch 1/10\n",
      "1563/1563 [==============================] - 12s 7ms/step - loss: 0.2952 - accuracy: 0.9141 - val_loss: 0.1387 - val_accuracy: 0.9595\n",
      "Epoch 2/10\n",
      "1563/1563 [==============================] - 11s 7ms/step - loss: 0.1651 - accuracy: 0.9545 - val_loss: 0.1181 - val_accuracy: 0.9669\n",
      "Epoch 3/10\n",
      "1563/1563 [==============================] - 11s 7ms/step - loss: 0.1399 - accuracy: 0.9634 - val_loss: 0.1100 - val_accuracy: 0.9707\n",
      "Epoch 4/10\n",
      "1563/1563 [==============================] - 11s 7ms/step - loss: 0.1244 - accuracy: 0.9685 - val_loss: 0.1125 - val_accuracy: 0.9712\n",
      "Epoch 5/10\n",
      "1563/1563 [==============================] - 11s 7ms/step - loss: 0.1183 - accuracy: 0.9706 - val_loss: 0.1028 - val_accuracy: 0.9752\n",
      "Epoch 6/10\n",
      "1563/1563 [==============================] - 12s 8ms/step - loss: 0.1083 - accuracy: 0.9738 - val_loss: 0.1202 - val_accuracy: 0.9735\n",
      "Epoch 7/10\n",
      "1563/1563 [==============================] - 11s 7ms/step - loss: 0.1039 - accuracy: 0.9748 - val_loss: 0.1068 - val_accuracy: 0.9764\n",
      "Epoch 8/10\n",
      "1563/1563 [==============================] - 11s 7ms/step - loss: 0.1006 - accuracy: 0.9764 - val_loss: 0.1137 - val_accuracy: 0.9766\n",
      "Epoch 9/10\n",
      "1563/1563 [==============================] - 11s 7ms/step - loss: 0.0943 - accuracy: 0.9785 - val_loss: 0.1085 - val_accuracy: 0.9784\n",
      "Epoch 10/10\n",
      "1563/1563 [==============================] - 11s 7ms/step - loss: 0.0945 - accuracy: 0.9791 - val_loss: 0.1155 - val_accuracy: 0.9787\n"
     ]
    },
    {
     "data": {
      "text/plain": [
       "<keras.callbacks.History at 0x7c3d5420b580>"
      ]
     },
     "execution_count": 47,
     "metadata": {},
     "output_type": "execute_result"
    }
   ],
   "source": [
    "callbacks_list = [\n",
    "    keras.callbacks.EarlyStopping(\n",
    "        monitor=\"val_accuracy\",\n",
    "        patience=2,\n",
    "    ),\n",
    "    keras.callbacks.ModelCheckpoint(\n",
    "        filepath=\"checkpoint_path.h5\",\n",
    "        monitor=\"val_loss\",\n",
    "        save_best_only=True,\n",
    "    )\n",
    "]\n",
    "model = get_mnist_model()\n",
    "model.compile(optimizer=\"rmsprop\",\n",
    "              loss=\"sparse_categorical_crossentropy\",\n",
    "              metrics=[\"accuracy\"])\n",
    "model.fit(train_images, train_labels,\n",
    "          epochs=10,\n",
    "          callbacks=callbacks_list,\n",
    "          validation_data=(val_images, val_labels))"
   ]
  },
  {
   "cell_type": "code",
   "execution_count": 48,
   "id": "38e3b789",
   "metadata": {},
   "outputs": [],
   "source": [
    "model = keras.models.load_model(\"checkpoint_path.h5\")"
   ]
  },
  {
   "cell_type": "markdown",
   "id": "b973a01e",
   "metadata": {},
   "source": [
    "### 사용자 정의 콜백 만들기"
   ]
  },
  {
   "cell_type": "markdown",
   "id": "3c84aba3",
   "metadata": {},
   "source": [
    "on_epoch_begin(epoch, logs) # 각 에포크가 시작할 때 호출됩니다.  \n",
    "on_epoch_end(epoch, logs) # 각 에포크가 끝날 때 호출됩니다.  \n",
    "on_batch_begin(batch, logs) # 각 배치 처리가 시작하기 전에 호출됩니다.  \n",
    "on_batch_end(batch, logs) # 각 배치 처리가 끝난 후에 호출됩니다.  \n",
    "on_train_begin(batch, logs) # 훈련이 시작될 때 호출됩니다.  \n",
    "on_train_end(batch, logs) # 훈련이 끝날 때 호출됩니다."
   ]
  },
  {
   "cell_type": "code",
   "execution_count": 51,
   "id": "7ba7f881",
   "metadata": {},
   "outputs": [],
   "source": [
    "# Callback 클래스를 상속하여 사용자 정의 콜백\n",
    "from matplotlib import pyplot as plt\n",
    "\n",
    "class LossHistory(keras.callbacks.Callback):\n",
    "    def on_train_begin(self, logs):\n",
    "        self.per_batch_losses = []\n",
    "\n",
    "    def on_batch_end(self, batch, logs):\n",
    "        self.per_batch_losses.append(logs.get(\"loss\"))\n",
    "\n",
    "    def on_epoch_end(self, epoch, logs):\n",
    "        plt.clf()\n",
    "        plt.plot(range(len(self.per_batch_losses)), self.per_batch_losses,\n",
    "                 label=\"Training loss for each batch\")\n",
    "        plt.xlabel(f\"Batch (epoch {epoch})\")\n",
    "        plt.ylabel(\"Loss\")\n",
    "        plt.legend()\n",
    "        plt.savefig(f\"plot_at_epoch_{epoch}\")\n",
    "        self.per_batch_losses = []"
   ]
  },
  {
   "cell_type": "code",
   "execution_count": 52,
   "id": "a4a5a667",
   "metadata": {},
   "outputs": [
    {
     "name": "stdout",
     "output_type": "stream",
     "text": [
      "Epoch 1/10\n",
      "1563/1563 [==============================] - 12s 7ms/step - loss: 0.2963 - accuracy: 0.9113 - val_loss: 0.1691 - val_accuracy: 0.9527\n",
      "Epoch 2/10\n",
      "1563/1563 [==============================] - 11s 7ms/step - loss: 0.1670 - accuracy: 0.9531 - val_loss: 0.1289 - val_accuracy: 0.9643\n",
      "Epoch 3/10\n",
      "1563/1563 [==============================] - 11s 7ms/step - loss: 0.1399 - accuracy: 0.9634 - val_loss: 0.1112 - val_accuracy: 0.9720\n",
      "Epoch 4/10\n",
      "1563/1563 [==============================] - 11s 7ms/step - loss: 0.1290 - accuracy: 0.9670 - val_loss: 0.1153 - val_accuracy: 0.9730\n",
      "Epoch 5/10\n",
      "1563/1563 [==============================] - 11s 7ms/step - loss: 0.1167 - accuracy: 0.9703 - val_loss: 0.1040 - val_accuracy: 0.9761\n",
      "Epoch 6/10\n",
      "1563/1563 [==============================] - 11s 7ms/step - loss: 0.1110 - accuracy: 0.9722 - val_loss: 0.1071 - val_accuracy: 0.9752\n",
      "Epoch 7/10\n",
      "1563/1563 [==============================] - 11s 7ms/step - loss: 0.1053 - accuracy: 0.9745 - val_loss: 0.1130 - val_accuracy: 0.9765\n",
      "Epoch 8/10\n",
      "1563/1563 [==============================] - 11s 7ms/step - loss: 0.0992 - accuracy: 0.9765 - val_loss: 0.1115 - val_accuracy: 0.9773\n",
      "Epoch 9/10\n",
      "1563/1563 [==============================] - 11s 7ms/step - loss: 0.0977 - accuracy: 0.9770 - val_loss: 0.1139 - val_accuracy: 0.9777\n",
      "Epoch 10/10\n",
      "1563/1563 [==============================] - 11s 7ms/step - loss: 0.0964 - accuracy: 0.9782 - val_loss: 0.1191 - val_accuracy: 0.9780\n"
     ]
    },
    {
     "data": {
      "text/plain": [
       "<keras.callbacks.History at 0x7c3d611d96a0>"
      ]
     },
     "execution_count": 52,
     "metadata": {},
     "output_type": "execute_result"
    },
    {
     "data": {
      "image/png": "[encoded data removed]",
      "text/plain": [
       "<Figure size 432x288 with 1 Axes>"
      ]
     },
     "metadata": {
      "needs_background": "light"
     },
     "output_type": "display_data"
    }
   ],
   "source": [
    "model = get_mnist_model()\n",
    "model.compile(optimizer=\"rmsprop\",\n",
    "              loss=\"sparse_categorical_crossentropy\",\n",
    "              metrics=[\"accuracy\"])\n",
    "model.fit(train_images, train_labels,\n",
    "          epochs=10,\n",
    "          callbacks=[LossHistory()],\n",
    "          validation_data=(val_images, val_labels))"
   ]
  },
  {
   "cell_type": "code",
   "execution_count": 54,
   "id": "5244f134",
   "metadata": {},
   "outputs": [
    {
     "name": "stdout",
     "output_type": "stream",
     "text": [
      "Epoch 1/10\n",
      "1563/1563 [==============================] - 12s 7ms/step - loss: 0.2937 - accuracy: 0.9131 - val_loss: 0.1521 - val_accuracy: 0.9575\n",
      "Epoch 2/10\n",
      "1563/1563 [==============================] - 11s 7ms/step - loss: 0.1646 - accuracy: 0.9547 - val_loss: 0.1437 - val_accuracy: 0.9597\n",
      "Epoch 3/10\n",
      "1563/1563 [==============================] - 11s 7ms/step - loss: 0.1394 - accuracy: 0.9629 - val_loss: 0.1121 - val_accuracy: 0.9720\n",
      "Epoch 4/10\n",
      "1563/1563 [==============================] - 11s 7ms/step - loss: 0.1266 - accuracy: 0.9671 - val_loss: 0.1173 - val_accuracy: 0.9730\n",
      "Epoch 5/10\n",
      "1563/1563 [==============================] - 11s 7ms/step - loss: 0.1166 - accuracy: 0.9717 - val_loss: 0.1108 - val_accuracy: 0.9749\n",
      "Epoch 6/10\n",
      "1563/1563 [==============================] - 11s 7ms/step - loss: 0.1124 - accuracy: 0.9727 - val_loss: 0.1116 - val_accuracy: 0.9749\n",
      "Epoch 7/10\n",
      "1563/1563 [==============================] - 11s 7ms/step - loss: 0.1010 - accuracy: 0.9758 - val_loss: 0.1123 - val_accuracy: 0.9755\n",
      "Epoch 8/10\n",
      "1563/1563 [==============================] - 11s 7ms/step - loss: 0.1032 - accuracy: 0.9764 - val_loss: 0.1066 - val_accuracy: 0.9796\n",
      "Epoch 9/10\n",
      "1563/1563 [==============================] - 11s 7ms/step - loss: 0.1000 - accuracy: 0.9768 - val_loss: 0.1244 - val_accuracy: 0.9780\n",
      "Epoch 10/10\n",
      "1563/1563 [==============================] - 11s 7ms/step - loss: 0.0920 - accuracy: 0.9792 - val_loss: 0.1264 - val_accuracy: 0.9783\n"
     ]
    },
    {
     "data": {
      "text/plain": [
       "<keras.callbacks.History at 0x7c3d60e2fd60>"
      ]
     },
     "execution_count": 54,
     "metadata": {},
     "output_type": "execute_result"
    }
   ],
   "source": [
    "model = get_mnist_model()\n",
    "model.compile(optimizer=\"rmsprop\",\n",
    "              loss=\"sparse_categorical_crossentropy\",\n",
    "              metrics=[\"accuracy\"])\n",
    "\n",
    "tensorboard = keras.callbacks.TensorBoard(\n",
    "    log_dir=\"./tb_logs\",\n",
    ")\n",
    "model.fit(train_images, train_labels,\n",
    "          epochs=10,\n",
    "          validation_data=(val_images, val_labels),\n",
    "          callbacks=[tensorboard])"
   ]
  },
  {
   "cell_type": "code",
   "execution_count": 55,
   "id": "def4fb31",
   "metadata": {},
   "outputs": [
    {
     "data": {
      "text/html": [
       "\n",
       "      <iframe id=\"tensorboard-frame-4f42d2aee9a7801d\" width=\"100%\" height=\"800\" frameborder=\"0\">\n",
       "      </iframe>\n",
       "      <script>\n",
       "        (function() {\n",
       "          const frame = document.getElementById(\"tensorboard-frame-4f42d2aee9a7801d\");\n",
       "          const url = new URL(\"/\", window.location);\n",
       "          const port = 6006;\n",
       "          if (port) {\n",
       "            url.port = port;\n",
       "          }\n",
       "          frame.src = url;\n",
       "        })();\n",
       "      </script>\n",
       "    "
      ],
      "text/plain": [
       "<IPython.core.display.HTML object>"
      ]
     },
     "metadata": {},
     "output_type": "display_data"
    }
   ],
   "source": [
    "%load_ext tensorboard\n",
    "%tensorboard --logdir ./tb_logs"
   ]
  },
  {
   "cell_type": "code",
   "execution_count": null,
   "id": "1316aefb",
   "metadata": {},
   "outputs": [],
   "source": []
  },
  {
   "cell_type": "code",
   "execution_count": null,
   "id": "63cf10a7",
   "metadata": {},
   "outputs": [],
   "source": []
  },
  {
   "cell_type": "markdown",
   "id": "9383f804",
   "metadata": {},
   "source": [
    "# 사용자 정의 훈련/평가 루프 만들기\n",
    " * 내장 fit() 워크플로는 지도학습에만 초점\n",
    " * 내장 fit()으로 충분하지 않은 상황이면 자신만의 훈련로직을 직접 작성해야 합니다."
   ]
  },
  {
   "cell_type": "markdown",
   "id": "44fb4fb0",
   "metadata": {},
   "source": [
    "* 훈련 v. 추론\n",
    "    - dropout층과 같은 층은 훈련과 추론에서 동작이 다릅니다.(dropout은 추론에서는 안쓰인다..)\n",
    "        - 정방향 패스에서 model(inputs, training=True)내 true\n",
    "    - 역방향 패스에서 tape.gradients(loss, model.trainable_weights)내 model.trainable_weights\n",
    "        - **훈련가능한 가중치**: 역전파로 업데이트//**훈련되지 않는 가중치**: 해당층의 정방향 패스동안 업데이트 eg) 배치처리카운팅 사용자정의층"
   ]
  },
  {
   "cell_type": "code",
   "execution_count": null,
   "id": "5e1e4a7b",
   "metadata": {},
   "outputs": [],
   "source": [
    "def train_step(inputs, targets):\n",
    "    with tf.GradientTape() as tape:\n",
    "        predictions = model(inputs, training=True)\n",
    "        loss = loss_fn(targets, predictions)\n",
    "    gradients = tape.gradients(loss, model.trainable_weights)\n",
    "    optimizer.apply_gradients(zip(model.trainable_weights, gradients))"
   ]
  },
  {
   "cell_type": "markdown",
   "id": "cde140c4",
   "metadata": {},
   "source": [
    "* 측정 지표의 저수준 사용법"
   ]
  },
  {
   "cell_type": "code",
   "execution_count": 48,
   "id": "ec82ecc7",
   "metadata": {},
   "outputs": [
    {
     "name": "stdout",
     "output_type": "stream",
     "text": [
      "결과: 1.00\n"
     ]
    }
   ],
   "source": [
    "# 각 배치의 타킷과 예측\n",
    "metric = keras.metrics.SparseCategoricalAccuracy()\n",
    "targets = [0, 1, 2]\n",
    "predictions = [[1, 0, 0], [0, 1, 0], [0, 0, 1]]\n",
    "metric.update_state(targets, predictions) # 측정지표 API\n",
    "# 현재 지표값\n",
    "current_result = metric.result()\n",
    "print(f\"결과: {current_result:.2f}\")"
   ]
  },
  {
   "cell_type": "code",
   "execution_count": 52,
   "id": "3adab3a6",
   "metadata": {},
   "outputs": [
    {
     "name": "stdout",
     "output_type": "stream",
     "text": [
      "평균 지표: 2.00\n"
     ]
    }
   ],
   "source": [
    "# 손실 평균 추적\n",
    "values = [0, 1, 2, 3, 4]\n",
    "mean_tracker = keras.metrics.Mean()\n",
    "for value in values:\n",
    "    mean_tracker.update_state(value)\n",
    "print(f\"평균 지표: {mean_tracker.result():.2f}\")"
   ]
  },
  {
   "cell_type": "markdown",
   "id": "c3762856",
   "metadata": {},
   "source": [
    "> (훈련 에포크나 평가를 시작할 때처럼) 현재 결과를 재설정하고 싶을 때 metric.reset_state() 사용"
   ]
  },
  {
   "cell_type": "markdown",
   "id": "6b2c9d7b",
   "metadata": {},
   "source": [
    "* 완전한 훈련과 평가 루프\n",
    "     * 정방향 패스, 역방향 패스, 지표추적을 fit()과 유사한 훈련 스텝함수로 연결"
   ]
  },
  {
   "cell_type": "code",
   "execution_count": 70,
   "id": "12c5bc2e",
   "metadata": {},
   "outputs": [
    {
     "name": "stdout",
     "output_type": "stream",
     "text": [
      "Downloading data from https://storage.googleapis.com/tensorflow/tf-keras-datasets/mnist.npz\n",
      "11493376/11490434 [==============================] - 0s 0us/step\n",
      "11501568/11490434 [==============================] - 0s 0us/step\n"
     ]
    }
   ],
   "source": [
    "# 단계별 훈련 루프: 훈련 스텝 함수\n",
    "import tensorflow as tf\n",
    "from tensorflow.keras.datasets import mnist\n",
    "\n",
    "# -앞 단원 참조 \n",
    "def get_mnist_model():\n",
    "    inputs = keras.Input(shape=(28 * 28,))\n",
    "    features = layers.Dense(512, activation=\"relu\")(inputs)\n",
    "    features = layers.Dropout(0.5)(features)\n",
    "    outputs = layers.Dense(10, activation=\"softmax\")(features)\n",
    "    model = keras.Model(inputs, outputs)\n",
    "    return model\n",
    "\n",
    "(images, labels), (test_images, test_labels) = mnist.load_data()\n",
    "images = images.reshape((60000, 28 * 28)).astype(\"float32\") / 255\n",
    "test_images = test_images.reshape((10000, 28 * 28)).astype(\"float32\") / 255\n",
    "train_images, val_images = images[10000:], images[:10000]\n",
    "train_labels, val_labels = labels[10000:], labels[:10000]\n",
    "# -\n",
    "\n",
    "model = get_mnist_model()\n",
    "\n",
    "loss_fn = keras.losses.SparseCategoricalCrossentropy()\n",
    "optimizer = keras.optimizers.RMSprop()\n",
    "metrics = [keras.metrics.SparseCategoricalAccuracy()]\n",
    "loss_tracking_metric = keras.metrics.Mean()\n",
    "\n",
    "def train_step(inputs, targets):\n",
    "    with tf.GradientTape() as tape: # 정방향 패스\n",
    "        predictions = model(inputs, training=True) \n",
    "        loss = loss_fn(targets, predictions)\n",
    "    gradients = tape.gradient(loss, model.trainable_weights) # 역방향 패스\n",
    "    optimizer.apply_gradients(zip(gradients, model.trainable_weights))\n",
    "\n",
    "    logs = {}\n",
    "    for metric in metrics:\n",
    "        metric.update_state(targets, predictions)\n",
    "        logs[metric.name] = metric.result()\n",
    "\n",
    "    loss_tracking_metric.update_state(loss)\n",
    "    logs[\"loss\"] = loss_tracking_metric.result()\n",
    "    return logs"
   ]
  },
  {
   "cell_type": "code",
   "execution_count": 71,
   "id": "8154da9f",
   "metadata": {},
   "outputs": [],
   "source": [
    "# 단계별 훈련 루프: 지표 재설정\n",
    "def reset_metrics():\n",
    "    for metric in metrics:\n",
    "        metric.reset_state()\n",
    "    loss_tracking_metric.reset_state()"
   ]
  },
  {
   "cell_type": "code",
   "execution_count": 72,
   "id": "94f50d7a",
   "metadata": {},
   "outputs": [
    {
     "name": "stdout",
     "output_type": "stream",
     "text": [
      "0번째 에포크 결과\n",
      "...sparse_categorical_accuracy: 0.9151\n",
      "...loss: 0.2867\n",
      "1번째 에포크 결과\n",
      "...sparse_categorical_accuracy: 0.9541\n",
      "...loss: 0.1632\n",
      "2번째 에포크 결과\n",
      "...sparse_categorical_accuracy: 0.9625\n",
      "...loss: 0.1410\n"
     ]
    }
   ],
   "source": [
    "# 단계별 훈련 루프: 자체\n",
    "training_dataset = tf.data.Dataset.from_tensor_slices((train_images, train_labels))\n",
    "training_dataset = training_dataset.batch(32)\n",
    "epochs = 3\n",
    "for epoch in range(epochs):\n",
    "    reset_metrics()\n",
    "    for inputs_batch, targets_batch in training_dataset:\n",
    "        logs = train_step(inputs_batch, targets_batch)\n",
    "    print(f\"{epoch}번째 에포크 결과\")\n",
    "    for key, value in logs.items():\n",
    "        print(f\"...{key}: {value:.4f}\")"
   ]
  },
  {
   "cell_type": "code",
   "execution_count": 73,
   "id": "c7964a4e",
   "metadata": {},
   "outputs": [
    {
     "name": "stdout",
     "output_type": "stream",
     "text": [
      "평가 결과:\n",
      "...val_sparse_categorical_accuracy: 0.9651\n",
      "...val_loss: 0.1388\n"
     ]
    }
   ],
   "source": [
    "# 단계적 평가 루프\n",
    "def test_step(inputs, targets):\n",
    "    predictions = model(inputs, training=False)\n",
    "    loss = loss_fn(targets, predictions)\n",
    "\n",
    "    logs = {}\n",
    "    for metric in metrics:\n",
    "        metric.update_state(targets, predictions)\n",
    "        logs[\"val_\" + metric.name] = metric.result()\n",
    "\n",
    "    loss_tracking_metric.update_state(loss)\n",
    "    logs[\"val_loss\"] = loss_tracking_metric.result()\n",
    "    return logs\n",
    "\n",
    "val_dataset = tf.data.Dataset.from_tensor_slices((val_images, val_labels))\n",
    "val_dataset = val_dataset.batch(32)\n",
    "reset_metrics()\n",
    "for inputs_batch, targets_batch in val_dataset:\n",
    "    logs = test_step(inputs_batch, targets_batch)\n",
    "print(\"평가 결과:\")\n",
    "for key, value in logs.items():\n",
    "    print(f\"...{key}: {value:.4f}\")"
   ]
  },
  {
   "cell_type": "markdown",
   "id": "ee0f6ccd",
   "metadata": {},
   "source": [
    "> 위에서 fit() 메서드와 evaluate() 메서드 구현,이후 핵심적인 최적화 내용이 이어짐"
   ]
  },
  {
   "cell_type": "markdown",
   "id": "119ac854",
   "metadata": {},
   "source": [
    "*  tf.function으로 성능 높이기"
   ]
  },
  {
   "cell_type": "code",
   "execution_count": 75,
   "id": "6121fc53",
   "metadata": {},
   "outputs": [
    {
     "name": "stdout",
     "output_type": "stream",
     "text": [
      "평가 결과:\n",
      "...val_sparse_categorical_accuracy: 0.9651\n",
      "...val_loss: 0.1388\n"
     ]
    }
   ],
   "source": [
    "# 평가 스텝 함수에 @tf.function 데코레이터 추가\n",
    "@tf.function\n",
    "def test_step(inputs, targets):\n",
    "    predictions = model(inputs, training=False)\n",
    "    loss = loss_fn(targets, predictions)\n",
    "\n",
    "    logs = {}\n",
    "    for metric in metrics:\n",
    "        metric.update_state(targets, predictions)\n",
    "        logs[\"val_\" + metric.name] = metric.result()\n",
    "\n",
    "    loss_tracking_metric.update_state(loss)\n",
    "    logs[\"val_loss\"] = loss_tracking_metric.result()\n",
    "    return logs\n",
    "\n",
    "val_dataset = tf.data.Dataset.from_tensor_slices((val_images, val_labels))\n",
    "val_dataset = val_dataset.batch(32)\n",
    "reset_metrics()\n",
    "for inputs_batch, targets_batch in val_dataset:\n",
    "    logs = test_step(inputs_batch, targets_batch)\n",
    "print(\"평가 결과:\")\n",
    "for key, value in logs.items():\n",
    "    print(f\"...{key}: {value:.4f}\")"
   ]
  },
  {
   "cell_type": "markdown",
   "id": "f55b1fc0",
   "metadata": {},
   "source": [
    "> 디버깅 할 때는 데코레이터를 쓰지 말고 즉시 실행 모드를 사용\n",
    "코드가 제대로 작동하고 성능을 높이고 싶을 때 훈련스텝과 평가스텝에 @tf.function 데코레이터를 추가"
   ]
  },
  {
   "cell_type": "markdown",
   "id": "cabe5fd2",
   "metadata": {},
   "source": [
    "* fit()메서드를 사용자 정의 루프로 활용하기"
   ]
  },
  {
   "cell_type": "markdown",
   "id": "584d8f99",
   "metadata": {},
   "source": [
    "* fit()메서드와 밑바닥부터 작성한 훈련 루프 사이의 중간점  \n",
    "* 예를 들어 사용자 정의 훈련 스텝 함수를 제공하고 나머지 처리는 프레임워크에 위임  \n",
    "    1. keras.model을 상속한 클래스를 생성  \n",
    "    2. train_step(self,data) 메서드를 오버라이드  \n",
    "    3. 모델의 Metric객체들을 반환하는 metrics속성을 구현(이를 통해 reset_state()메서드를 자동 호출)"
   ]
  },
  {
   "cell_type": "code",
   "execution_count": 78,
   "id": "a1b0ca24",
   "metadata": {},
   "outputs": [],
   "source": [
    "# fit()이 사용할 사용자 정의 훈련 스텝 구현\n",
    "loss_fn = keras.losses.SparseCategoricalCrossentropy()\n",
    "loss_tracker = keras.metrics.Mean(name=\"loss\")\n",
    "\n",
    "class CustomModel(keras.Model):\n",
    "    def train_step(self, data): # train_step 메서드를 오버라이딩\n",
    "        inputs, targets = data\n",
    "        with tf.GradientTape() as tape:\n",
    "            predictions = self(inputs, training=True) # model(inputs, training=True)대신 self(inputs, training=True)사용\n",
    "            loss = loss_fn(targets, predictions)\n",
    "        gradients = tape.gradient(loss, self.trainable_weights)\n",
    "        self.optimizer.apply_gradients(zip(gradients, self.trainable_weights))\n",
    "\n",
    "        loss_tracker.update_state(loss)\n",
    "        return {\"loss\": loss_tracker.result()}\n",
    "\n",
    "    @property\n",
    "    def metrics(self): # 에포크마다 재설정할 지표는 여기에 나열\n",
    "        return [loss_tracker]"
   ]
  },
  {
   "cell_type": "code",
   "execution_count": 79,
   "id": "e4ea7cbd",
   "metadata": {},
   "outputs": [
    {
     "name": "stdout",
     "output_type": "stream",
     "text": [
      "Epoch 1/3\n",
      "1563/1563 [==============================] - 11s 7ms/step - loss: 0.2969\n",
      "Epoch 2/3\n",
      "1563/1563 [==============================] - 11s 7ms/step - loss: 0.1654\n",
      "Epoch 3/3\n",
      "1563/1563 [==============================] - 11s 7ms/step - loss: 0.1384\n"
     ]
    },
    {
     "data": {
      "text/plain": [
       "<keras.callbacks.History at 0x7985e97e59d0>"
      ]
     },
     "execution_count": 79,
     "metadata": {},
     "output_type": "execute_result"
    }
   ],
   "source": [
    "# 이제 사용자 정의 모델의 객체를 만들고, 컴파일하고,// 보통 때처럼 fit()\n",
    "inputs = keras.Input(shape=(28 * 28,))\n",
    "features = layers.Dense(512, activation=\"relu\")(inputs)\n",
    "features = layers.Dropout(0.5)(features)\n",
    "outputs = layers.Dense(10, activation=\"softmax\")(features)\n",
    "model = CustomModel(inputs, outputs)\n",
    "\n",
    "model.compile(optimizer=keras.optimizers.RMSprop()) #손실은 모델 밖에서 이미 정의\n",
    "model.fit(train_images, train_labels, epochs=3)"
   ]
  },
  {
   "cell_type": "markdown",
   "id": "9e59a508",
   "metadata": {},
   "source": [
    "> 프레임워크가 알아서 처리하기 때문에 부가적으로 train_step메서드를 오버라이딩할 때 @tf.function 데코레이터를 사용할 필요가 없다"
   ]
  },
  {
   "cell_type": "code",
   "execution_count": 80,
   "id": "2779653d",
   "metadata": {},
   "outputs": [],
   "source": [
    "# compile()메서드를 통해 지표와 손실을 설정하는 경우\n",
    "class CustomModel(keras.Model):\n",
    "    def train_step(self, data):\n",
    "        inputs, targets = data\n",
    "        with tf.GradientTape() as tape:\n",
    "            predictions = self(inputs, training=True)\n",
    "            loss = self.compiled_loss(targets, predictions) # self.compiled_loss\n",
    "        gradients = tape.gradient(loss, self.trainable_weights) \n",
    "        self.optimizer.apply_gradients(zip(gradients, self.trainable_weights))\n",
    "        self.compiled_metrics.update_state(targets, predictions) # self.compiled.metrics\n",
    "        return {m.name: m.result() for m in self.metrics} # self.metrics"
   ]
  },
  {
   "cell_type": "code",
   "execution_count": 81,
   "id": "98af0e46",
   "metadata": {},
   "outputs": [
    {
     "name": "stdout",
     "output_type": "stream",
     "text": [
      "Epoch 1/3\n",
      "1563/1563 [==============================] - 12s 7ms/step - loss: 0.2952 - sparse_categorical_accuracy: 0.9122\n",
      "Epoch 2/3\n",
      "1563/1563 [==============================] - 11s 7ms/step - loss: 0.1648 - sparse_categorical_accuracy: 0.9535\n",
      "Epoch 3/3\n",
      "1563/1563 [==============================] - 11s 7ms/step - loss: 0.1416 - sparse_categorical_accuracy: 0.9618\n"
     ]
    },
    {
     "data": {
      "text/plain": [
       "<keras.callbacks.History at 0x7985e8ec9520>"
      ]
     },
     "execution_count": 81,
     "metadata": {},
     "output_type": "execute_result"
    }
   ],
   "source": [
    "# 잘 작동하나 보자!\n",
    "inputs = keras.Input(shape=(28 * 28,))\n",
    "features = layers.Dense(512, activation=\"relu\")(inputs)\n",
    "features = layers.Dropout(0.5)(features)\n",
    "outputs = layers.Dense(10, activation=\"softmax\")(features)\n",
    "model = CustomModel(inputs, outputs)\n",
    "\n",
    "model.compile(optimizer=keras.optimizers.RMSprop(),\n",
    "              loss=keras.losses.SparseCategoricalCrossentropy(),\n",
    "              metrics=[keras.metrics.SparseCategoricalAccuracy()])\n",
    "model.fit(train_images, train_labels, epochs=3)"
   ]
  },
  {
   "cell_type": "markdown",
   "id": "bc8b7996",
   "metadata": {},
   "source": [
    "# 회고"
   ]
  },
  {
   "cell_type": "markdown",
   "id": "76c10335",
   "metadata": {},
   "source": [
    "* 실험환경이 각각 달라 이해의 어려움이 있었고, 기본 지식의 차이가 있는 점에서 개인적 부족함을 느꼈다.\n",
    "* dense layer가 늘어나면 결과가 오히려 악화되는 이유를 교육과정 중에 확인해야 겠다."
   ]
  },
  {
   "cell_type": "code",
   "execution_count": null,
   "id": "0206f753",
   "metadata": {},
   "outputs": [],
   "source": []
  }
 ],
 "metadata": {
  "kernelspec": {
   "display_name": "Python 3 (ipykernel)",
   "language": "python",
   "name": "python3"
  },
  "language_info": {
   "codemirror_mode": {
    "name": "ipython",
    "version": 3
   },
   "file_extension": ".py",
   "mimetype": "text/x-python",
   "name": "python",
   "nbconvert_exporter": "python",
   "pygments_lexer": "ipython3",
   "version": "3.9.7"
  }
 },
 "nbformat": 4,
 "nbformat_minor": 5
}
